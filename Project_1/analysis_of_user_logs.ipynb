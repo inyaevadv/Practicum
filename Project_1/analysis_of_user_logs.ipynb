{
 "cells": [
  {
   "cell_type": "markdown",
   "metadata": {},
   "source": [
    "# Анализ поведения пользователей мобильного приложения."
   ]
  },
  {
   "cell_type": "markdown",
   "metadata": {},
   "source": [
    "**Цель проекта:** анализ потенциального изменения пользовательской активности в результате изменения шрифта в приложении.\n",
    "\n",
    "**Задачи проекта:**\n",
    "•\tизучить воронку событий;\n",
    "•\tпроанализировать A/А-тест;\n",
    "•\tпроанализировать A/B-тест;\n",
    "\n",
    "**Данные:**\tлоги поведения пользователей."
   ]
  },
  {
   "cell_type": "markdown",
   "metadata": {},
   "source": [
    "**Шаг 1. Общая информация о данных** "
   ]
  },
  {
   "cell_type": "code",
   "execution_count": 1,
   "metadata": {},
   "outputs": [],
   "source": [
    "#импортируем библиотеки\n",
    "import pandas as pd\n",
    "import matplotlib.pyplot as plt\n",
    "import warnings\n",
    "from scipy import stats as st\n",
    "import numpy as np\n",
    "import math as mth\n",
    "import seaborn as sns\n",
    "import plotly.express as px\n",
    "from plotly import graph_objects as go"
   ]
  },
  {
   "cell_type": "code",
   "execution_count": 2,
   "metadata": {
    "scrolled": true
   },
   "outputs": [
    {
     "data": {
      "text/html": [
       "<div>\n",
       "<style scoped>\n",
       "    .dataframe tbody tr th:only-of-type {\n",
       "        vertical-align: middle;\n",
       "    }\n",
       "\n",
       "    .dataframe tbody tr th {\n",
       "        vertical-align: top;\n",
       "    }\n",
       "\n",
       "    .dataframe thead th {\n",
       "        text-align: right;\n",
       "    }\n",
       "</style>\n",
       "<table border=\"1\" class=\"dataframe\">\n",
       "  <thead>\n",
       "    <tr style=\"text-align: right;\">\n",
       "      <th></th>\n",
       "      <th>EventName</th>\n",
       "      <th>DeviceIDHash</th>\n",
       "      <th>EventTimestamp</th>\n",
       "      <th>ExpId</th>\n",
       "    </tr>\n",
       "  </thead>\n",
       "  <tbody>\n",
       "    <tr>\n",
       "      <th>0</th>\n",
       "      <td>MainScreenAppear</td>\n",
       "      <td>4575588528974610257</td>\n",
       "      <td>1564029816</td>\n",
       "      <td>246</td>\n",
       "    </tr>\n",
       "    <tr>\n",
       "      <th>1</th>\n",
       "      <td>MainScreenAppear</td>\n",
       "      <td>7416695313311560658</td>\n",
       "      <td>1564053102</td>\n",
       "      <td>246</td>\n",
       "    </tr>\n",
       "    <tr>\n",
       "      <th>2</th>\n",
       "      <td>PaymentScreenSuccessful</td>\n",
       "      <td>3518123091307005509</td>\n",
       "      <td>1564054127</td>\n",
       "      <td>248</td>\n",
       "    </tr>\n",
       "    <tr>\n",
       "      <th>3</th>\n",
       "      <td>CartScreenAppear</td>\n",
       "      <td>3518123091307005509</td>\n",
       "      <td>1564054127</td>\n",
       "      <td>248</td>\n",
       "    </tr>\n",
       "    <tr>\n",
       "      <th>4</th>\n",
       "      <td>PaymentScreenSuccessful</td>\n",
       "      <td>6217807653094995999</td>\n",
       "      <td>1564055322</td>\n",
       "      <td>248</td>\n",
       "    </tr>\n",
       "  </tbody>\n",
       "</table>\n",
       "</div>"
      ],
      "text/plain": [
       "                 EventName         DeviceIDHash  EventTimestamp  ExpId\n",
       "0         MainScreenAppear  4575588528974610257      1564029816    246\n",
       "1         MainScreenAppear  7416695313311560658      1564053102    246\n",
       "2  PaymentScreenSuccessful  3518123091307005509      1564054127    248\n",
       "3         CartScreenAppear  3518123091307005509      1564054127    248\n",
       "4  PaymentScreenSuccessful  6217807653094995999      1564055322    248"
      ]
     },
     "execution_count": 2,
     "metadata": {},
     "output_type": "execute_result"
    }
   ],
   "source": [
    "#считываем и смотрим данные\n",
    "data = pd.read_csv('C:\\\\Users\\\\Дарья\\\\Desktop\\\\Сборный_2\\\\logs_exp (1).csv', sep='\\t')\n",
    "data.head()"
   ]
  },
  {
   "cell_type": "code",
   "execution_count": 3,
   "metadata": {},
   "outputs": [
    {
     "name": "stdout",
     "output_type": "stream",
     "text": [
      "<class 'pandas.core.frame.DataFrame'>\n",
      "RangeIndex: 244126 entries, 0 to 244125\n",
      "Data columns (total 4 columns):\n",
      " #   Column          Non-Null Count   Dtype \n",
      "---  ------          --------------   ----- \n",
      " 0   EventName       244126 non-null  object\n",
      " 1   DeviceIDHash    244126 non-null  int64 \n",
      " 2   EventTimestamp  244126 non-null  int64 \n",
      " 3   ExpId           244126 non-null  int64 \n",
      "dtypes: int64(3), object(1)\n",
      "memory usage: 7.5+ MB\n"
     ]
    }
   ],
   "source": [
    "#смотрим общую информацию о данных\n",
    "data.info()"
   ]
  },
  {
   "cell_type": "markdown",
   "metadata": {},
   "source": [
    "**Шаг 2.  Подготовка данных** "
   ]
  },
  {
   "cell_type": "markdown",
   "metadata": {},
   "source": [
    "Пропусков в данных нет. Столбец с данными о дате имеет тип int, менять на datetime не будем, далее добавим столбец с датой с соответствующим типом, используя для преобразования данный столбец. Приведем наименование столбцов к нижнему \"змениному\" регистру, проверим данные на явные дубликаты."
   ]
  },
  {
   "cell_type": "code",
   "execution_count": 4,
   "metadata": {},
   "outputs": [
    {
     "data": {
      "text/plain": [
       "Index(['eventname', 'deviceidhash', 'eventtimestamp', 'expid'], dtype='object')"
      ]
     },
     "execution_count": 4,
     "metadata": {},
     "output_type": "execute_result"
    }
   ],
   "source": [
    "#переименуем столбцы\n",
    "#нижний регистр\n",
    "data.columns = data.columns.str.lower()\n",
    "data.columns"
   ]
  },
  {
   "cell_type": "code",
   "execution_count": 5,
   "metadata": {},
   "outputs": [
    {
     "data": {
      "text/plain": [
       "Index(['event_name', 'device_id_hash', 'event_timestamp', 'exp_id'], dtype='object')"
      ]
     },
     "execution_count": 5,
     "metadata": {},
     "output_type": "execute_result"
    }
   ],
   "source": [
    "#\"змеиный\" регистр\n",
    "data = data.rename(columns={'eventname': 'event_name', 'deviceidhash': 'device_id_hash',\\\n",
    "                            'eventtimestamp': 'event_timestamp', 'expid': 'exp_id'})\n",
    "data.columns"
   ]
  },
  {
   "cell_type": "code",
   "execution_count": 6,
   "metadata": {},
   "outputs": [
    {
     "data": {
      "text/plain": [
       "413"
      ]
     },
     "execution_count": 6,
     "metadata": {},
     "output_type": "execute_result"
    }
   ],
   "source": [
    "#Проверка на явные дубликаты\n",
    "data.duplicated().sum()"
   ]
  },
  {
   "cell_type": "code",
   "execution_count": 7,
   "metadata": {},
   "outputs": [
    {
     "data": {
      "text/plain": [
       "0"
      ]
     },
     "execution_count": 7,
     "metadata": {},
     "output_type": "execute_result"
    }
   ],
   "source": [
    "#удаляем дубликаты\n",
    "data = data.drop_duplicates().reset_index(drop=True)\n",
    "data.duplicated().sum()"
   ]
  },
  {
   "cell_type": "code",
   "execution_count": 8,
   "metadata": {},
   "outputs": [
    {
     "name": "stdout",
     "output_type": "stream",
     "text": [
      "<class 'pandas.core.frame.DataFrame'>\n",
      "RangeIndex: 243713 entries, 0 to 243712\n",
      "Data columns (total 5 columns):\n",
      " #   Column           Non-Null Count   Dtype         \n",
      "---  ------           --------------   -----         \n",
      " 0   event_name       243713 non-null  object        \n",
      " 1   device_id_hash   243713 non-null  int64         \n",
      " 2   event_timestamp  243713 non-null  int64         \n",
      " 3   exp_id           243713 non-null  int64         \n",
      " 4   event_datetime   243713 non-null  datetime64[ns]\n",
      "dtypes: datetime64[ns](1), int64(3), object(1)\n",
      "memory usage: 9.3+ MB\n"
     ]
    }
   ],
   "source": [
    "#добавляем столбец с датой и временем\n",
    "data['event_datetime'] = pd.to_datetime(data['event_timestamp'], unit='s')\n",
    "data.info()"
   ]
  },
  {
   "cell_type": "code",
   "execution_count": 9,
   "metadata": {},
   "outputs": [
    {
     "name": "stdout",
     "output_type": "stream",
     "text": [
      "<class 'pandas.core.frame.DataFrame'>\n",
      "RangeIndex: 243713 entries, 0 to 243712\n",
      "Data columns (total 6 columns):\n",
      " #   Column           Non-Null Count   Dtype         \n",
      "---  ------           --------------   -----         \n",
      " 0   event_name       243713 non-null  object        \n",
      " 1   device_id_hash   243713 non-null  int64         \n",
      " 2   event_timestamp  243713 non-null  int64         \n",
      " 3   exp_id           243713 non-null  int64         \n",
      " 4   event_datetime   243713 non-null  datetime64[ns]\n",
      " 5   event_date       243713 non-null  datetime64[ns]\n",
      "dtypes: datetime64[ns](2), int64(3), object(1)\n",
      "memory usage: 11.2+ MB\n"
     ]
    }
   ],
   "source": [
    "#добавляем столбей с датой\n",
    "data['event_date'] = data['event_datetime'].astype('datetime64[D]')\n",
    "data.info()"
   ]
  },
  {
   "cell_type": "markdown",
   "metadata": {},
   "source": [
    "**Шаг 3.  Проверка данных** "
   ]
  },
  {
   "cell_type": "code",
   "execution_count": 10,
   "metadata": {},
   "outputs": [
    {
     "name": "stdout",
     "output_type": "stream",
     "text": [
      "Событий в логе:  243713\n"
     ]
    }
   ],
   "source": [
    "#всего событий в логе\n",
    "print('Событий в логе: ', data['event_name'].count())"
   ]
  },
  {
   "cell_type": "code",
   "execution_count": 11,
   "metadata": {},
   "outputs": [
    {
     "name": "stdout",
     "output_type": "stream",
     "text": [
      "Количество пользователей:  7551\n"
     ]
    }
   ],
   "source": [
    "#количество пользователей\n",
    "print('Количество пользователей: ', len(data['device_id_hash'].unique()))"
   ]
  },
  {
   "cell_type": "code",
   "execution_count": 12,
   "metadata": {},
   "outputs": [
    {
     "name": "stdout",
     "output_type": "stream",
     "text": [
      "Среднее количество событий на пользователя:  32\n"
     ]
    }
   ],
   "source": [
    "#среднее количество событий на пользователя\n",
    "print('Среднее количество событий на пользователя: ', round(data['event_name'].count()/len(data['device_id_hash'].unique())))"
   ]
  },
  {
   "cell_type": "code",
   "execution_count": 13,
   "metadata": {},
   "outputs": [
    {
     "name": "stdout",
     "output_type": "stream",
     "text": [
      "Максимальная дата лога: 2019-08-07 00:00:00\n"
     ]
    }
   ],
   "source": [
    "print('Максимальная дата лога:', data['event_date'].max())"
   ]
  },
  {
   "cell_type": "code",
   "execution_count": 14,
   "metadata": {},
   "outputs": [
    {
     "name": "stdout",
     "output_type": "stream",
     "text": [
      "Минимальная дата лога: 2019-07-25 00:00:00\n"
     ]
    }
   ],
   "source": [
    "print('Минимальная дата лога:', data['event_date'].min())"
   ]
  },
  {
   "cell_type": "markdown",
   "metadata": {},
   "source": [
    "Располагаем событиями за период с 25.07.2019 по 07.08.2019 г. Посмотрим на распределение данных по дате и времени."
   ]
  },
  {
   "cell_type": "code",
   "execution_count": 15,
   "metadata": {},
   "outputs": [
    {
     "data": {
      "image/png": "[encoded data removed]",
      "text/plain": [
       "<Figure size 1000x600 with 1 Axes>"
      ]
     },
     "metadata": {},
     "output_type": "display_data"
    }
   ],
   "source": [
    "#рисуем гистограмму\n",
    "plt.figure(figsize=(10,6))\n",
    "plt.xticks(rotation=45)\n",
    "plt.title('Распределение данных по дате и времени')\n",
    "plt.xlabel('Даты в логе')\n",
    "plt.ylabel('Частота')\n",
    "data['event_datetime'].hist(bins=20);"
   ]
  },
  {
   "cell_type": "markdown",
   "metadata": {},
   "source": [
    "Технически в логи новых дней по некоторым пользователям могут дозаписываться события из прошлого, что мы скорее всего и видим на графике - за июль очень мало данных. Для анализа оставим данные с 1 августа."
   ]
  },
  {
   "cell_type": "code",
   "execution_count": 16,
   "metadata": {},
   "outputs": [
    {
     "name": "stdout",
     "output_type": "stream",
     "text": [
      "<class 'pandas.core.frame.DataFrame'>\n",
      "Int64Index: 240887 entries, 2826 to 243712\n",
      "Data columns (total 6 columns):\n",
      " #   Column           Non-Null Count   Dtype         \n",
      "---  ------           --------------   -----         \n",
      " 0   event_name       240887 non-null  object        \n",
      " 1   device_id_hash   240887 non-null  int64         \n",
      " 2   event_timestamp  240887 non-null  int64         \n",
      " 3   exp_id           240887 non-null  int64         \n",
      " 4   event_datetime   240887 non-null  datetime64[ns]\n",
      " 5   event_date       240887 non-null  datetime64[ns]\n",
      "dtypes: datetime64[ns](2), int64(3), object(1)\n",
      "memory usage: 12.9+ MB\n"
     ]
    }
   ],
   "source": [
    "#фильтруем\n",
    "data_filtered = data.query('event_date >= \"2019-08-01\"')\n",
    "data_filtered.info()"
   ]
  },
  {
   "cell_type": "markdown",
   "metadata": {},
   "source": [
    "Посмотрим что осталось в данных."
   ]
  },
  {
   "cell_type": "code",
   "execution_count": 17,
   "metadata": {},
   "outputs": [
    {
     "name": "stdout",
     "output_type": "stream",
     "text": [
      "Kоличество \"потерянных\" событий:  2826\n"
     ]
    }
   ],
   "source": [
    "#количество \"потерянных\" событий\n",
    "print('Kоличество \"потерянных\" событий: ', data['event_name'].count() \\\n",
    "      - data_filtered['event_name'].count())"
   ]
  },
  {
   "cell_type": "code",
   "execution_count": 18,
   "metadata": {},
   "outputs": [
    {
     "name": "stdout",
     "output_type": "stream",
     "text": [
      "Процент \"потерянных\" событий:  1.2\n"
     ]
    }
   ],
   "source": [
    "#процент \"потерянных\" событий\n",
    "print('Процент \"потерянных\" событий: ', round((data['event_name'].count() - data_filtered['event_name'].count())*100 \\\n",
    "      /data['event_name'].count(), 1))"
   ]
  },
  {
   "cell_type": "code",
   "execution_count": 19,
   "metadata": {},
   "outputs": [
    {
     "name": "stdout",
     "output_type": "stream",
     "text": [
      "Количество \"потерянных\" пользователей:  17\n"
     ]
    }
   ],
   "source": [
    "#количество \"потерянных\" пользователей\n",
    "print('Количество \"потерянных\" пользователей: ', len(data['device_id_hash'].unique()) - len(data_filtered['device_id_hash'].unique()))"
   ]
  },
  {
   "cell_type": "code",
   "execution_count": 20,
   "metadata": {},
   "outputs": [
    {
     "name": "stdout",
     "output_type": "stream",
     "text": [
      "Процент \"потерянных\" пользователей:  0.2 %\n"
     ]
    }
   ],
   "source": [
    "#процент \"потерянных\" пользователей\n",
    "print('Процент \"потерянных\" пользователей: ', round((len(data['device_id_hash'].unique()) - len(data_filtered['device_id_hash'].unique()))*100 \\\n",
    "      /len(data['device_id_hash'].unique()), 1), '%')"
   ]
  },
  {
   "cell_type": "markdown",
   "metadata": {},
   "source": [
    "Проверим участие оставшихся пользователей во всех трех группах."
   ]
  },
  {
   "cell_type": "code",
   "execution_count": 21,
   "metadata": {},
   "outputs": [
    {
     "data": {
      "text/plain": [
       "array([246, 247, 248], dtype=int64)"
      ]
     },
     "execution_count": 21,
     "metadata": {},
     "output_type": "execute_result"
    }
   ],
   "source": [
    "data_filtered['exp_id'].unique()"
   ]
  },
  {
   "cell_type": "markdown",
   "metadata": {},
   "source": [
    "Пользователи распределены по трем группам."
   ]
  },
  {
   "cell_type": "markdown",
   "metadata": {},
   "source": [
    "**Шаг 4. Воронка событий** "
   ]
  },
  {
   "cell_type": "code",
   "execution_count": 22,
   "metadata": {},
   "outputs": [
    {
     "data": {
      "text/plain": [
       "MainScreenAppear           117328\n",
       "OffersScreenAppear          46333\n",
       "CartScreenAppear            42303\n",
       "PaymentScreenSuccessful     33918\n",
       "Tutorial                     1005\n",
       "Name: event_name, dtype: int64"
      ]
     },
     "execution_count": 22,
     "metadata": {},
     "output_type": "execute_result"
    }
   ],
   "source": [
    "#события в логах\n",
    "data_filtered['event_name'].value_counts()"
   ]
  },
  {
   "cell_type": "code",
   "execution_count": 23,
   "metadata": {},
   "outputs": [
    {
     "data": {
      "text/html": [
       "<div>\n",
       "<style scoped>\n",
       "    .dataframe tbody tr th:only-of-type {\n",
       "        vertical-align: middle;\n",
       "    }\n",
       "\n",
       "    .dataframe tbody tr th {\n",
       "        vertical-align: top;\n",
       "    }\n",
       "\n",
       "    .dataframe thead th {\n",
       "        text-align: right;\n",
       "    }\n",
       "</style>\n",
       "<table border=\"1\" class=\"dataframe\">\n",
       "  <thead>\n",
       "    <tr style=\"text-align: right;\">\n",
       "      <th></th>\n",
       "      <th>event_name</th>\n",
       "      <th>device_id_hash_count</th>\n",
       "      <th>perc_users</th>\n",
       "    </tr>\n",
       "  </thead>\n",
       "  <tbody>\n",
       "    <tr>\n",
       "      <th>0</th>\n",
       "      <td>MainScreenAppear</td>\n",
       "      <td>7419</td>\n",
       "      <td>98.5</td>\n",
       "    </tr>\n",
       "    <tr>\n",
       "      <th>1</th>\n",
       "      <td>OffersScreenAppear</td>\n",
       "      <td>4593</td>\n",
       "      <td>61.0</td>\n",
       "    </tr>\n",
       "    <tr>\n",
       "      <th>2</th>\n",
       "      <td>CartScreenAppear</td>\n",
       "      <td>3734</td>\n",
       "      <td>49.6</td>\n",
       "    </tr>\n",
       "    <tr>\n",
       "      <th>3</th>\n",
       "      <td>PaymentScreenSuccessful</td>\n",
       "      <td>3539</td>\n",
       "      <td>47.0</td>\n",
       "    </tr>\n",
       "    <tr>\n",
       "      <th>4</th>\n",
       "      <td>Tutorial</td>\n",
       "      <td>840</td>\n",
       "      <td>11.1</td>\n",
       "    </tr>\n",
       "  </tbody>\n",
       "</table>\n",
       "</div>"
      ],
      "text/plain": [
       "                event_name  device_id_hash_count  perc_users\n",
       "0         MainScreenAppear                  7419        98.5\n",
       "1       OffersScreenAppear                  4593        61.0\n",
       "2         CartScreenAppear                  3734        49.6\n",
       "3  PaymentScreenSuccessful                  3539        47.0\n",
       "4                 Tutorial                   840        11.1"
      ]
     },
     "execution_count": 23,
     "metadata": {},
     "output_type": "execute_result"
    }
   ],
   "source": [
    "#воронка событий\n",
    "data_funnel = data_filtered.groupby('event_name').agg({'device_id_hash': 'nunique'}).\\\n",
    "sort_values(by='device_id_hash', ascending=False).reset_index()\n",
    "data_funnel.columns = ['event_name', 'device_id_hash_count']\n",
    "data_funnel['perc_users'] = round(data_funnel['device_id_hash_count']*100\\\n",
    "                                  /data_filtered['device_id_hash'].nunique(),1)\n",
    "data_funnel"
   ]
  },
  {
   "cell_type": "code",
   "execution_count": 24,
   "metadata": {},
   "outputs": [
    {
     "data": {
      "image/png": "[encoded data removed]",
      "text/plain": [
       "<Figure size 1500x500 with 1 Axes>"
      ]
     },
     "metadata": {},
     "output_type": "display_data"
    }
   ],
   "source": [
    "plt.figure(figsize=(15, 5))\n",
    "ax = sns.barplot(x='device_id_hash_count', y='event_name', data=data_funnel, alpha=0.6, orient='h')\n",
    "ax.set_title('Воронка событий', loc='Left')\n",
    "ax.set_xlabel('Количество') \n",
    "ax.set_ylabel('') \n",
    "plt.show()"
   ]
  },
  {
   "cell_type": "markdown",
   "metadata": {},
   "source": [
    "Предполагаю, что данные события должны происходить в следующем порядке: MainScreenAppear --> Tutorial --> OffersScreenAppear --> CartScreenAppear --> PaymentScreenAppear. При этом, по количеству пользователей, совершающих каждое событие, видим, что Tutorial  занимает логически-непоследовательное место в цепочке: только 11% пользователей, увидевших главную страницу сайта, проходят \"обучение\"(возможно речь идет о правилах использования сайта). Т.о., событие Tutorial исключаем из расчёта воронки."
   ]
  },
  {
   "cell_type": "code",
   "execution_count": 25,
   "metadata": {},
   "outputs": [
    {
     "data": {
      "text/html": [
       "<div>\n",
       "<style scoped>\n",
       "    .dataframe tbody tr th:only-of-type {\n",
       "        vertical-align: middle;\n",
       "    }\n",
       "\n",
       "    .dataframe tbody tr th {\n",
       "        vertical-align: top;\n",
       "    }\n",
       "\n",
       "    .dataframe thead th {\n",
       "        text-align: right;\n",
       "    }\n",
       "</style>\n",
       "<table border=\"1\" class=\"dataframe\">\n",
       "  <thead>\n",
       "    <tr style=\"text-align: right;\">\n",
       "      <th></th>\n",
       "      <th>event_name</th>\n",
       "      <th>device_id_hash_count</th>\n",
       "      <th>perc_users</th>\n",
       "    </tr>\n",
       "  </thead>\n",
       "  <tbody>\n",
       "    <tr>\n",
       "      <th>0</th>\n",
       "      <td>MainScreenAppear</td>\n",
       "      <td>7419</td>\n",
       "      <td>98.5</td>\n",
       "    </tr>\n",
       "    <tr>\n",
       "      <th>1</th>\n",
       "      <td>OffersScreenAppear</td>\n",
       "      <td>4593</td>\n",
       "      <td>61.0</td>\n",
       "    </tr>\n",
       "    <tr>\n",
       "      <th>2</th>\n",
       "      <td>CartScreenAppear</td>\n",
       "      <td>3734</td>\n",
       "      <td>49.6</td>\n",
       "    </tr>\n",
       "    <tr>\n",
       "      <th>3</th>\n",
       "      <td>PaymentScreenSuccessful</td>\n",
       "      <td>3539</td>\n",
       "      <td>47.0</td>\n",
       "    </tr>\n",
       "  </tbody>\n",
       "</table>\n",
       "</div>"
      ],
      "text/plain": [
       "                event_name  device_id_hash_count  perc_users\n",
       "0         MainScreenAppear                  7419        98.5\n",
       "1       OffersScreenAppear                  4593        61.0\n",
       "2         CartScreenAppear                  3734        49.6\n",
       "3  PaymentScreenSuccessful                  3539        47.0"
      ]
     },
     "execution_count": 25,
     "metadata": {},
     "output_type": "execute_result"
    }
   ],
   "source": [
    "data_funnel = data_filtered.query('event_name != \"Tutorial\"').groupby('event_name').\\\n",
    "agg({'device_id_hash': 'nunique'}).sort_values(by='device_id_hash', ascending=False).reset_index()\n",
    "data_funnel.columns = ['event_name', 'device_id_hash_count']\n",
    "data_funnel['perc_users'] = round(data_funnel['device_id_hash_count']*100\\\n",
    "                                  /data_filtered['device_id_hash'].nunique(),1)\n",
    "data_funnel"
   ]
  },
  {
   "cell_type": "code",
   "execution_count": 26,
   "metadata": {
    "scrolled": true
   },
   "outputs": [
    {
     "data": {
      "text/html": [
       "<div>\n",
       "<style scoped>\n",
       "    .dataframe tbody tr th:only-of-type {\n",
       "        vertical-align: middle;\n",
       "    }\n",
       "\n",
       "    .dataframe tbody tr th {\n",
       "        vertical-align: top;\n",
       "    }\n",
       "\n",
       "    .dataframe thead th {\n",
       "        text-align: right;\n",
       "    }\n",
       "</style>\n",
       "<table border=\"1\" class=\"dataframe\">\n",
       "  <thead>\n",
       "    <tr style=\"text-align: right;\">\n",
       "      <th></th>\n",
       "      <th>event_name</th>\n",
       "      <th>device_id_hash_count</th>\n",
       "      <th>perc_users</th>\n",
       "      <th>perc_save_users</th>\n",
       "    </tr>\n",
       "  </thead>\n",
       "  <tbody>\n",
       "    <tr>\n",
       "      <th>0</th>\n",
       "      <td>MainScreenAppear</td>\n",
       "      <td>7419</td>\n",
       "      <td>98.5</td>\n",
       "      <td></td>\n",
       "    </tr>\n",
       "    <tr>\n",
       "      <th>1</th>\n",
       "      <td>OffersScreenAppear</td>\n",
       "      <td>4593</td>\n",
       "      <td>61.0</td>\n",
       "      <td>62</td>\n",
       "    </tr>\n",
       "    <tr>\n",
       "      <th>2</th>\n",
       "      <td>CartScreenAppear</td>\n",
       "      <td>3734</td>\n",
       "      <td>49.6</td>\n",
       "      <td>81</td>\n",
       "    </tr>\n",
       "    <tr>\n",
       "      <th>3</th>\n",
       "      <td>PaymentScreenSuccessful</td>\n",
       "      <td>3539</td>\n",
       "      <td>47.0</td>\n",
       "      <td>95</td>\n",
       "    </tr>\n",
       "  </tbody>\n",
       "</table>\n",
       "</div>"
      ],
      "text/plain": [
       "                event_name  device_id_hash_count  perc_users perc_save_users\n",
       "0         MainScreenAppear                  7419        98.5                \n",
       "1       OffersScreenAppear                  4593        61.0              62\n",
       "2         CartScreenAppear                  3734        49.6              81\n",
       "3  PaymentScreenSuccessful                  3539        47.0              95"
      ]
     },
     "execution_count": 26,
     "metadata": {},
     "output_type": "execute_result"
    }
   ],
   "source": [
    "#считаем доли пользователей, проходящих на следующий шаг воронки (столбец perc_save_users)\n",
    "warnings.filterwarnings('ignore') # отключаем предупреждения\n",
    "data_funnel['perc_save_users'] = \"\"\n",
    "for i in range(1, len(data_funnel['event_name'])):\n",
    "    data_funnel['perc_save_users'][i] = round(data_funnel['device_id_hash_count'][i]*100/data_funnel['device_id_hash_count'][i-1])\n",
    "data_funnel    "
   ]
  },
  {
   "cell_type": "markdown",
   "metadata": {},
   "source": [
    "Больше всего пользователей теряется на переходе с главного экрана на экран предложений. Посчитаем долю пользователей, доходящих от первого события до оплаты."
   ]
  },
  {
   "cell_type": "code",
   "execution_count": 27,
   "metadata": {},
   "outputs": [
    {
     "name": "stdout",
     "output_type": "stream",
     "text": [
      "Доля пользователей, доходящих до оплаты: 48\n"
     ]
    }
   ],
   "source": [
    "print('Доля пользователей, доходящих до оплаты:', \\\n",
    "      round(data_funnel['device_id_hash_count'][3]*100 / data_funnel['device_id_hash_count'][0]))"
   ]
  },
  {
   "cell_type": "markdown",
   "metadata": {},
   "source": [
    "**Шаг 5. Результаты эксперимента** "
   ]
  },
  {
   "cell_type": "markdown",
   "metadata": {},
   "source": [
    "*5.1 Количество пользователей в каждой экспериментальной группе* "
   ]
  },
  {
   "cell_type": "code",
   "execution_count": 28,
   "metadata": {},
   "outputs": [
    {
     "data": {
      "text/html": [
       "<div>\n",
       "<style scoped>\n",
       "    .dataframe tbody tr th:only-of-type {\n",
       "        vertical-align: middle;\n",
       "    }\n",
       "\n",
       "    .dataframe tbody tr th {\n",
       "        vertical-align: top;\n",
       "    }\n",
       "\n",
       "    .dataframe thead th {\n",
       "        text-align: right;\n",
       "    }\n",
       "</style>\n",
       "<table border=\"1\" class=\"dataframe\">\n",
       "  <thead>\n",
       "    <tr style=\"text-align: right;\">\n",
       "      <th></th>\n",
       "      <th>device_id_hash</th>\n",
       "    </tr>\n",
       "    <tr>\n",
       "      <th>exp_id</th>\n",
       "      <th></th>\n",
       "    </tr>\n",
       "  </thead>\n",
       "  <tbody>\n",
       "    <tr>\n",
       "      <th>246</th>\n",
       "      <td>2484</td>\n",
       "    </tr>\n",
       "    <tr>\n",
       "      <th>247</th>\n",
       "      <td>2513</td>\n",
       "    </tr>\n",
       "    <tr>\n",
       "      <th>248</th>\n",
       "      <td>2537</td>\n",
       "    </tr>\n",
       "  </tbody>\n",
       "</table>\n",
       "</div>"
      ],
      "text/plain": [
       "        device_id_hash\n",
       "exp_id                \n",
       "246               2484\n",
       "247               2513\n",
       "248               2537"
      ]
     },
     "execution_count": 28,
     "metadata": {},
     "output_type": "execute_result"
    }
   ],
   "source": [
    "user_exp = data_filtered.groupby('exp_id').agg({'device_id_hash': 'nunique'})\n",
    "user_exp"
   ]
  },
  {
   "cell_type": "markdown",
   "metadata": {},
   "source": [
    "*5.2 Разница статитических критериев выборок 246 и 247* "
   ]
  },
  {
   "cell_type": "code",
   "execution_count": 29,
   "metadata": {},
   "outputs": [
    {
     "name": "stdout",
     "output_type": "stream",
     "text": [
      "Группы 246 и 247 по количеству участников отличаются на 1.15 %\n"
     ]
    }
   ],
   "source": [
    "#различия в количестве участников\n",
    "print('Группы 246 и 247 по количеству участников отличаются на',\\\n",
    "      round((1 - user_exp.loc[246,'device_id_hash']/user_exp.loc[247,'device_id_hash'])*100,2),'%')"
   ]
  },
  {
   "cell_type": "code",
   "execution_count": 30,
   "metadata": {},
   "outputs": [
    {
     "data": {
      "text/html": [
       "<div>\n",
       "<style scoped>\n",
       "    .dataframe tbody tr th:only-of-type {\n",
       "        vertical-align: middle;\n",
       "    }\n",
       "\n",
       "    .dataframe tbody tr th {\n",
       "        vertical-align: top;\n",
       "    }\n",
       "\n",
       "    .dataframe thead th {\n",
       "        text-align: right;\n",
       "    }\n",
       "</style>\n",
       "<table border=\"1\" class=\"dataframe\">\n",
       "  <thead>\n",
       "    <tr style=\"text-align: right;\">\n",
       "      <th></th>\n",
       "      <th>exp_id</th>\n",
       "    </tr>\n",
       "    <tr>\n",
       "      <th>device_id_hash</th>\n",
       "      <th></th>\n",
       "    </tr>\n",
       "  </thead>\n",
       "  <tbody>\n",
       "  </tbody>\n",
       "</table>\n",
       "</div>"
      ],
      "text/plain": [
       "Empty DataFrame\n",
       "Columns: [exp_id]\n",
       "Index: []"
      ]
     },
     "execution_count": 30,
     "metadata": {},
     "output_type": "execute_result"
    }
   ],
   "source": [
    "#участие пользователей в нескольких группах\n",
    "data_filtered.groupby('device_id_hash').agg({'exp_id': 'nunique'}).query('exp_id > 1')"
   ]
  },
  {
   "cell_type": "markdown",
   "metadata": {},
   "source": [
    "Разница в количестве пользователей в группах ~1%. Нет пользователей, учавствующих в эксперименте в нескольких группах. Будем считать приемлемыми статистические критерии различий между контрольными группами."
   ]
  },
  {
   "cell_type": "markdown",
   "metadata": {},
   "source": [
    "*5.3 A/A - тест* "
   ]
  },
  {
   "cell_type": "code",
   "execution_count": 31,
   "metadata": {},
   "outputs": [
    {
     "data": {
      "text/html": [
       "<div>\n",
       "<style scoped>\n",
       "    .dataframe tbody tr th:only-of-type {\n",
       "        vertical-align: middle;\n",
       "    }\n",
       "\n",
       "    .dataframe tbody tr th {\n",
       "        vertical-align: top;\n",
       "    }\n",
       "\n",
       "    .dataframe thead th {\n",
       "        text-align: right;\n",
       "    }\n",
       "</style>\n",
       "<table border=\"1\" class=\"dataframe\">\n",
       "  <thead>\n",
       "    <tr style=\"text-align: right;\">\n",
       "      <th>exp_id</th>\n",
       "      <th>246</th>\n",
       "      <th>247</th>\n",
       "      <th>248</th>\n",
       "    </tr>\n",
       "    <tr>\n",
       "      <th>event_name</th>\n",
       "      <th></th>\n",
       "      <th></th>\n",
       "      <th></th>\n",
       "    </tr>\n",
       "  </thead>\n",
       "  <tbody>\n",
       "    <tr>\n",
       "      <th>MainScreenAppear</th>\n",
       "      <td>2450</td>\n",
       "      <td>2476</td>\n",
       "      <td>2493</td>\n",
       "    </tr>\n",
       "    <tr>\n",
       "      <th>OffersScreenAppear</th>\n",
       "      <td>1542</td>\n",
       "      <td>1520</td>\n",
       "      <td>1531</td>\n",
       "    </tr>\n",
       "    <tr>\n",
       "      <th>CartScreenAppear</th>\n",
       "      <td>1266</td>\n",
       "      <td>1238</td>\n",
       "      <td>1230</td>\n",
       "    </tr>\n",
       "    <tr>\n",
       "      <th>PaymentScreenSuccessful</th>\n",
       "      <td>1200</td>\n",
       "      <td>1158</td>\n",
       "      <td>1181</td>\n",
       "    </tr>\n",
       "    <tr>\n",
       "      <th>Tutorial</th>\n",
       "      <td>278</td>\n",
       "      <td>283</td>\n",
       "      <td>279</td>\n",
       "    </tr>\n",
       "  </tbody>\n",
       "</table>\n",
       "</div>"
      ],
      "text/plain": [
       "exp_id                    246   247   248\n",
       "event_name                               \n",
       "MainScreenAppear         2450  2476  2493\n",
       "OffersScreenAppear       1542  1520  1531\n",
       "CartScreenAppear         1266  1238  1230\n",
       "PaymentScreenSuccessful  1200  1158  1181\n",
       "Tutorial                  278   283   279"
      ]
     },
     "execution_count": 31,
     "metadata": {},
     "output_type": "execute_result"
    }
   ],
   "source": [
    "#популярное событие\n",
    "event_exp = data_filtered.pivot_table(index='event_name', columns='exp_id',\\\n",
    "                                      values='device_id_hash',aggfunc='nunique').\\\n",
    "sort_values(246,ascending=False)\n",
    "event_exp"
   ]
  },
  {
   "cell_type": "markdown",
   "metadata": {},
   "source": [
    "Самое популярное событие MainScreenAppear  - просмотр главного экрана."
   ]
  },
  {
   "cell_type": "code",
   "execution_count": 32,
   "metadata": {},
   "outputs": [
    {
     "data": {
      "text/html": [
       "<div>\n",
       "<style scoped>\n",
       "    .dataframe tbody tr th:only-of-type {\n",
       "        vertical-align: middle;\n",
       "    }\n",
       "\n",
       "    .dataframe tbody tr th {\n",
       "        vertical-align: top;\n",
       "    }\n",
       "\n",
       "    .dataframe thead th {\n",
       "        text-align: right;\n",
       "    }\n",
       "</style>\n",
       "<table border=\"1\" class=\"dataframe\">\n",
       "  <thead>\n",
       "    <tr style=\"text-align: right;\">\n",
       "      <th>exp_id</th>\n",
       "      <th>246</th>\n",
       "      <th>247</th>\n",
       "      <th>248</th>\n",
       "    </tr>\n",
       "    <tr>\n",
       "      <th>event_name</th>\n",
       "      <th></th>\n",
       "      <th></th>\n",
       "      <th></th>\n",
       "    </tr>\n",
       "  </thead>\n",
       "  <tbody>\n",
       "    <tr>\n",
       "      <th>MainScreenAppear</th>\n",
       "      <td>2450</td>\n",
       "      <td>2476</td>\n",
       "      <td>2493</td>\n",
       "    </tr>\n",
       "    <tr>\n",
       "      <th>OffersScreenAppear</th>\n",
       "      <td>1542</td>\n",
       "      <td>1520</td>\n",
       "      <td>1531</td>\n",
       "    </tr>\n",
       "    <tr>\n",
       "      <th>CartScreenAppear</th>\n",
       "      <td>1266</td>\n",
       "      <td>1238</td>\n",
       "      <td>1230</td>\n",
       "    </tr>\n",
       "    <tr>\n",
       "      <th>PaymentScreenSuccessful</th>\n",
       "      <td>1200</td>\n",
       "      <td>1158</td>\n",
       "      <td>1181</td>\n",
       "    </tr>\n",
       "  </tbody>\n",
       "</table>\n",
       "</div>"
      ],
      "text/plain": [
       "exp_id                    246   247   248\n",
       "event_name                               \n",
       "MainScreenAppear         2450  2476  2493\n",
       "OffersScreenAppear       1542  1520  1531\n",
       "CartScreenAppear         1266  1238  1230\n",
       "PaymentScreenSuccessful  1200  1158  1181"
      ]
     },
     "execution_count": 32,
     "metadata": {},
     "output_type": "execute_result"
    }
   ],
   "source": [
    "#исключим Tutorial из событий\n",
    "event_exp = data_filtered.query('event_name != \"Tutorial\"').\\\n",
    "pivot_table(index='event_name', columns='exp_id', values='device_id_hash',aggfunc='nunique').\\\n",
    "sort_values(246,ascending=False)\n",
    "event_exp"
   ]
  },
  {
   "cell_type": "markdown",
   "metadata": {},
   "source": [
    "Для проверки статистически значимой разницы между группами будем использовать z-критерий (проверка гипотезы о равенстве долей). Проверки делаем с помощью функции."
   ]
  },
  {
   "cell_type": "code",
   "execution_count": 33,
   "metadata": {},
   "outputs": [],
   "source": [
    "#функция func_test попарно проверят группы на наличие статистической значимости в разнице долей.\n",
    "#входящие параметры - номера групп, наименование события, критический уровень стат.значимости\n",
    "def func_test (gr_1, gr_2, event, alpha):\n",
    "    #срезы событий по группам\n",
    "    exp1_event = event_exp.loc[event, gr_1]\n",
    "    exp2_event = event_exp.loc[event, gr_2]\n",
    "    #срезы пользователей по группам\n",
    "    exp1_user = user_exp.loc[gr_1,'device_id_hash']\n",
    "    exp2_user = user_exp.loc[gr_2,'device_id_hash']\n",
    "    #пропорция успехов в первой группе\n",
    "    p1 = exp1_event/exp1_user\n",
    "    #пропорция успехов во второй группе\n",
    "    p2 = exp2_event/exp2_user\n",
    "    # пропорция успехов в комбинированном датасете:\n",
    "    p_combined = (exp1_event + exp2_event) / (exp1_user + exp2_user)\n",
    "    # разница пропорций в датасетах\n",
    "    difference = p1 - p2\n",
    "    # считаем статистику в ст.отклонениях стандартного нормального распределения\n",
    "    z_value = difference / mth.sqrt(p_combined * (1 - p_combined) * (1/exp1_user + 1/exp1_user))\n",
    "    # задаем стандартное нормальное распределение (среднее 0, ст.отклонение 1)\n",
    "    distr = st.norm(0, 1) \n",
    "    p_value = (1 - distr.cdf(abs(z_value))) * 2\n",
    "\n",
    "    print('Группы', gr_1, ',', gr_2,', ' 'событие -', event,',','p_value=', p_value)\n",
    "\n",
    "    if p_value < alpha:\n",
    "        print('Отвергаем нулевую гипотезу: между долями есть значимая разница')\n",
    "    else:\n",
    "        print('Не получилось отвергнуть нулевую гипотезу, нет оснований считать доли разными')\n",
    "    print('-----------------------------------------------------------------------------------')"
   ]
  },
  {
   "cell_type": "markdown",
   "metadata": {},
   "source": [
    "Сформулируем гипотезы: \n",
    "H0: Нет статистически значимых различий между долями посетителей на каждом этапе воронки;\n",
    "H1: Есть статистически значимые разлиия между долями посетителей на каждом этапе воронки. \n",
    "Критический уровень значимости alpha примем за 5%."
   ]
  },
  {
   "cell_type": "code",
   "execution_count": 34,
   "metadata": {},
   "outputs": [
    {
     "name": "stdout",
     "output_type": "stream",
     "text": [
      "Группы 246 , 247 , событие - MainScreenAppear , p_value= 0.7577396085731218\n",
      "Не получилось отвергнуть нулевую гипотезу, нет оснований считать доли разными\n",
      "-----------------------------------------------------------------------------------\n",
      "Группы 246 , 247 , событие - OffersScreenAppear , p_value= 0.24946461553251353\n",
      "Не получилось отвергнуть нулевую гипотезу, нет оснований считать доли разными\n",
      "-----------------------------------------------------------------------------------\n",
      "Группы 246 , 247 , событие - CartScreenAppear , p_value= 0.23018135023865005\n",
      "Не получилось отвергнуть нулевую гипотезу, нет оснований считать доли разными\n",
      "-----------------------------------------------------------------------------------\n",
      "Группы 246 , 247 , событие - PaymentScreenSuccessful , p_value= 0.11561795424626342\n",
      "Не получилось отвергнуть нулевую гипотезу, нет оснований считать доли разными\n",
      "-----------------------------------------------------------------------------------\n",
      "\n"
     ]
    }
   ],
   "source": [
    "#оцениваем различия 246 и 247 групп\n",
    "for event in event_exp.index:\n",
    "    func_test(246, 247, event, 0.05)\n",
    "print()"
   ]
  },
  {
   "cell_type": "markdown",
   "metadata": {},
   "source": [
    "Статистически значимых различий между группами нет, можно считать A/A - тест состоявшимся."
   ]
  },
  {
   "cell_type": "markdown",
   "metadata": {},
   "source": [
    "*5.4 A/B - тест* "
   ]
  },
  {
   "cell_type": "markdown",
   "metadata": {},
   "source": [
    "Сформулируем гипотезы: \n",
    "H0: Нет статистически значимых различий между долями посетителей на каждом этапе воронки;\n",
    "H1: Есть статистически значимые разлиия между долями посетителей на каждом этапе воронки. \n",
    "Критический уровень значимости alpha примем за 5%.\n",
    "Для расчетов применим ту же функцию."
   ]
  },
  {
   "cell_type": "code",
   "execution_count": 35,
   "metadata": {},
   "outputs": [
    {
     "name": "stdout",
     "output_type": "stream",
     "text": [
      "Группы 246 , 248 , событие - MainScreenAppear , p_value= 0.29750800181940074\n",
      "Не получилось отвергнуть нулевую гипотезу, нет оснований считать доли разными\n",
      "-----------------------------------------------------------------------------------\n",
      "Группы 246 , 248 , событие - OffersScreenAppear , p_value= 0.21075419390712913\n",
      "Не получилось отвергнуть нулевую гипотезу, нет оснований считать доли разными\n",
      "-----------------------------------------------------------------------------------\n",
      "Группы 246 , 248 , событие - CartScreenAppear , p_value= 0.08000480013369082\n",
      "Не получилось отвергнуть нулевую гипотезу, нет оснований считать доли разными\n",
      "-----------------------------------------------------------------------------------\n",
      "Группы 246 , 248 , событие - PaymentScreenSuccessful , p_value= 0.21465895373507626\n",
      "Не получилось отвергнуть нулевую гипотезу, нет оснований считать доли разными\n",
      "-----------------------------------------------------------------------------------\n",
      "\n"
     ]
    }
   ],
   "source": [
    "#оцениваем различия 246 и 248 групп\n",
    "for event in event_exp.index:\n",
    "    func_test(246, 248, event, 0.05)\n",
    "print()"
   ]
  },
  {
   "cell_type": "markdown",
   "metadata": {},
   "source": [
    "Различий нет для каждого события."
   ]
  },
  {
   "cell_type": "code",
   "execution_count": 36,
   "metadata": {},
   "outputs": [
    {
     "name": "stdout",
     "output_type": "stream",
     "text": [
      "Группы 247 , 248 , событие - MainScreenAppear , p_value= 0.4597698698524082\n",
      "Не получилось отвергнуть нулевую гипотезу, нет оснований считать доли разными\n",
      "-----------------------------------------------------------------------------------\n",
      "Группы 247 , 248 , событие - OffersScreenAppear , p_value= 0.9199710848537843\n",
      "Не получилось отвергнуть нулевую гипотезу, нет оснований считать доли разными\n",
      "-----------------------------------------------------------------------------------\n",
      "Группы 247 , 248 , событие - CartScreenAppear , p_value= 0.5795194253074443\n",
      "Не получилось отвергнуть нулевую гипотезу, нет оснований считать доли разными\n",
      "-----------------------------------------------------------------------------------\n",
      "Группы 247 , 248 , событие - PaymentScreenSuccessful , p_value= 0.7379405386465885\n",
      "Не получилось отвергнуть нулевую гипотезу, нет оснований считать доли разными\n",
      "-----------------------------------------------------------------------------------\n",
      "\n"
     ]
    }
   ],
   "source": [
    "#оцениваем различия 247 и 248 групп\n",
    "for event in event_exp.index:\n",
    "    func_test(247, 248, event, 0.05)\n",
    "print()"
   ]
  },
  {
   "cell_type": "markdown",
   "metadata": {},
   "source": [
    "Различий нет для каждого события."
   ]
  },
  {
   "cell_type": "markdown",
   "metadata": {},
   "source": [
    "Подготовим датафреймы для проверки отличия между объединенной контрольной группой и тестируемой."
   ]
  },
  {
   "cell_type": "code",
   "execution_count": 37,
   "metadata": {},
   "outputs": [],
   "source": [
    "#к датафрейму пользователей добавим строку\n",
    "#user_exp = user_exp.reset_index()\n",
    "#user_exp.loc[len(user_exp.index)] = ['246+247', 4997]\n",
    "#user_exp"
   ]
  },
  {
   "cell_type": "code",
   "execution_count": 38,
   "metadata": {},
   "outputs": [
    {
     "data": {
      "text/html": [
       "<div>\n",
       "<style scoped>\n",
       "    .dataframe tbody tr th:only-of-type {\n",
       "        vertical-align: middle;\n",
       "    }\n",
       "\n",
       "    .dataframe tbody tr th {\n",
       "        vertical-align: top;\n",
       "    }\n",
       "\n",
       "    .dataframe thead th {\n",
       "        text-align: right;\n",
       "    }\n",
       "</style>\n",
       "<table border=\"1\" class=\"dataframe\">\n",
       "  <thead>\n",
       "    <tr style=\"text-align: right;\">\n",
       "      <th></th>\n",
       "      <th>device_id_hash</th>\n",
       "    </tr>\n",
       "    <tr>\n",
       "      <th>exp_id</th>\n",
       "      <th></th>\n",
       "    </tr>\n",
       "  </thead>\n",
       "  <tbody>\n",
       "    <tr>\n",
       "      <th>246</th>\n",
       "      <td>2484</td>\n",
       "    </tr>\n",
       "    <tr>\n",
       "      <th>247</th>\n",
       "      <td>2513</td>\n",
       "    </tr>\n",
       "    <tr>\n",
       "      <th>248</th>\n",
       "      <td>2537</td>\n",
       "    </tr>\n",
       "    <tr>\n",
       "      <th>246+247</th>\n",
       "      <td>4997</td>\n",
       "    </tr>\n",
       "  </tbody>\n",
       "</table>\n",
       "</div>"
      ],
      "text/plain": [
       "         device_id_hash\n",
       "exp_id                 \n",
       "246                2484\n",
       "247                2513\n",
       "248                2537\n",
       "246+247            4997"
      ]
     },
     "execution_count": 38,
     "metadata": {},
     "output_type": "execute_result"
    }
   ],
   "source": [
    "#делаем датафрейм пользователей с объединенной группой\n",
    "user_exp = data_filtered.pivot_table(index='exp_id', columns = [], values='device_id_hash', \\\n",
    "                          aggfunc='nunique', margins=True).reset_index()\n",
    "user_exp.loc[user_exp['exp_id']=='All', 'device_id_hash'] = 4997\n",
    "user_exp = user_exp.set_index(user_exp.columns[0])\n",
    "user_exp = user_exp.rename(index = {'All': '246+247'})\n",
    "user_exp"
   ]
  },
  {
   "cell_type": "code",
   "execution_count": 39,
   "metadata": {},
   "outputs": [],
   "source": [
    "#возвращаем прежнюю индексацию, чтобы не менять правила формирования срезов в функции\n",
    "#user_exp = user_exp.set_index(user_exp.columns[0])\n",
    "#user_exp"
   ]
  },
  {
   "cell_type": "code",
   "execution_count": 40,
   "metadata": {},
   "outputs": [
    {
     "data": {
      "text/html": [
       "<div>\n",
       "<style scoped>\n",
       "    .dataframe tbody tr th:only-of-type {\n",
       "        vertical-align: middle;\n",
       "    }\n",
       "\n",
       "    .dataframe tbody tr th {\n",
       "        vertical-align: top;\n",
       "    }\n",
       "\n",
       "    .dataframe thead th {\n",
       "        text-align: right;\n",
       "    }\n",
       "</style>\n",
       "<table border=\"1\" class=\"dataframe\">\n",
       "  <thead>\n",
       "    <tr style=\"text-align: right;\">\n",
       "      <th>exp_id</th>\n",
       "      <th>246</th>\n",
       "      <th>247</th>\n",
       "      <th>248</th>\n",
       "      <th>246+247</th>\n",
       "    </tr>\n",
       "    <tr>\n",
       "      <th>event_name</th>\n",
       "      <th></th>\n",
       "      <th></th>\n",
       "      <th></th>\n",
       "      <th></th>\n",
       "    </tr>\n",
       "  </thead>\n",
       "  <tbody>\n",
       "    <tr>\n",
       "      <th>MainScreenAppear</th>\n",
       "      <td>2450</td>\n",
       "      <td>2476</td>\n",
       "      <td>2493</td>\n",
       "      <td>4926</td>\n",
       "    </tr>\n",
       "    <tr>\n",
       "      <th>OffersScreenAppear</th>\n",
       "      <td>1542</td>\n",
       "      <td>1520</td>\n",
       "      <td>1531</td>\n",
       "      <td>3062</td>\n",
       "    </tr>\n",
       "    <tr>\n",
       "      <th>CartScreenAppear</th>\n",
       "      <td>1266</td>\n",
       "      <td>1238</td>\n",
       "      <td>1230</td>\n",
       "      <td>2504</td>\n",
       "    </tr>\n",
       "    <tr>\n",
       "      <th>PaymentScreenSuccessful</th>\n",
       "      <td>1200</td>\n",
       "      <td>1158</td>\n",
       "      <td>1181</td>\n",
       "      <td>2358</td>\n",
       "    </tr>\n",
       "  </tbody>\n",
       "</table>\n",
       "</div>"
      ],
      "text/plain": [
       "exp_id                    246   247   248  246+247\n",
       "event_name                                        \n",
       "MainScreenAppear         2450  2476  2493     4926\n",
       "OffersScreenAppear       1542  1520  1531     3062\n",
       "CartScreenAppear         1266  1238  1230     2504\n",
       "PaymentScreenSuccessful  1200  1158  1181     2358"
      ]
     },
     "execution_count": 40,
     "metadata": {},
     "output_type": "execute_result"
    }
   ],
   "source": [
    "#к датафрейму событий добавим столбец\n",
    "event_exp['246+247'] = event_exp[246] + event_exp[247]\n",
    "event_exp"
   ]
  },
  {
   "cell_type": "code",
   "execution_count": 41,
   "metadata": {},
   "outputs": [
    {
     "name": "stdout",
     "output_type": "stream",
     "text": [
      "Группы 246+247 , 248 , событие - MainScreenAppear , p_value= 0.20122679941423627\n",
      "Не получилось отвергнуть нулевую гипотезу, нет оснований считать доли разными\n",
      "-----------------------------------------------------------------------------------\n",
      "Группы 246+247 , 248 , событие - OffersScreenAppear , p_value= 0.34068706882533895\n",
      "Не получилось отвергнуть нулевую гипотезу, нет оснований считать доли разными\n",
      "-----------------------------------------------------------------------------------\n",
      "Группы 246+247 , 248 , событие - CartScreenAppear , p_value= 0.1036987627244148\n",
      "Не получилось отвергнуть нулевую гипотезу, нет оснований считать доли разными\n",
      "-----------------------------------------------------------------------------------\n",
      "Группы 246+247 , 248 , событие - PaymentScreenSuccessful , p_value= 0.5233126643495414\n",
      "Не получилось отвергнуть нулевую гипотезу, нет оснований считать доли разными\n",
      "-----------------------------------------------------------------------------------\n",
      "\n"
     ]
    }
   ],
   "source": [
    "#оцениваем различия объединенной контрольной и тестируемой групп\n",
    "for event in event_exp.index:\n",
    "    func_test('246+247', 248, event, 0.05)\n",
    "print()"
   ]
  },
  {
   "cell_type": "markdown",
   "metadata": {},
   "source": [
    "Различий нет - изменение шрифта в приложении никак не повлияло на поведение пользователей."
   ]
  },
  {
   "cell_type": "markdown",
   "metadata": {},
   "source": [
    "*5.5 Уровень значимости* "
   ]
  },
  {
   "cell_type": "markdown",
   "metadata": {},
   "source": [
    "В ходе эксперимента было проведено 16 проверок статистических гипотез. При увеличении количества таких тестов, возрастает вероятность ложноположительного результата. Чтобы её снизить, можно применить метод Бонферони. Он заключается в уменьшении уровня значимости во столько раз, сколько тестов было проведено. При этом все тесты должны быть проведены без сбора новых данных, что в рамках нашего тестирования выполняетя. Т.о., alpha: 0.05/16 = 0.003. Проведем новые проверки.  "
   ]
  },
  {
   "cell_type": "code",
   "execution_count": 42,
   "metadata": {},
   "outputs": [
    {
     "name": "stdout",
     "output_type": "stream",
     "text": [
      "Группы 246 , 247 , событие - MainScreenAppear , p_value= 0.7577396085731218\n",
      "Не получилось отвергнуть нулевую гипотезу, нет оснований считать доли разными\n",
      "-----------------------------------------------------------------------------------\n",
      "Группы 246 , 247 , событие - OffersScreenAppear , p_value= 0.24946461553251353\n",
      "Не получилось отвергнуть нулевую гипотезу, нет оснований считать доли разными\n",
      "-----------------------------------------------------------------------------------\n",
      "Группы 246 , 247 , событие - CartScreenAppear , p_value= 0.23018135023865005\n",
      "Не получилось отвергнуть нулевую гипотезу, нет оснований считать доли разными\n",
      "-----------------------------------------------------------------------------------\n",
      "Группы 246 , 247 , событие - PaymentScreenSuccessful , p_value= 0.11561795424626342\n",
      "Не получилось отвергнуть нулевую гипотезу, нет оснований считать доли разными\n",
      "-----------------------------------------------------------------------------------\n",
      "\n"
     ]
    }
   ],
   "source": [
    "#оцениваем различия 246 и 247 групп\n",
    "for event in event_exp.index:\n",
    "    func_test(246, 247, event, 0.003)\n",
    "print()"
   ]
  },
  {
   "cell_type": "code",
   "execution_count": 43,
   "metadata": {},
   "outputs": [
    {
     "name": "stdout",
     "output_type": "stream",
     "text": [
      "Группы 246 , 248 , событие - MainScreenAppear , p_value= 0.29750800181940074\n",
      "Не получилось отвергнуть нулевую гипотезу, нет оснований считать доли разными\n",
      "-----------------------------------------------------------------------------------\n",
      "Группы 246 , 248 , событие - OffersScreenAppear , p_value= 0.21075419390712913\n",
      "Не получилось отвергнуть нулевую гипотезу, нет оснований считать доли разными\n",
      "-----------------------------------------------------------------------------------\n",
      "Группы 246 , 248 , событие - CartScreenAppear , p_value= 0.08000480013369082\n",
      "Не получилось отвергнуть нулевую гипотезу, нет оснований считать доли разными\n",
      "-----------------------------------------------------------------------------------\n",
      "Группы 246 , 248 , событие - PaymentScreenSuccessful , p_value= 0.21465895373507626\n",
      "Не получилось отвергнуть нулевую гипотезу, нет оснований считать доли разными\n",
      "-----------------------------------------------------------------------------------\n",
      "\n"
     ]
    }
   ],
   "source": [
    "#оцениваем различия 246 и 248 групп\n",
    "for event in event_exp.index:\n",
    "    func_test(246, 248, event, 0.003)\n",
    "print()"
   ]
  },
  {
   "cell_type": "code",
   "execution_count": 44,
   "metadata": {},
   "outputs": [
    {
     "name": "stdout",
     "output_type": "stream",
     "text": [
      "Группы 247 , 248 , событие - MainScreenAppear , p_value= 0.4597698698524082\n",
      "Не получилось отвергнуть нулевую гипотезу, нет оснований считать доли разными\n",
      "-----------------------------------------------------------------------------------\n",
      "Группы 247 , 248 , событие - OffersScreenAppear , p_value= 0.9199710848537843\n",
      "Не получилось отвергнуть нулевую гипотезу, нет оснований считать доли разными\n",
      "-----------------------------------------------------------------------------------\n",
      "Группы 247 , 248 , событие - CartScreenAppear , p_value= 0.5795194253074443\n",
      "Не получилось отвергнуть нулевую гипотезу, нет оснований считать доли разными\n",
      "-----------------------------------------------------------------------------------\n",
      "Группы 247 , 248 , событие - PaymentScreenSuccessful , p_value= 0.7379405386465885\n",
      "Не получилось отвергнуть нулевую гипотезу, нет оснований считать доли разными\n",
      "-----------------------------------------------------------------------------------\n",
      "\n"
     ]
    }
   ],
   "source": [
    "#оцениваем различия 247 и 248 групп\n",
    "for event in event_exp.index:\n",
    "    func_test(247, 248, event, 0.003)\n",
    "print()"
   ]
  },
  {
   "cell_type": "code",
   "execution_count": 45,
   "metadata": {},
   "outputs": [
    {
     "name": "stdout",
     "output_type": "stream",
     "text": [
      "Группы 246+247 , 248 , событие - MainScreenAppear , p_value= 0.20122679941423627\n",
      "Не получилось отвергнуть нулевую гипотезу, нет оснований считать доли разными\n",
      "-----------------------------------------------------------------------------------\n",
      "Группы 246+247 , 248 , событие - OffersScreenAppear , p_value= 0.34068706882533895\n",
      "Не получилось отвергнуть нулевую гипотезу, нет оснований считать доли разными\n",
      "-----------------------------------------------------------------------------------\n",
      "Группы 246+247 , 248 , событие - CartScreenAppear , p_value= 0.1036987627244148\n",
      "Не получилось отвергнуть нулевую гипотезу, нет оснований считать доли разными\n",
      "-----------------------------------------------------------------------------------\n",
      "Группы 246+247 , 248 , событие - PaymentScreenSuccessful , p_value= 0.5233126643495414\n",
      "Не получилось отвергнуть нулевую гипотезу, нет оснований считать доли разными\n",
      "-----------------------------------------------------------------------------------\n",
      "\n"
     ]
    }
   ],
   "source": [
    "#оцениваем различия 246+247 и 248 групп\n",
    "for event in event_exp.index:\n",
    "    func_test('246+247', 248, event, 0.003)\n",
    "print()"
   ]
  },
  {
   "cell_type": "markdown",
   "metadata": {},
   "source": [
    " Ни один тест с новой поправкой не выявил различий. И всё-таки - шрифт никак не влияет на пользовательскую активность. "
   ]
  },
  {
   "cell_type": "markdown",
   "metadata": {},
   "source": [
    "**Выводы:**\n",
    "В результате анализа поведения пользователей приложения, результатов А/А/В-теста были получены следующие результаты:\n",
    "\n",
    "1. Больше всего пользователей \"терялось\" после первого шага (38%).\n",
    "2. 48% пользователей прошли всю воронку событий и оплатили заказ.\n",
    "3. А/А-тест эксперимента (изменение шрифта во всем приложении) показал отсутствие различий в контрольных группах по каждому событию.\n",
    "4. А/В-тесты также показали отсутствие различий в контрольных группах по каждому событию.\n",
    "5. Уменьшение уровня значимости методом Бонферони не привело к изменению результатов ни по одному тесту. \n",
    "6. Т.о., можно сделать вывод о том, что эксперимент по изменению шрифта в приложении не стал успешным."
   ]
  }
 ],
 "metadata": {
  "ExecuteTimeLog": [
   {
    "duration": 55,
    "start_time": "2023-01-30T10:50:17.824Z"
   },
   {
    "duration": 78,
    "start_time": "2023-01-30T10:50:34.463Z"
   },
   {
    "duration": 6,
    "start_time": "2023-01-30T10:50:35.042Z"
   },
   {
    "duration": 422,
    "start_time": "2023-01-30T10:50:43.918Z"
   },
   {
    "duration": 944,
    "start_time": "2023-01-30T10:50:45.215Z"
   },
   {
    "duration": 286,
    "start_time": "2023-01-30T10:51:18.440Z"
   },
   {
    "duration": 80,
    "start_time": "2023-01-30T10:51:25.494Z"
   },
   {
    "duration": 90,
    "start_time": "2023-01-30T10:58:29.459Z"
   },
   {
    "duration": 287,
    "start_time": "2023-01-30T10:58:54.157Z"
   },
   {
    "duration": 152,
    "start_time": "2023-01-30T10:59:09.008Z"
   },
   {
    "duration": 173,
    "start_time": "2023-01-30T10:59:15.702Z"
   },
   {
    "duration": 183,
    "start_time": "2023-01-30T10:59:40.312Z"
   },
   {
    "duration": 2,
    "start_time": "2023-01-30T11:04:12.829Z"
   },
   {
    "duration": 20,
    "start_time": "2023-01-30T11:04:26.668Z"
   },
   {
    "duration": 5,
    "start_time": "2023-01-30T11:10:36.160Z"
   },
   {
    "duration": 8,
    "start_time": "2023-01-30T11:13:26.566Z"
   },
   {
    "duration": 49,
    "start_time": "2023-01-30T11:49:07.446Z"
   },
   {
    "duration": 26,
    "start_time": "2023-01-30T11:49:21.590Z"
   },
   {
    "duration": 10,
    "start_time": "2023-01-30T11:49:26.231Z"
   },
   {
    "duration": 6,
    "start_time": "2023-01-30T11:49:52.928Z"
   },
   {
    "duration": 8,
    "start_time": "2023-01-30T11:54:59.509Z"
   },
   {
    "duration": 4,
    "start_time": "2023-01-30T12:03:47.328Z"
   },
   {
    "duration": 182,
    "start_time": "2023-01-30T12:03:47.336Z"
   },
   {
    "duration": 21,
    "start_time": "2023-01-30T12:03:47.520Z"
   },
   {
    "duration": 7,
    "start_time": "2023-01-30T12:03:47.543Z"
   },
   {
    "duration": 16,
    "start_time": "2023-01-30T12:03:47.552Z"
   },
   {
    "duration": 25,
    "start_time": "2023-01-30T12:03:47.570Z"
   },
   {
    "duration": 28,
    "start_time": "2023-01-30T12:03:47.599Z"
   },
   {
    "duration": 6,
    "start_time": "2023-01-30T12:04:06.405Z"
   },
   {
    "duration": 1222,
    "start_time": "2023-01-30T12:04:44.948Z"
   },
   {
    "duration": 4,
    "start_time": "2023-01-30T12:04:49.558Z"
   },
   {
    "duration": 162,
    "start_time": "2023-01-30T12:04:49.564Z"
   },
   {
    "duration": 21,
    "start_time": "2023-01-30T12:04:49.728Z"
   },
   {
    "duration": 6,
    "start_time": "2023-01-30T12:04:49.751Z"
   },
   {
    "duration": 21,
    "start_time": "2023-01-30T12:04:49.759Z"
   },
   {
    "duration": 49,
    "start_time": "2023-01-30T12:04:49.782Z"
   },
   {
    "duration": 5,
    "start_time": "2023-01-30T12:04:49.833Z"
   },
   {
    "duration": 51,
    "start_time": "2023-01-30T12:15:02.057Z"
   },
   {
    "duration": 5,
    "start_time": "2023-01-30T12:15:17.173Z"
   },
   {
    "duration": 75,
    "start_time": "2023-01-30T12:24:31.190Z"
   },
   {
    "duration": 60,
    "start_time": "2023-01-30T12:24:37.544Z"
   },
   {
    "duration": 71,
    "start_time": "2023-01-30T12:25:32.720Z"
   },
   {
    "duration": 67,
    "start_time": "2023-01-30T12:25:45.191Z"
   },
   {
    "duration": 67,
    "start_time": "2023-01-30T12:26:30.880Z"
   },
   {
    "duration": 72,
    "start_time": "2023-01-30T12:27:20.313Z"
   },
   {
    "duration": 62,
    "start_time": "2023-01-30T12:27:32.916Z"
   },
   {
    "duration": 48,
    "start_time": "2023-01-30T12:28:02.725Z"
   },
   {
    "duration": 4,
    "start_time": "2023-01-30T12:28:18.155Z"
   },
   {
    "duration": 8,
    "start_time": "2023-01-30T12:28:44.109Z"
   },
   {
    "duration": 5,
    "start_time": "2023-01-30T12:28:53.640Z"
   },
   {
    "duration": 31,
    "start_time": "2023-01-30T12:29:12.780Z"
   },
   {
    "duration": 70,
    "start_time": "2023-01-30T12:30:24.692Z"
   },
   {
    "duration": 11,
    "start_time": "2023-01-30T12:30:30.900Z"
   },
   {
    "duration": 9,
    "start_time": "2023-01-30T12:30:44.337Z"
   },
   {
    "duration": 8,
    "start_time": "2023-01-30T12:32:13.943Z"
   },
   {
    "duration": 13,
    "start_time": "2023-01-30T12:32:19.326Z"
   },
   {
    "duration": 413,
    "start_time": "2023-01-30T16:37:29.535Z"
   },
   {
    "duration": 532,
    "start_time": "2023-01-30T16:37:29.950Z"
   },
   {
    "duration": 19,
    "start_time": "2023-01-30T16:37:30.484Z"
   },
   {
    "duration": 18,
    "start_time": "2023-01-30T16:37:30.505Z"
   },
   {
    "duration": 48,
    "start_time": "2023-01-30T16:37:30.526Z"
   },
   {
    "duration": 47,
    "start_time": "2023-01-30T16:37:30.576Z"
   },
   {
    "duration": 25,
    "start_time": "2023-01-30T16:37:30.625Z"
   },
   {
    "duration": 59,
    "start_time": "2023-01-30T16:37:30.652Z"
   },
   {
    "duration": 51,
    "start_time": "2023-01-30T16:37:30.713Z"
   },
   {
    "duration": 12,
    "start_time": "2023-01-30T16:37:30.766Z"
   },
   {
    "duration": 20,
    "start_time": "2023-01-30T16:37:55.888Z"
   },
   {
    "duration": 4,
    "start_time": "2023-01-30T16:38:28.343Z"
   },
   {
    "duration": 284,
    "start_time": "2023-01-30T16:38:28.349Z"
   },
   {
    "duration": 19,
    "start_time": "2023-01-30T16:38:28.638Z"
   },
   {
    "duration": 36,
    "start_time": "2023-01-30T16:38:28.659Z"
   },
   {
    "duration": 23,
    "start_time": "2023-01-30T16:38:28.697Z"
   },
   {
    "duration": 44,
    "start_time": "2023-01-30T16:38:28.722Z"
   },
   {
    "duration": 5,
    "start_time": "2023-01-30T16:38:28.768Z"
   },
   {
    "duration": 48,
    "start_time": "2023-01-30T16:38:28.775Z"
   },
   {
    "duration": 21,
    "start_time": "2023-01-30T16:38:28.826Z"
   },
   {
    "duration": 61,
    "start_time": "2023-01-30T16:38:28.849Z"
   },
   {
    "duration": 15,
    "start_time": "2023-01-30T16:38:28.913Z"
   },
   {
    "duration": 46,
    "start_time": "2023-01-30T16:41:16.414Z"
   },
   {
    "duration": 6,
    "start_time": "2023-01-30T16:45:24.003Z"
   },
   {
    "duration": 68,
    "start_time": "2023-01-30T16:45:43.648Z"
   },
   {
    "duration": 8,
    "start_time": "2023-01-30T16:46:04.867Z"
   },
   {
    "duration": 8,
    "start_time": "2023-01-30T16:46:51.599Z"
   },
   {
    "duration": 12,
    "start_time": "2023-01-30T16:50:19.715Z"
   },
   {
    "duration": 7,
    "start_time": "2023-01-30T16:50:23.678Z"
   },
   {
    "duration": 14,
    "start_time": "2023-01-30T16:51:22.869Z"
   },
   {
    "duration": 13,
    "start_time": "2023-01-30T16:51:37.949Z"
   },
   {
    "duration": 16,
    "start_time": "2023-01-30T16:53:52.891Z"
   },
   {
    "duration": 14,
    "start_time": "2023-01-30T16:54:17.081Z"
   },
   {
    "duration": 6,
    "start_time": "2023-01-30T16:55:28.586Z"
   },
   {
    "duration": 7,
    "start_time": "2023-01-30T16:55:55.014Z"
   },
   {
    "duration": 4,
    "start_time": "2023-01-30T16:56:22.525Z"
   },
   {
    "duration": 6,
    "start_time": "2023-01-30T16:56:41.305Z"
   },
   {
    "duration": 5,
    "start_time": "2023-01-30T16:56:49.356Z"
   },
   {
    "duration": 4,
    "start_time": "2023-01-30T16:57:39.216Z"
   },
   {
    "duration": 5,
    "start_time": "2023-01-30T16:58:10.626Z"
   },
   {
    "duration": 730,
    "start_time": "2023-01-30T17:00:03.227Z"
   },
   {
    "duration": 196,
    "start_time": "2023-01-30T17:00:08.834Z"
   },
   {
    "duration": 31,
    "start_time": "2023-01-30T17:02:30.553Z"
   },
   {
    "duration": 3,
    "start_time": "2023-01-30T17:02:36.805Z"
   },
   {
    "duration": 157,
    "start_time": "2023-01-30T17:02:36.811Z"
   },
   {
    "duration": 19,
    "start_time": "2023-01-30T17:02:36.970Z"
   },
   {
    "duration": 5,
    "start_time": "2023-01-30T17:02:36.991Z"
   },
   {
    "duration": 12,
    "start_time": "2023-01-30T17:02:36.998Z"
   },
   {
    "duration": 46,
    "start_time": "2023-01-30T17:02:37.012Z"
   },
   {
    "duration": 5,
    "start_time": "2023-01-30T17:02:37.060Z"
   },
   {
    "duration": 22,
    "start_time": "2023-01-30T17:02:37.067Z"
   },
   {
    "duration": 18,
    "start_time": "2023-01-30T17:02:37.091Z"
   },
   {
    "duration": 29,
    "start_time": "2023-01-30T17:02:37.111Z"
   },
   {
    "duration": 7,
    "start_time": "2023-01-30T17:02:37.142Z"
   },
   {
    "duration": 17,
    "start_time": "2023-01-30T17:02:37.151Z"
   },
   {
    "duration": 5,
    "start_time": "2023-01-30T17:02:37.170Z"
   },
   {
    "duration": 5,
    "start_time": "2023-01-30T17:02:37.178Z"
   },
   {
    "duration": 237,
    "start_time": "2023-01-30T17:02:37.184Z"
   },
   {
    "duration": 301,
    "start_time": "2023-01-30T17:02:48.285Z"
   },
   {
    "duration": 191,
    "start_time": "2023-01-30T17:03:16.748Z"
   },
   {
    "duration": 204,
    "start_time": "2023-01-30T17:05:01.152Z"
   },
   {
    "duration": 201,
    "start_time": "2023-01-30T17:05:21.489Z"
   },
   {
    "duration": 184,
    "start_time": "2023-01-30T17:09:20.613Z"
   },
   {
    "duration": 252,
    "start_time": "2023-01-30T17:11:18.057Z"
   },
   {
    "duration": 208,
    "start_time": "2023-01-30T17:11:46.715Z"
   },
   {
    "duration": 206,
    "start_time": "2023-01-30T17:13:21.751Z"
   },
   {
    "duration": 205,
    "start_time": "2023-01-30T17:13:52.976Z"
   },
   {
    "duration": 218,
    "start_time": "2023-01-30T17:14:59.933Z"
   },
   {
    "duration": 31,
    "start_time": "2023-01-30T17:20:47.942Z"
   },
   {
    "duration": 37,
    "start_time": "2023-01-30T17:24:38.531Z"
   },
   {
    "duration": 19,
    "start_time": "2023-01-30T17:25:02.498Z"
   },
   {
    "duration": 13,
    "start_time": "2023-01-30T17:25:50.919Z"
   },
   {
    "duration": 20,
    "start_time": "2023-01-30T17:26:36.411Z"
   },
   {
    "duration": 11,
    "start_time": "2023-01-30T17:27:46.146Z"
   },
   {
    "duration": 5,
    "start_time": "2023-01-30T17:29:46.626Z"
   },
   {
    "duration": 11,
    "start_time": "2023-01-30T17:31:58.419Z"
   },
   {
    "duration": 10,
    "start_time": "2023-01-30T17:32:26.860Z"
   },
   {
    "duration": 10,
    "start_time": "2023-01-30T17:32:45.132Z"
   },
   {
    "duration": 11,
    "start_time": "2023-01-30T17:33:16.588Z"
   },
   {
    "duration": 11,
    "start_time": "2023-01-30T17:33:34.290Z"
   },
   {
    "duration": 28,
    "start_time": "2023-01-30T17:34:10.649Z"
   },
   {
    "duration": 25,
    "start_time": "2023-01-30T17:34:41.256Z"
   },
   {
    "duration": 59,
    "start_time": "2023-01-30T17:35:00.622Z"
   },
   {
    "duration": 28,
    "start_time": "2023-01-30T17:35:10.743Z"
   },
   {
    "duration": 233,
    "start_time": "2023-01-30T17:50:07.703Z"
   },
   {
    "duration": 143,
    "start_time": "2023-01-30T17:51:03.611Z"
   },
   {
    "duration": 830,
    "start_time": "2023-01-31T06:43:01.528Z"
   },
   {
    "duration": 735,
    "start_time": "2023-01-31T06:43:02.360Z"
   },
   {
    "duration": 20,
    "start_time": "2023-01-31T06:43:03.097Z"
   },
   {
    "duration": 16,
    "start_time": "2023-01-31T06:43:03.120Z"
   },
   {
    "duration": 20,
    "start_time": "2023-01-31T06:43:03.138Z"
   },
   {
    "duration": 50,
    "start_time": "2023-01-31T06:43:03.160Z"
   },
   {
    "duration": 6,
    "start_time": "2023-01-31T06:43:03.213Z"
   },
   {
    "duration": 28,
    "start_time": "2023-01-31T06:43:03.221Z"
   },
   {
    "duration": 20,
    "start_time": "2023-01-31T06:43:03.251Z"
   },
   {
    "duration": 28,
    "start_time": "2023-01-31T06:43:03.274Z"
   },
   {
    "duration": 11,
    "start_time": "2023-01-31T06:43:03.303Z"
   },
   {
    "duration": 15,
    "start_time": "2023-01-31T06:43:03.315Z"
   },
   {
    "duration": 6,
    "start_time": "2023-01-31T06:43:03.333Z"
   },
   {
    "duration": 6,
    "start_time": "2023-01-31T06:43:03.341Z"
   },
   {
    "duration": 322,
    "start_time": "2023-01-31T06:43:03.350Z"
   },
   {
    "duration": 34,
    "start_time": "2023-01-31T06:43:03.674Z"
   },
   {
    "duration": 41,
    "start_time": "2023-01-31T06:43:03.710Z"
   },
   {
    "duration": 11,
    "start_time": "2023-01-31T06:43:03.753Z"
   },
   {
    "duration": 12,
    "start_time": "2023-01-31T06:43:03.765Z"
   },
   {
    "duration": 21,
    "start_time": "2023-01-31T06:44:55.712Z"
   },
   {
    "duration": 59,
    "start_time": "2023-01-31T06:47:35.286Z"
   },
   {
    "duration": 125,
    "start_time": "2023-01-31T06:49:53.724Z"
   },
   {
    "duration": 63,
    "start_time": "2023-01-31T06:50:01.052Z"
   },
   {
    "duration": 74,
    "start_time": "2023-01-31T06:50:25.071Z"
   },
   {
    "duration": 66,
    "start_time": "2023-01-31T09:11:27.087Z"
   },
   {
    "duration": 82,
    "start_time": "2023-01-31T09:13:30.112Z"
   },
   {
    "duration": 70,
    "start_time": "2023-01-31T09:15:53.451Z"
   },
   {
    "duration": 62,
    "start_time": "2023-01-31T09:16:07.639Z"
   },
   {
    "duration": 26,
    "start_time": "2023-01-31T09:16:44.149Z"
   },
   {
    "duration": 42,
    "start_time": "2023-01-31T09:17:29.214Z"
   },
   {
    "duration": 71,
    "start_time": "2023-01-31T09:17:54.114Z"
   },
   {
    "duration": 74,
    "start_time": "2023-01-31T09:18:17.998Z"
   },
   {
    "duration": 32,
    "start_time": "2023-01-31T09:19:30.479Z"
   },
   {
    "duration": 21,
    "start_time": "2023-01-31T09:23:32.199Z"
   },
   {
    "duration": 66,
    "start_time": "2023-01-31T09:28:37.995Z"
   },
   {
    "duration": 77,
    "start_time": "2023-01-31T10:29:26.776Z"
   },
   {
    "duration": 57,
    "start_time": "2023-01-31T10:32:18.450Z"
   },
   {
    "duration": 10,
    "start_time": "2023-01-31T10:32:31.524Z"
   },
   {
    "duration": 89,
    "start_time": "2023-01-31T10:42:47.840Z"
   },
   {
    "duration": 1439,
    "start_time": "2023-01-31T11:05:19.007Z"
   },
   {
    "duration": 1471,
    "start_time": "2023-01-31T11:05:31.995Z"
   },
   {
    "duration": 1514,
    "start_time": "2023-01-31T11:05:40.474Z"
   },
   {
    "duration": 1375,
    "start_time": "2023-01-31T11:06:08.389Z"
   },
   {
    "duration": 93,
    "start_time": "2023-01-31T11:06:50.843Z"
   },
   {
    "duration": 13,
    "start_time": "2023-01-31T11:06:55.950Z"
   },
   {
    "duration": 12,
    "start_time": "2023-01-31T11:07:06.214Z"
   },
   {
    "duration": 5,
    "start_time": "2023-01-31T11:07:16.514Z"
   },
   {
    "duration": 1498,
    "start_time": "2023-01-31T11:13:43.113Z"
   },
   {
    "duration": 12,
    "start_time": "2023-01-31T11:14:54.861Z"
   },
   {
    "duration": 3,
    "start_time": "2023-01-31T11:15:18.054Z"
   },
   {
    "duration": 203,
    "start_time": "2023-01-31T11:15:18.058Z"
   },
   {
    "duration": 20,
    "start_time": "2023-01-31T11:15:18.263Z"
   },
   {
    "duration": 8,
    "start_time": "2023-01-31T11:15:18.285Z"
   },
   {
    "duration": 12,
    "start_time": "2023-01-31T11:15:18.295Z"
   },
   {
    "duration": 2,
    "start_time": "2023-01-31T11:15:18.309Z"
   },
   {
    "duration": 103,
    "start_time": "2023-01-31T11:15:18.335Z"
   },
   {
    "duration": 25,
    "start_time": "2023-01-31T11:15:18.440Z"
   },
   {
    "duration": 30,
    "start_time": "2023-01-31T11:15:18.467Z"
   },
   {
    "duration": 20,
    "start_time": "2023-01-31T11:15:18.499Z"
   },
   {
    "duration": 23,
    "start_time": "2023-01-31T11:15:18.522Z"
   },
   {
    "duration": 19,
    "start_time": "2023-01-31T11:15:18.550Z"
   },
   {
    "duration": 22,
    "start_time": "2023-01-31T11:15:18.571Z"
   },
   {
    "duration": 16,
    "start_time": "2023-01-31T11:15:18.595Z"
   },
   {
    "duration": 10,
    "start_time": "2023-01-31T11:15:18.613Z"
   },
   {
    "duration": 260,
    "start_time": "2023-01-31T11:15:18.625Z"
   },
   {
    "duration": 28,
    "start_time": "2023-01-31T11:15:18.887Z"
   },
   {
    "duration": 44,
    "start_time": "2023-01-31T11:15:18.917Z"
   },
   {
    "duration": 18,
    "start_time": "2023-01-31T11:15:18.963Z"
   },
   {
    "duration": 5,
    "start_time": "2023-01-31T11:15:18.983Z"
   },
   {
    "duration": 25,
    "start_time": "2023-01-31T11:15:18.990Z"
   },
   {
    "duration": 91,
    "start_time": "2023-01-31T11:15:19.017Z"
   },
   {
    "duration": 7,
    "start_time": "2023-01-31T11:15:19.110Z"
   },
   {
    "duration": 40,
    "start_time": "2023-01-31T11:15:19.118Z"
   },
   {
    "duration": 76,
    "start_time": "2023-01-31T11:15:19.160Z"
   },
   {
    "duration": 10,
    "start_time": "2023-01-31T11:15:19.237Z"
   },
   {
    "duration": 23,
    "start_time": "2023-01-31T11:15:19.249Z"
   },
   {
    "duration": 12,
    "start_time": "2023-01-31T11:16:15.212Z"
   },
   {
    "duration": 11,
    "start_time": "2023-01-31T11:18:22.255Z"
   },
   {
    "duration": 3,
    "start_time": "2023-01-31T11:19:10.465Z"
   },
   {
    "duration": 201,
    "start_time": "2023-01-31T11:19:10.470Z"
   },
   {
    "duration": 23,
    "start_time": "2023-01-31T11:19:10.673Z"
   },
   {
    "duration": 81,
    "start_time": "2023-01-31T11:19:10.699Z"
   },
   {
    "duration": 12,
    "start_time": "2023-01-31T11:19:10.782Z"
   },
   {
    "duration": 13,
    "start_time": "2023-01-31T11:19:10.796Z"
   },
   {
    "duration": 33,
    "start_time": "2023-01-31T11:19:10.811Z"
   },
   {
    "duration": 9,
    "start_time": "2023-01-31T11:19:10.850Z"
   },
   {
    "duration": 29,
    "start_time": "2023-01-31T11:19:10.861Z"
   },
   {
    "duration": 21,
    "start_time": "2023-01-31T11:19:10.893Z"
   },
   {
    "duration": 13,
    "start_time": "2023-01-31T11:19:10.916Z"
   },
   {
    "duration": 31,
    "start_time": "2023-01-31T11:19:10.931Z"
   },
   {
    "duration": 12,
    "start_time": "2023-01-31T11:19:10.964Z"
   },
   {
    "duration": 11,
    "start_time": "2023-01-31T11:19:10.977Z"
   },
   {
    "duration": 13,
    "start_time": "2023-01-31T11:19:10.990Z"
   },
   {
    "duration": 255,
    "start_time": "2023-01-31T11:19:11.005Z"
   },
   {
    "duration": 25,
    "start_time": "2023-01-31T11:19:11.262Z"
   },
   {
    "duration": 61,
    "start_time": "2023-01-31T11:19:11.289Z"
   },
   {
    "duration": 13,
    "start_time": "2023-01-31T11:19:11.351Z"
   },
   {
    "duration": 6,
    "start_time": "2023-01-31T11:19:11.365Z"
   },
   {
    "duration": 31,
    "start_time": "2023-01-31T11:19:11.372Z"
   },
   {
    "duration": 71,
    "start_time": "2023-01-31T11:19:11.404Z"
   },
   {
    "duration": 7,
    "start_time": "2023-01-31T11:19:11.477Z"
   },
   {
    "duration": 37,
    "start_time": "2023-01-31T11:19:11.485Z"
   },
   {
    "duration": 68,
    "start_time": "2023-01-31T11:19:11.526Z"
   },
   {
    "duration": 4,
    "start_time": "2023-01-31T11:19:11.595Z"
   },
   {
    "duration": 50,
    "start_time": "2023-01-31T11:19:11.601Z"
   },
   {
    "duration": 15,
    "start_time": "2023-01-31T11:19:38.975Z"
   },
   {
    "duration": 12,
    "start_time": "2023-01-31T11:21:06.465Z"
   },
   {
    "duration": 9,
    "start_time": "2023-01-31T11:23:52.749Z"
   },
   {
    "duration": 8,
    "start_time": "2023-01-31T11:24:00.986Z"
   },
   {
    "duration": 16,
    "start_time": "2023-01-31T11:26:06.334Z"
   },
   {
    "duration": 8,
    "start_time": "2023-01-31T11:26:14.805Z"
   },
   {
    "duration": 8,
    "start_time": "2023-01-31T11:26:40.150Z"
   },
   {
    "duration": 9,
    "start_time": "2023-01-31T11:30:39.182Z"
   },
   {
    "duration": 13,
    "start_time": "2023-01-31T11:30:50.425Z"
   },
   {
    "duration": 222,
    "start_time": "2023-01-31T11:30:50.440Z"
   },
   {
    "duration": 23,
    "start_time": "2023-01-31T11:30:50.666Z"
   },
   {
    "duration": 17,
    "start_time": "2023-01-31T11:30:50.691Z"
   },
   {
    "duration": 33,
    "start_time": "2023-01-31T11:30:50.711Z"
   },
   {
    "duration": 38,
    "start_time": "2023-01-31T11:30:50.747Z"
   },
   {
    "duration": 35,
    "start_time": "2023-01-31T11:30:50.787Z"
   },
   {
    "duration": 40,
    "start_time": "2023-01-31T11:30:50.824Z"
   },
   {
    "duration": 106,
    "start_time": "2023-01-31T11:30:50.865Z"
   },
   {
    "duration": 18,
    "start_time": "2023-01-31T11:30:50.972Z"
   },
   {
    "duration": 13,
    "start_time": "2023-01-31T11:30:50.991Z"
   },
   {
    "duration": 15,
    "start_time": "2023-01-31T11:30:51.005Z"
   },
   {
    "duration": 32,
    "start_time": "2023-01-31T11:30:51.021Z"
   },
   {
    "duration": 12,
    "start_time": "2023-01-31T11:30:51.056Z"
   },
   {
    "duration": 17,
    "start_time": "2023-01-31T11:30:51.069Z"
   },
   {
    "duration": 236,
    "start_time": "2023-01-31T11:30:51.087Z"
   },
   {
    "duration": 33,
    "start_time": "2023-01-31T11:30:51.326Z"
   },
   {
    "duration": 40,
    "start_time": "2023-01-31T11:30:51.363Z"
   },
   {
    "duration": 12,
    "start_time": "2023-01-31T11:30:51.405Z"
   },
   {
    "duration": 9,
    "start_time": "2023-01-31T11:30:51.419Z"
   },
   {
    "duration": 46,
    "start_time": "2023-01-31T11:30:51.431Z"
   },
   {
    "duration": 79,
    "start_time": "2023-01-31T11:30:51.479Z"
   },
   {
    "duration": 7,
    "start_time": "2023-01-31T11:30:51.561Z"
   },
   {
    "duration": 44,
    "start_time": "2023-01-31T11:30:51.570Z"
   },
   {
    "duration": 63,
    "start_time": "2023-01-31T11:30:51.616Z"
   },
   {
    "duration": 10,
    "start_time": "2023-01-31T11:30:51.681Z"
   },
   {
    "duration": 23,
    "start_time": "2023-01-31T11:30:51.693Z"
   },
   {
    "duration": 9,
    "start_time": "2023-01-31T11:32:04.485Z"
   },
   {
    "duration": 10,
    "start_time": "2023-01-31T11:33:04.448Z"
   },
   {
    "duration": 744,
    "start_time": "2023-01-31T15:37:22.484Z"
   },
   {
    "duration": 550,
    "start_time": "2023-01-31T15:37:23.231Z"
   },
   {
    "duration": 25,
    "start_time": "2023-01-31T15:37:23.782Z"
   },
   {
    "duration": 6,
    "start_time": "2023-01-31T15:37:23.810Z"
   },
   {
    "duration": 16,
    "start_time": "2023-01-31T15:37:23.818Z"
   },
   {
    "duration": 2,
    "start_time": "2023-01-31T15:37:23.836Z"
   },
   {
    "duration": 54,
    "start_time": "2023-01-31T15:37:23.840Z"
   },
   {
    "duration": 5,
    "start_time": "2023-01-31T15:37:23.896Z"
   },
   {
    "duration": 27,
    "start_time": "2023-01-31T15:37:23.902Z"
   },
   {
    "duration": 19,
    "start_time": "2023-01-31T15:37:23.931Z"
   },
   {
    "duration": 12,
    "start_time": "2023-01-31T15:37:23.951Z"
   },
   {
    "duration": 6,
    "start_time": "2023-01-31T15:37:23.964Z"
   },
   {
    "duration": 23,
    "start_time": "2023-01-31T15:37:23.971Z"
   },
   {
    "duration": 11,
    "start_time": "2023-01-31T15:37:23.995Z"
   },
   {
    "duration": 10,
    "start_time": "2023-01-31T15:37:24.007Z"
   },
   {
    "duration": 302,
    "start_time": "2023-01-31T15:37:24.019Z"
   },
   {
    "duration": 34,
    "start_time": "2023-01-31T15:37:24.323Z"
   },
   {
    "duration": 30,
    "start_time": "2023-01-31T15:37:24.358Z"
   },
   {
    "duration": 10,
    "start_time": "2023-01-31T15:37:24.389Z"
   },
   {
    "duration": 4,
    "start_time": "2023-01-31T15:37:24.400Z"
   },
   {
    "duration": 46,
    "start_time": "2023-01-31T15:37:24.405Z"
   },
   {
    "duration": 54,
    "start_time": "2023-01-31T15:37:24.452Z"
   },
   {
    "duration": 6,
    "start_time": "2023-01-31T15:37:24.507Z"
   },
   {
    "duration": 43,
    "start_time": "2023-01-31T15:37:24.515Z"
   },
   {
    "duration": 55,
    "start_time": "2023-01-31T15:37:24.559Z"
   },
   {
    "duration": 5,
    "start_time": "2023-01-31T15:37:24.615Z"
   },
   {
    "duration": 27,
    "start_time": "2023-01-31T15:37:24.621Z"
   },
   {
    "duration": 53,
    "start_time": "2023-01-31T15:38:02.243Z"
   },
   {
    "duration": 9,
    "start_time": "2023-01-31T15:38:10.665Z"
   },
   {
    "duration": 41,
    "start_time": "2023-01-31T15:56:15.386Z"
   },
   {
    "duration": 10,
    "start_time": "2023-01-31T16:00:57.932Z"
   },
   {
    "duration": 9,
    "start_time": "2023-01-31T16:01:18.691Z"
   },
   {
    "duration": 7,
    "start_time": "2023-01-31T16:02:10.857Z"
   },
   {
    "duration": 23,
    "start_time": "2023-01-31T16:46:23.389Z"
   },
   {
    "duration": 27,
    "start_time": "2023-01-31T16:47:33.798Z"
   },
   {
    "duration": 87,
    "start_time": "2023-01-31T16:58:44.369Z"
   },
   {
    "duration": 8,
    "start_time": "2023-01-31T16:58:45.549Z"
   },
   {
    "duration": 54,
    "start_time": "2023-01-31T16:59:08.538Z"
   },
   {
    "duration": 53,
    "start_time": "2023-01-31T16:59:47.992Z"
   },
   {
    "duration": 8,
    "start_time": "2023-01-31T16:59:49.411Z"
   },
   {
    "duration": 53,
    "start_time": "2023-01-31T17:00:10.251Z"
   },
   {
    "duration": 6,
    "start_time": "2023-01-31T17:00:13.166Z"
   },
   {
    "duration": 54,
    "start_time": "2023-01-31T17:00:36.057Z"
   },
   {
    "duration": 8,
    "start_time": "2023-01-31T17:00:37.913Z"
   },
   {
    "duration": 51,
    "start_time": "2023-01-31T17:00:58.553Z"
   },
   {
    "duration": 8,
    "start_time": "2023-01-31T17:00:59.392Z"
   },
   {
    "duration": 11,
    "start_time": "2023-01-31T17:01:12.309Z"
   },
   {
    "duration": 59,
    "start_time": "2023-01-31T17:01:37.670Z"
   },
   {
    "duration": 117,
    "start_time": "2023-01-31T17:02:02.619Z"
   },
   {
    "duration": 58,
    "start_time": "2023-01-31T17:02:34.997Z"
   },
   {
    "duration": 56,
    "start_time": "2023-01-31T17:03:13.070Z"
   },
   {
    "duration": 8,
    "start_time": "2023-01-31T17:03:18.763Z"
   },
   {
    "duration": 56,
    "start_time": "2023-01-31T17:04:39.499Z"
   },
   {
    "duration": 55,
    "start_time": "2023-01-31T17:07:45.835Z"
   },
   {
    "duration": 8,
    "start_time": "2023-01-31T17:07:47.024Z"
   },
   {
    "duration": 52,
    "start_time": "2023-01-31T17:08:21.147Z"
   },
   {
    "duration": 55,
    "start_time": "2023-01-31T17:08:42.960Z"
   },
   {
    "duration": 21,
    "start_time": "2023-01-31T17:16:14.925Z"
   },
   {
    "duration": 65,
    "start_time": "2023-01-31T17:16:39.334Z"
   },
   {
    "duration": 9,
    "start_time": "2023-01-31T17:18:54.400Z"
   },
   {
    "duration": 9,
    "start_time": "2023-01-31T17:19:12.343Z"
   },
   {
    "duration": 9,
    "start_time": "2023-01-31T17:26:08.277Z"
   },
   {
    "duration": 8,
    "start_time": "2023-01-31T17:26:42.040Z"
   },
   {
    "duration": 3,
    "start_time": "2023-01-31T17:26:51.541Z"
   },
   {
    "duration": 166,
    "start_time": "2023-01-31T17:26:51.546Z"
   },
   {
    "duration": 17,
    "start_time": "2023-01-31T17:26:51.714Z"
   },
   {
    "duration": 16,
    "start_time": "2023-01-31T17:26:51.733Z"
   },
   {
    "duration": 6,
    "start_time": "2023-01-31T17:26:51.751Z"
   },
   {
    "duration": 2,
    "start_time": "2023-01-31T17:26:51.758Z"
   },
   {
    "duration": 30,
    "start_time": "2023-01-31T17:26:51.762Z"
   },
   {
    "duration": 5,
    "start_time": "2023-01-31T17:26:51.793Z"
   },
   {
    "duration": 17,
    "start_time": "2023-01-31T17:26:51.800Z"
   },
   {
    "duration": 40,
    "start_time": "2023-01-31T17:26:51.819Z"
   },
   {
    "duration": 13,
    "start_time": "2023-01-31T17:26:51.860Z"
   },
   {
    "duration": 30,
    "start_time": "2023-01-31T17:26:51.874Z"
   },
   {
    "duration": 16,
    "start_time": "2023-01-31T17:26:51.905Z"
   },
   {
    "duration": 13,
    "start_time": "2023-01-31T17:26:51.922Z"
   },
   {
    "duration": 7,
    "start_time": "2023-01-31T17:26:51.937Z"
   },
   {
    "duration": 193,
    "start_time": "2023-01-31T17:26:51.946Z"
   },
   {
    "duration": 24,
    "start_time": "2023-01-31T17:26:52.149Z"
   },
   {
    "duration": 20,
    "start_time": "2023-01-31T17:26:52.174Z"
   },
   {
    "duration": 33,
    "start_time": "2023-01-31T17:26:52.196Z"
   },
   {
    "duration": 21,
    "start_time": "2023-01-31T17:26:52.230Z"
   },
   {
    "duration": 13,
    "start_time": "2023-01-31T17:26:52.252Z"
   },
   {
    "duration": 4,
    "start_time": "2023-01-31T17:26:52.267Z"
   },
   {
    "duration": 22,
    "start_time": "2023-01-31T17:26:52.273Z"
   },
   {
    "duration": 80,
    "start_time": "2023-01-31T17:26:52.297Z"
   },
   {
    "duration": 9,
    "start_time": "2023-01-31T17:26:52.379Z"
   },
   {
    "duration": 104,
    "start_time": "2023-01-31T17:26:52.390Z"
   },
   {
    "duration": 4,
    "start_time": "2023-01-31T17:33:30.712Z"
   },
   {
    "duration": 4,
    "start_time": "2023-01-31T17:33:57.197Z"
   },
   {
    "duration": 70,
    "start_time": "2023-01-31T17:44:04.746Z"
   },
   {
    "duration": 157,
    "start_time": "2023-01-31T17:49:28.923Z"
   },
   {
    "duration": 99,
    "start_time": "2023-01-31T17:49:47.373Z"
   },
   {
    "duration": 70,
    "start_time": "2023-01-31T17:50:39.053Z"
   },
   {
    "duration": 88,
    "start_time": "2023-01-31T17:50:40.725Z"
   },
   {
    "duration": 71,
    "start_time": "2023-01-31T17:51:47.491Z"
   },
   {
    "duration": 2,
    "start_time": "2023-01-31T17:53:45.721Z"
   },
   {
    "duration": 169,
    "start_time": "2023-01-31T17:53:45.725Z"
   },
   {
    "duration": 19,
    "start_time": "2023-01-31T17:53:45.896Z"
   },
   {
    "duration": 4,
    "start_time": "2023-01-31T17:53:45.918Z"
   },
   {
    "duration": 24,
    "start_time": "2023-01-31T17:53:45.925Z"
   },
   {
    "duration": 53,
    "start_time": "2023-01-31T17:53:45.951Z"
   },
   {
    "duration": 76,
    "start_time": "2023-01-31T17:53:46.006Z"
   },
   {
    "duration": 65,
    "start_time": "2023-01-31T17:53:46.084Z"
   },
   {
    "duration": 23,
    "start_time": "2023-01-31T17:53:46.151Z"
   },
   {
    "duration": 5,
    "start_time": "2023-01-31T17:53:46.177Z"
   },
   {
    "duration": 18,
    "start_time": "2023-01-31T17:53:46.184Z"
   },
   {
    "duration": 19,
    "start_time": "2023-01-31T17:53:46.203Z"
   },
   {
    "duration": 12,
    "start_time": "2023-01-31T17:53:46.248Z"
   },
   {
    "duration": 8,
    "start_time": "2023-01-31T17:53:46.261Z"
   },
   {
    "duration": 14,
    "start_time": "2023-01-31T17:53:46.270Z"
   },
   {
    "duration": 5,
    "start_time": "2023-01-31T17:53:46.285Z"
   },
   {
    "duration": 6,
    "start_time": "2023-01-31T17:53:46.291Z"
   },
   {
    "duration": 223,
    "start_time": "2023-01-31T17:53:46.299Z"
   },
   {
    "duration": 25,
    "start_time": "2023-01-31T17:53:46.524Z"
   },
   {
    "duration": 22,
    "start_time": "2023-01-31T17:53:46.551Z"
   },
   {
    "duration": 29,
    "start_time": "2023-01-31T17:53:46.575Z"
   },
   {
    "duration": 9,
    "start_time": "2023-01-31T17:53:46.605Z"
   },
   {
    "duration": 8,
    "start_time": "2023-01-31T17:53:46.615Z"
   },
   {
    "duration": 7,
    "start_time": "2023-01-31T17:53:46.649Z"
   },
   {
    "duration": 25,
    "start_time": "2023-01-31T17:53:46.657Z"
   },
   {
    "duration": 82,
    "start_time": "2023-01-31T17:53:46.684Z"
   },
   {
    "duration": 8,
    "start_time": "2023-01-31T17:53:46.768Z"
   },
   {
    "duration": 8,
    "start_time": "2023-01-31T17:53:46.779Z"
   },
   {
    "duration": 6,
    "start_time": "2023-01-31T17:53:46.788Z"
   },
   {
    "duration": 3,
    "start_time": "2023-01-31T17:57:44.958Z"
   },
   {
    "duration": 164,
    "start_time": "2023-01-31T17:57:44.963Z"
   },
   {
    "duration": 19,
    "start_time": "2023-01-31T17:57:45.129Z"
   },
   {
    "duration": 5,
    "start_time": "2023-01-31T17:57:45.150Z"
   },
   {
    "duration": 8,
    "start_time": "2023-01-31T17:57:45.156Z"
   },
   {
    "duration": 48,
    "start_time": "2023-01-31T17:57:45.166Z"
   },
   {
    "duration": 82,
    "start_time": "2023-01-31T17:57:45.216Z"
   },
   {
    "duration": 65,
    "start_time": "2023-01-31T17:57:45.300Z"
   },
   {
    "duration": 26,
    "start_time": "2023-01-31T17:57:45.367Z"
   },
   {
    "duration": 91,
    "start_time": "2023-01-31T17:57:45.395Z"
   },
   {
    "duration": 21,
    "start_time": "2023-01-31T17:57:45.488Z"
   },
   {
    "duration": 12,
    "start_time": "2023-01-31T17:57:45.510Z"
   },
   {
    "duration": 25,
    "start_time": "2023-01-31T17:57:45.524Z"
   },
   {
    "duration": 13,
    "start_time": "2023-01-31T17:57:45.550Z"
   },
   {
    "duration": 13,
    "start_time": "2023-01-31T17:57:45.565Z"
   },
   {
    "duration": 6,
    "start_time": "2023-01-31T17:57:45.579Z"
   },
   {
    "duration": 200,
    "start_time": "2023-01-31T17:57:45.586Z"
   },
   {
    "duration": 18,
    "start_time": "2023-01-31T17:57:45.788Z"
   },
   {
    "duration": 21,
    "start_time": "2023-01-31T17:57:45.808Z"
   },
   {
    "duration": 41,
    "start_time": "2023-01-31T17:57:45.830Z"
   },
   {
    "duration": 8,
    "start_time": "2023-01-31T17:57:45.872Z"
   },
   {
    "duration": 10,
    "start_time": "2023-01-31T17:57:45.881Z"
   },
   {
    "duration": 5,
    "start_time": "2023-01-31T17:57:45.892Z"
   },
   {
    "duration": 53,
    "start_time": "2023-01-31T17:57:45.900Z"
   },
   {
    "duration": 66,
    "start_time": "2023-01-31T17:57:45.954Z"
   },
   {
    "duration": 9,
    "start_time": "2023-01-31T17:57:46.022Z"
   },
   {
    "duration": 18,
    "start_time": "2023-01-31T17:57:46.032Z"
   },
   {
    "duration": 11,
    "start_time": "2023-01-31T17:57:46.052Z"
   },
   {
    "duration": 3,
    "start_time": "2023-01-31T17:58:25.387Z"
   },
   {
    "duration": 180,
    "start_time": "2023-01-31T17:58:25.392Z"
   },
   {
    "duration": 19,
    "start_time": "2023-01-31T17:58:25.574Z"
   },
   {
    "duration": 5,
    "start_time": "2023-01-31T17:58:25.594Z"
   },
   {
    "duration": 9,
    "start_time": "2023-01-31T17:58:25.601Z"
   },
   {
    "duration": 83,
    "start_time": "2023-01-31T17:58:25.612Z"
   },
   {
    "duration": 67,
    "start_time": "2023-01-31T17:58:25.697Z"
   },
   {
    "duration": 58,
    "start_time": "2023-01-31T17:58:25.766Z"
   },
   {
    "duration": 35,
    "start_time": "2023-01-31T17:58:25.826Z"
   },
   {
    "duration": 15,
    "start_time": "2023-01-31T17:58:25.862Z"
   },
   {
    "duration": 20,
    "start_time": "2023-01-31T17:58:25.879Z"
   },
   {
    "duration": 20,
    "start_time": "2023-01-31T17:58:25.901Z"
   },
   {
    "duration": 7,
    "start_time": "2023-01-31T17:58:25.950Z"
   },
   {
    "duration": 24,
    "start_time": "2023-01-31T17:58:25.959Z"
   },
   {
    "duration": 4,
    "start_time": "2023-01-31T17:58:25.985Z"
   },
   {
    "duration": 5,
    "start_time": "2023-01-31T17:58:25.991Z"
   },
   {
    "duration": 270,
    "start_time": "2023-01-31T17:58:25.998Z"
   },
   {
    "duration": 30,
    "start_time": "2023-01-31T17:58:26.270Z"
   },
   {
    "duration": 22,
    "start_time": "2023-01-31T17:58:26.302Z"
   },
   {
    "duration": 63,
    "start_time": "2023-01-31T17:58:26.326Z"
   },
   {
    "duration": 14,
    "start_time": "2023-01-31T17:58:26.391Z"
   },
   {
    "duration": 28,
    "start_time": "2023-01-31T17:58:26.407Z"
   },
   {
    "duration": 17,
    "start_time": "2023-01-31T17:58:26.437Z"
   },
   {
    "duration": 48,
    "start_time": "2023-01-31T17:58:26.456Z"
   },
   {
    "duration": 108,
    "start_time": "2023-01-31T17:58:26.507Z"
   },
   {
    "duration": 14,
    "start_time": "2023-01-31T17:58:26.617Z"
   },
   {
    "duration": 18,
    "start_time": "2023-01-31T17:58:26.632Z"
   },
   {
    "duration": 24,
    "start_time": "2023-01-31T17:58:26.652Z"
   },
   {
    "duration": 10,
    "start_time": "2023-01-31T17:59:02.698Z"
   },
   {
    "duration": 4,
    "start_time": "2023-01-31T18:00:15.536Z"
   },
   {
    "duration": 176,
    "start_time": "2023-01-31T18:00:15.542Z"
   },
   {
    "duration": 31,
    "start_time": "2023-01-31T18:00:15.720Z"
   },
   {
    "duration": 5,
    "start_time": "2023-01-31T18:00:15.754Z"
   },
   {
    "duration": 9,
    "start_time": "2023-01-31T18:00:15.761Z"
   },
   {
    "duration": 54,
    "start_time": "2023-01-31T18:00:15.771Z"
   },
   {
    "duration": 55,
    "start_time": "2023-01-31T18:00:15.848Z"
   },
   {
    "duration": 66,
    "start_time": "2023-01-31T18:00:15.905Z"
   },
   {
    "duration": 8,
    "start_time": "2023-01-31T18:00:15.973Z"
   },
   {
    "duration": 28,
    "start_time": "2023-01-31T18:00:15.983Z"
   },
   {
    "duration": 18,
    "start_time": "2023-01-31T18:00:16.012Z"
   },
   {
    "duration": 21,
    "start_time": "2023-01-31T18:00:16.048Z"
   },
   {
    "duration": 220,
    "start_time": "2023-01-31T18:00:16.070Z"
   },
   {
    "duration": 15,
    "start_time": "2023-01-31T18:00:16.292Z"
   },
   {
    "duration": 25,
    "start_time": "2023-01-31T18:00:16.309Z"
   },
   {
    "duration": 5,
    "start_time": "2023-01-31T18:00:16.336Z"
   },
   {
    "duration": 8,
    "start_time": "2023-01-31T18:00:16.343Z"
   },
   {
    "duration": 221,
    "start_time": "2023-01-31T18:00:16.353Z"
   },
   {
    "duration": 18,
    "start_time": "2023-01-31T18:00:16.576Z"
   },
   {
    "duration": 21,
    "start_time": "2023-01-31T18:00:16.596Z"
   },
   {
    "duration": 52,
    "start_time": "2023-01-31T18:00:16.619Z"
   },
   {
    "duration": 10,
    "start_time": "2023-01-31T18:00:16.673Z"
   },
   {
    "duration": 10,
    "start_time": "2023-01-31T18:00:16.685Z"
   },
   {
    "duration": 6,
    "start_time": "2023-01-31T18:00:16.697Z"
   },
   {
    "duration": 59,
    "start_time": "2023-01-31T18:00:16.705Z"
   },
   {
    "duration": 64,
    "start_time": "2023-01-31T18:00:16.766Z"
   },
   {
    "duration": 19,
    "start_time": "2023-01-31T18:00:16.831Z"
   },
   {
    "duration": 13,
    "start_time": "2023-01-31T18:00:16.853Z"
   },
   {
    "duration": 6,
    "start_time": "2023-01-31T18:00:16.868Z"
   },
   {
    "duration": 148,
    "start_time": "2023-01-31T18:01:26.447Z"
   },
   {
    "duration": 21,
    "start_time": "2023-01-31T18:02:49.721Z"
   },
   {
    "duration": 34,
    "start_time": "2023-01-31T18:03:04.985Z"
   },
   {
    "duration": 3,
    "start_time": "2023-01-31T18:14:32.086Z"
   },
   {
    "duration": 163,
    "start_time": "2023-01-31T18:14:32.091Z"
   },
   {
    "duration": 17,
    "start_time": "2023-01-31T18:14:32.256Z"
   },
   {
    "duration": 6,
    "start_time": "2023-01-31T18:14:32.275Z"
   },
   {
    "duration": 7,
    "start_time": "2023-01-31T18:14:32.283Z"
   },
   {
    "duration": 67,
    "start_time": "2023-01-31T18:14:32.291Z"
   },
   {
    "duration": 101,
    "start_time": "2023-01-31T18:14:32.359Z"
   },
   {
    "duration": 22,
    "start_time": "2023-01-31T18:14:32.461Z"
   },
   {
    "duration": 29,
    "start_time": "2023-01-31T18:14:32.484Z"
   },
   {
    "duration": 10,
    "start_time": "2023-01-31T18:14:32.515Z"
   },
   {
    "duration": 5,
    "start_time": "2023-01-31T18:14:32.548Z"
   },
   {
    "duration": 14,
    "start_time": "2023-01-31T18:14:32.554Z"
   },
   {
    "duration": 7,
    "start_time": "2023-01-31T18:14:32.570Z"
   },
   {
    "duration": 4,
    "start_time": "2023-01-31T18:14:32.578Z"
   },
   {
    "duration": 210,
    "start_time": "2023-01-31T18:14:32.584Z"
   },
   {
    "duration": 18,
    "start_time": "2023-01-31T18:14:32.796Z"
   },
   {
    "duration": 38,
    "start_time": "2023-01-31T18:14:32.815Z"
   },
   {
    "duration": 29,
    "start_time": "2023-01-31T18:14:32.855Z"
   },
   {
    "duration": 9,
    "start_time": "2023-01-31T18:14:32.886Z"
   },
   {
    "duration": 9,
    "start_time": "2023-01-31T18:14:32.897Z"
   },
   {
    "duration": 8,
    "start_time": "2023-01-31T18:14:32.908Z"
   },
   {
    "duration": 49,
    "start_time": "2023-01-31T18:14:32.918Z"
   },
   {
    "duration": 62,
    "start_time": "2023-01-31T18:14:32.969Z"
   },
   {
    "duration": 18,
    "start_time": "2023-01-31T18:14:33.033Z"
   },
   {
    "duration": 14,
    "start_time": "2023-01-31T18:14:33.053Z"
   },
   {
    "duration": 7,
    "start_time": "2023-01-31T18:14:33.068Z"
   },
   {
    "duration": 743,
    "start_time": "2023-02-01T05:39:57.065Z"
   },
   {
    "duration": 729,
    "start_time": "2023-02-01T05:39:57.810Z"
   },
   {
    "duration": 18,
    "start_time": "2023-02-01T05:39:58.541Z"
   },
   {
    "duration": 5,
    "start_time": "2023-02-01T05:39:58.561Z"
   },
   {
    "duration": 22,
    "start_time": "2023-02-01T05:39:58.567Z"
   },
   {
    "duration": 82,
    "start_time": "2023-02-01T05:39:58.591Z"
   },
   {
    "duration": 131,
    "start_time": "2023-02-01T05:39:58.675Z"
   },
   {
    "duration": 29,
    "start_time": "2023-02-01T05:39:58.808Z"
   },
   {
    "duration": 29,
    "start_time": "2023-02-01T05:39:58.839Z"
   },
   {
    "duration": 9,
    "start_time": "2023-02-01T05:39:58.871Z"
   },
   {
    "duration": 7,
    "start_time": "2023-02-01T05:39:58.882Z"
   },
   {
    "duration": 36,
    "start_time": "2023-02-01T05:39:58.891Z"
   },
   {
    "duration": 4,
    "start_time": "2023-02-01T05:39:58.929Z"
   },
   {
    "duration": 7,
    "start_time": "2023-02-01T05:39:58.935Z"
   },
   {
    "duration": 293,
    "start_time": "2023-02-01T05:39:58.943Z"
   },
   {
    "duration": 30,
    "start_time": "2023-02-01T05:39:59.238Z"
   },
   {
    "duration": 21,
    "start_time": "2023-02-01T05:39:59.270Z"
   },
   {
    "duration": 48,
    "start_time": "2023-02-01T05:39:59.293Z"
   },
   {
    "duration": 9,
    "start_time": "2023-02-01T05:39:59.343Z"
   },
   {
    "duration": 26,
    "start_time": "2023-02-01T05:39:59.354Z"
   },
   {
    "duration": 8,
    "start_time": "2023-02-01T05:39:59.382Z"
   },
   {
    "duration": 24,
    "start_time": "2023-02-01T05:39:59.392Z"
   },
   {
    "duration": 74,
    "start_time": "2023-02-01T05:39:59.418Z"
   },
   {
    "duration": 10,
    "start_time": "2023-02-01T05:39:59.493Z"
   },
   {
    "duration": 15,
    "start_time": "2023-02-01T05:39:59.504Z"
   },
   {
    "duration": 9,
    "start_time": "2023-02-01T05:39:59.521Z"
   },
   {
    "duration": 81,
    "start_time": "2023-02-01T05:42:42.702Z"
   },
   {
    "duration": 11,
    "start_time": "2023-02-01T05:45:06.305Z"
   },
   {
    "duration": 25,
    "start_time": "2023-02-01T05:46:24.139Z"
   },
   {
    "duration": 9,
    "start_time": "2023-02-01T05:46:34.195Z"
   },
   {
    "duration": 5,
    "start_time": "2023-02-01T05:46:50.534Z"
   },
   {
    "duration": 44,
    "start_time": "2023-02-01T05:47:02.712Z"
   },
   {
    "duration": 807,
    "start_time": "2023-02-01T10:38:20.799Z"
   },
   {
    "duration": 505,
    "start_time": "2023-02-01T10:38:21.608Z"
   },
   {
    "duration": 20,
    "start_time": "2023-02-01T10:38:22.115Z"
   },
   {
    "duration": 4,
    "start_time": "2023-02-01T10:38:22.137Z"
   },
   {
    "duration": 20,
    "start_time": "2023-02-01T10:38:22.143Z"
   },
   {
    "duration": 72,
    "start_time": "2023-02-01T10:38:22.164Z"
   },
   {
    "duration": 137,
    "start_time": "2023-02-01T10:38:22.237Z"
   },
   {
    "duration": 35,
    "start_time": "2023-02-01T10:38:22.376Z"
   },
   {
    "duration": 34,
    "start_time": "2023-02-01T10:38:22.413Z"
   },
   {
    "duration": 11,
    "start_time": "2023-02-01T10:38:22.449Z"
   },
   {
    "duration": 30,
    "start_time": "2023-02-01T10:38:22.462Z"
   },
   {
    "duration": 13,
    "start_time": "2023-02-01T10:38:22.494Z"
   },
   {
    "duration": 10,
    "start_time": "2023-02-01T10:38:22.508Z"
   },
   {
    "duration": 4,
    "start_time": "2023-02-01T10:38:22.519Z"
   },
   {
    "duration": 296,
    "start_time": "2023-02-01T10:38:22.525Z"
   },
   {
    "duration": 23,
    "start_time": "2023-02-01T10:38:22.823Z"
   },
   {
    "duration": 18,
    "start_time": "2023-02-01T10:38:22.848Z"
   },
   {
    "duration": 45,
    "start_time": "2023-02-01T10:38:22.868Z"
   },
   {
    "duration": 9,
    "start_time": "2023-02-01T10:38:22.914Z"
   },
   {
    "duration": 10,
    "start_time": "2023-02-01T10:38:22.925Z"
   },
   {
    "duration": 5,
    "start_time": "2023-02-01T10:38:22.936Z"
   },
   {
    "duration": 50,
    "start_time": "2023-02-01T10:38:22.943Z"
   },
   {
    "duration": 74,
    "start_time": "2023-02-01T10:38:22.994Z"
   },
   {
    "duration": 23,
    "start_time": "2023-02-01T10:38:23.070Z"
   },
   {
    "duration": 9,
    "start_time": "2023-02-01T10:38:23.094Z"
   },
   {
    "duration": 7,
    "start_time": "2023-02-01T10:38:23.104Z"
   },
   {
    "duration": 45,
    "start_time": "2023-02-01T10:38:23.112Z"
   },
   {
    "duration": 125,
    "start_time": "2023-02-01T10:41:39.601Z"
   },
   {
    "duration": 41,
    "start_time": "2023-02-01T10:42:32.642Z"
   },
   {
    "duration": 36,
    "start_time": "2023-02-01T10:48:18.659Z"
   },
   {
    "duration": 10,
    "start_time": "2023-02-01T10:48:55.862Z"
   },
   {
    "duration": 61,
    "start_time": "2023-02-01T10:49:12.912Z"
   },
   {
    "duration": 59,
    "start_time": "2023-02-01T10:49:31.910Z"
   },
   {
    "duration": 61,
    "start_time": "2023-02-01T10:49:57.699Z"
   },
   {
    "duration": 68,
    "start_time": "2023-02-01T10:50:27.398Z"
   },
   {
    "duration": 62,
    "start_time": "2023-02-01T10:51:44.354Z"
   },
   {
    "duration": 63,
    "start_time": "2023-02-01T10:52:19.753Z"
   },
   {
    "duration": 99,
    "start_time": "2023-02-01T10:52:39.457Z"
   },
   {
    "duration": 64,
    "start_time": "2023-02-01T10:52:52.437Z"
   },
   {
    "duration": 59,
    "start_time": "2023-02-01T10:53:14.515Z"
   },
   {
    "duration": 59,
    "start_time": "2023-02-01T10:53:40.551Z"
   },
   {
    "duration": 63,
    "start_time": "2023-02-01T10:53:57.835Z"
   },
   {
    "duration": 74,
    "start_time": "2023-02-01T10:56:00.004Z"
   },
   {
    "duration": 73,
    "start_time": "2023-02-01T10:56:12.900Z"
   },
   {
    "duration": 256,
    "start_time": "2023-02-01T10:57:57.431Z"
   },
   {
    "duration": 66,
    "start_time": "2023-02-01T10:58:25.420Z"
   },
   {
    "duration": 65,
    "start_time": "2023-02-01T10:59:17.709Z"
   },
   {
    "duration": 71,
    "start_time": "2023-02-01T10:59:26.953Z"
   },
   {
    "duration": 74,
    "start_time": "2023-02-01T11:00:23.444Z"
   },
   {
    "duration": 74,
    "start_time": "2023-02-01T11:00:35.215Z"
   },
   {
    "duration": 70,
    "start_time": "2023-02-01T11:01:30.821Z"
   },
   {
    "duration": 69,
    "start_time": "2023-02-01T11:01:37.033Z"
   },
   {
    "duration": 72,
    "start_time": "2023-02-01T11:01:43.849Z"
   },
   {
    "duration": 65,
    "start_time": "2023-02-01T11:03:27.263Z"
   },
   {
    "duration": 71,
    "start_time": "2023-02-01T11:05:29.647Z"
   },
   {
    "duration": 76,
    "start_time": "2023-02-01T11:05:51.537Z"
   },
   {
    "duration": 72,
    "start_time": "2023-02-01T11:11:24.799Z"
   },
   {
    "duration": 38,
    "start_time": "2023-02-01T11:14:06.946Z"
   },
   {
    "duration": 32,
    "start_time": "2023-02-01T11:14:26.566Z"
   },
   {
    "duration": 38,
    "start_time": "2023-02-01T11:14:59.993Z"
   },
   {
    "duration": 32,
    "start_time": "2023-02-01T11:15:21.719Z"
   },
   {
    "duration": 32,
    "start_time": "2023-02-01T11:15:37.796Z"
   },
   {
    "duration": 20,
    "start_time": "2023-02-01T11:16:39.574Z"
   },
   {
    "duration": 3,
    "start_time": "2023-02-01T11:17:21.263Z"
   },
   {
    "duration": 155,
    "start_time": "2023-02-01T11:17:21.287Z"
   },
   {
    "duration": 17,
    "start_time": "2023-02-01T11:17:21.444Z"
   },
   {
    "duration": 34,
    "start_time": "2023-02-01T11:17:21.462Z"
   },
   {
    "duration": 33,
    "start_time": "2023-02-01T11:17:21.497Z"
   },
   {
    "duration": 69,
    "start_time": "2023-02-01T11:17:21.531Z"
   },
   {
    "duration": 128,
    "start_time": "2023-02-01T11:17:21.602Z"
   },
   {
    "duration": 22,
    "start_time": "2023-02-01T11:17:21.732Z"
   },
   {
    "duration": 45,
    "start_time": "2023-02-01T11:17:21.756Z"
   },
   {
    "duration": 10,
    "start_time": "2023-02-01T11:17:21.803Z"
   },
   {
    "duration": 21,
    "start_time": "2023-02-01T11:17:21.815Z"
   },
   {
    "duration": 46,
    "start_time": "2023-02-01T11:17:21.838Z"
   },
   {
    "duration": 22,
    "start_time": "2023-02-01T11:17:21.886Z"
   },
   {
    "duration": 6,
    "start_time": "2023-02-01T11:17:21.910Z"
   },
   {
    "duration": 230,
    "start_time": "2023-02-01T11:17:21.917Z"
   },
   {
    "duration": 20,
    "start_time": "2023-02-01T11:17:22.149Z"
   },
   {
    "duration": 152,
    "start_time": "2023-02-01T11:17:22.171Z"
   },
   {
    "duration": 43,
    "start_time": "2023-02-01T11:17:22.325Z"
   },
   {
    "duration": 13,
    "start_time": "2023-02-01T11:17:22.370Z"
   },
   {
    "duration": 15,
    "start_time": "2023-02-01T11:17:22.385Z"
   },
   {
    "duration": 13,
    "start_time": "2023-02-01T11:17:22.402Z"
   },
   {
    "duration": 25,
    "start_time": "2023-02-01T11:17:22.417Z"
   },
   {
    "duration": 67,
    "start_time": "2023-02-01T11:17:22.443Z"
   },
   {
    "duration": 19,
    "start_time": "2023-02-01T11:17:22.512Z"
   },
   {
    "duration": 12,
    "start_time": "2023-02-01T11:17:22.532Z"
   },
   {
    "duration": 38,
    "start_time": "2023-02-01T11:17:22.546Z"
   },
   {
    "duration": 43,
    "start_time": "2023-02-01T11:17:22.585Z"
   },
   {
    "duration": 70,
    "start_time": "2023-02-01T11:17:22.630Z"
   },
   {
    "duration": 84,
    "start_time": "2023-02-01T15:00:07.733Z"
   },
   {
    "duration": 48,
    "start_time": "2023-02-01T15:00:17.610Z"
   },
   {
    "duration": 6,
    "start_time": "2023-02-01T15:00:36.607Z"
   },
   {
    "duration": 7,
    "start_time": "2023-02-01T15:00:44.235Z"
   },
   {
    "duration": 778,
    "start_time": "2023-02-01T15:00:49.652Z"
   },
   {
    "duration": 515,
    "start_time": "2023-02-01T15:00:50.432Z"
   },
   {
    "duration": 23,
    "start_time": "2023-02-01T15:00:50.949Z"
   },
   {
    "duration": 5,
    "start_time": "2023-02-01T15:00:50.974Z"
   },
   {
    "duration": 10,
    "start_time": "2023-02-01T15:00:50.982Z"
   },
   {
    "duration": 78,
    "start_time": "2023-02-01T15:00:50.993Z"
   },
   {
    "duration": 148,
    "start_time": "2023-02-01T15:00:51.073Z"
   },
   {
    "duration": 26,
    "start_time": "2023-02-01T15:00:51.222Z"
   },
   {
    "duration": 33,
    "start_time": "2023-02-01T15:00:51.250Z"
   },
   {
    "duration": 35,
    "start_time": "2023-02-01T15:00:51.285Z"
   },
   {
    "duration": 11,
    "start_time": "2023-02-01T15:00:51.323Z"
   },
   {
    "duration": 22,
    "start_time": "2023-02-01T15:00:51.336Z"
   },
   {
    "duration": 5,
    "start_time": "2023-02-01T15:00:51.360Z"
   },
   {
    "duration": 22,
    "start_time": "2023-02-01T15:00:51.367Z"
   },
   {
    "duration": 315,
    "start_time": "2023-02-01T15:00:51.391Z"
   },
   {
    "duration": 34,
    "start_time": "2023-02-01T15:00:51.708Z"
   },
   {
    "duration": 22,
    "start_time": "2023-02-01T15:00:51.744Z"
   },
   {
    "duration": 38,
    "start_time": "2023-02-01T15:00:51.768Z"
   },
   {
    "duration": 23,
    "start_time": "2023-02-01T15:00:51.808Z"
   },
   {
    "duration": 9,
    "start_time": "2023-02-01T15:00:51.833Z"
   },
   {
    "duration": 5,
    "start_time": "2023-02-01T15:00:51.844Z"
   },
   {
    "duration": 24,
    "start_time": "2023-02-01T15:00:51.850Z"
   },
   {
    "duration": 91,
    "start_time": "2023-02-01T15:00:51.875Z"
   },
   {
    "duration": 23,
    "start_time": "2023-02-01T15:00:51.968Z"
   },
   {
    "duration": 9,
    "start_time": "2023-02-01T15:00:51.993Z"
   },
   {
    "duration": 5,
    "start_time": "2023-02-01T15:00:52.021Z"
   },
   {
    "duration": 42,
    "start_time": "2023-02-01T15:00:52.027Z"
   },
   {
    "duration": 86,
    "start_time": "2023-02-01T15:00:52.071Z"
   },
   {
    "duration": 23,
    "start_time": "2023-02-01T15:01:16.944Z"
   },
   {
    "duration": 33,
    "start_time": "2023-02-01T15:01:43.489Z"
   },
   {
    "duration": 38,
    "start_time": "2023-02-01T15:02:59.316Z"
   },
   {
    "duration": 21,
    "start_time": "2023-02-01T15:03:24.935Z"
   },
   {
    "duration": 32,
    "start_time": "2023-02-01T15:06:31.333Z"
   },
   {
    "duration": 38,
    "start_time": "2023-02-01T15:07:35.896Z"
   },
   {
    "duration": 33,
    "start_time": "2023-02-01T15:07:41.646Z"
   },
   {
    "duration": 35,
    "start_time": "2023-02-01T15:08:28.690Z"
   },
   {
    "duration": 60,
    "start_time": "2023-02-01T15:09:22.128Z"
   },
   {
    "duration": 9,
    "start_time": "2023-02-01T15:09:29.359Z"
   },
   {
    "duration": 11,
    "start_time": "2023-02-01T15:09:49.697Z"
   },
   {
    "duration": 68,
    "start_time": "2023-02-01T15:10:21.644Z"
   },
   {
    "duration": 23,
    "start_time": "2023-02-01T15:10:56.110Z"
   },
   {
    "duration": 36,
    "start_time": "2023-02-01T15:11:05.219Z"
   },
   {
    "duration": 29,
    "start_time": "2023-02-01T15:11:12.391Z"
   },
   {
    "duration": 127,
    "start_time": "2023-02-01T15:17:04.562Z"
   },
   {
    "duration": 88,
    "start_time": "2023-02-01T15:17:20.078Z"
   },
   {
    "duration": 86,
    "start_time": "2023-02-01T15:17:37.543Z"
   },
   {
    "duration": 71,
    "start_time": "2023-02-01T15:17:49.986Z"
   },
   {
    "duration": 3,
    "start_time": "2023-02-01T15:17:58.389Z"
   },
   {
    "duration": 224,
    "start_time": "2023-02-01T15:17:58.394Z"
   },
   {
    "duration": 38,
    "start_time": "2023-02-01T15:17:58.621Z"
   },
   {
    "duration": 9,
    "start_time": "2023-02-01T15:17:58.660Z"
   },
   {
    "duration": 14,
    "start_time": "2023-02-01T15:17:58.672Z"
   },
   {
    "duration": 91,
    "start_time": "2023-02-01T15:17:58.688Z"
   },
   {
    "duration": 149,
    "start_time": "2023-02-01T15:17:58.781Z"
   },
   {
    "duration": 33,
    "start_time": "2023-02-01T15:17:58.931Z"
   },
   {
    "duration": 57,
    "start_time": "2023-02-01T15:17:58.966Z"
   },
   {
    "duration": 31,
    "start_time": "2023-02-01T15:17:59.026Z"
   },
   {
    "duration": 8,
    "start_time": "2023-02-01T15:17:59.061Z"
   },
   {
    "duration": 17,
    "start_time": "2023-02-01T15:17:59.071Z"
   },
   {
    "duration": 15,
    "start_time": "2023-02-01T15:17:59.090Z"
   },
   {
    "duration": 16,
    "start_time": "2023-02-01T15:17:59.123Z"
   },
   {
    "duration": 248,
    "start_time": "2023-02-01T15:17:59.141Z"
   },
   {
    "duration": 44,
    "start_time": "2023-02-01T15:17:59.391Z"
   },
   {
    "duration": 27,
    "start_time": "2023-02-01T15:17:59.436Z"
   },
   {
    "duration": 76,
    "start_time": "2023-02-01T15:17:59.465Z"
   },
   {
    "duration": 10,
    "start_time": "2023-02-01T15:17:59.543Z"
   },
   {
    "duration": 18,
    "start_time": "2023-02-01T15:17:59.555Z"
   },
   {
    "duration": 5,
    "start_time": "2023-02-01T15:17:59.575Z"
   },
   {
    "duration": 64,
    "start_time": "2023-02-01T15:17:59.582Z"
   },
   {
    "duration": 101,
    "start_time": "2023-02-01T15:17:59.648Z"
   },
   {
    "duration": 101,
    "start_time": "2023-02-01T15:17:59.751Z"
   },
   {
    "duration": 22,
    "start_time": "2023-02-01T15:17:59.853Z"
   },
   {
    "duration": 13,
    "start_time": "2023-02-01T15:17:59.877Z"
   },
   {
    "duration": 31,
    "start_time": "2023-02-01T15:17:59.895Z"
   },
   {
    "duration": 50,
    "start_time": "2023-02-01T15:17:59.928Z"
   },
   {
    "duration": 92,
    "start_time": "2023-02-01T15:17:59.982Z"
   },
   {
    "duration": 15,
    "start_time": "2023-02-01T15:18:43.602Z"
   },
   {
    "duration": 4,
    "start_time": "2023-02-01T15:21:03.212Z"
   },
   {
    "duration": 42,
    "start_time": "2023-02-01T15:22:19.321Z"
   },
   {
    "duration": 36,
    "start_time": "2023-02-01T15:23:03.430Z"
   },
   {
    "duration": 41,
    "start_time": "2023-02-01T15:23:15.925Z"
   },
   {
    "duration": 8,
    "start_time": "2023-02-01T15:25:54.927Z"
   },
   {
    "duration": 11,
    "start_time": "2023-02-01T15:26:22.906Z"
   },
   {
    "duration": 1014,
    "start_time": "2023-02-01T15:27:02.900Z"
   },
   {
    "duration": 5,
    "start_time": "2023-02-01T15:27:16.452Z"
   },
   {
    "duration": 6,
    "start_time": "2023-02-01T15:27:43.597Z"
   },
   {
    "duration": 7,
    "start_time": "2023-02-01T15:27:59.726Z"
   },
   {
    "duration": 6,
    "start_time": "2023-02-01T15:28:05.404Z"
   },
   {
    "duration": 5,
    "start_time": "2023-02-01T15:28:20.389Z"
   },
   {
    "duration": 5,
    "start_time": "2023-02-01T15:28:29.144Z"
   },
   {
    "duration": 13,
    "start_time": "2023-02-01T15:29:39.116Z"
   },
   {
    "duration": 5,
    "start_time": "2023-02-01T15:30:18.712Z"
   },
   {
    "duration": 5,
    "start_time": "2023-02-01T15:30:31.043Z"
   },
   {
    "duration": 7,
    "start_time": "2023-02-01T15:30:40.350Z"
   },
   {
    "duration": 6,
    "start_time": "2023-02-01T15:30:52.901Z"
   },
   {
    "duration": 9,
    "start_time": "2023-02-01T15:33:28.258Z"
   },
   {
    "duration": 5,
    "start_time": "2023-02-01T15:33:55.897Z"
   },
   {
    "duration": 5,
    "start_time": "2023-02-01T15:34:05.440Z"
   },
   {
    "duration": 12,
    "start_time": "2023-02-01T15:34:18.016Z"
   },
   {
    "duration": 68,
    "start_time": "2023-02-01T15:55:43.293Z"
   },
   {
    "duration": 85,
    "start_time": "2023-02-01T15:56:44.797Z"
   },
   {
    "duration": 65,
    "start_time": "2023-02-01T15:57:05.865Z"
   },
   {
    "duration": 84,
    "start_time": "2023-02-01T15:57:35.965Z"
   },
   {
    "duration": 74,
    "start_time": "2023-02-01T15:57:47.710Z"
   },
   {
    "duration": 71,
    "start_time": "2023-02-01T17:06:01.986Z"
   },
   {
    "duration": 78,
    "start_time": "2023-02-01T17:06:09.694Z"
   },
   {
    "duration": 69,
    "start_time": "2023-02-01T17:08:28.237Z"
   },
   {
    "duration": 86,
    "start_time": "2023-02-01T17:08:42.416Z"
   },
   {
    "duration": 3,
    "start_time": "2023-02-01T17:40:49.337Z"
   },
   {
    "duration": 197,
    "start_time": "2023-02-01T17:40:49.343Z"
   },
   {
    "duration": 22,
    "start_time": "2023-02-01T17:40:49.542Z"
   },
   {
    "duration": 5,
    "start_time": "2023-02-01T17:40:49.567Z"
   },
   {
    "duration": 12,
    "start_time": "2023-02-01T17:40:49.574Z"
   },
   {
    "duration": 79,
    "start_time": "2023-02-01T17:40:49.588Z"
   },
   {
    "duration": 119,
    "start_time": "2023-02-01T17:40:49.669Z"
   },
   {
    "duration": 36,
    "start_time": "2023-02-01T17:40:49.790Z"
   },
   {
    "duration": 52,
    "start_time": "2023-02-01T17:40:49.828Z"
   },
   {
    "duration": 19,
    "start_time": "2023-02-01T17:40:49.884Z"
   },
   {
    "duration": 33,
    "start_time": "2023-02-01T17:40:49.905Z"
   },
   {
    "duration": 30,
    "start_time": "2023-02-01T17:40:49.939Z"
   },
   {
    "duration": 9,
    "start_time": "2023-02-01T17:40:49.971Z"
   },
   {
    "duration": 7,
    "start_time": "2023-02-01T17:40:49.983Z"
   },
   {
    "duration": 278,
    "start_time": "2023-02-01T17:40:49.992Z"
   },
   {
    "duration": 49,
    "start_time": "2023-02-01T17:40:50.271Z"
   },
   {
    "duration": 47,
    "start_time": "2023-02-01T17:40:50.323Z"
   },
   {
    "duration": 36,
    "start_time": "2023-02-01T17:40:50.372Z"
   },
   {
    "duration": 28,
    "start_time": "2023-02-01T17:40:50.410Z"
   },
   {
    "duration": 13,
    "start_time": "2023-02-01T17:40:50.441Z"
   },
   {
    "duration": 5,
    "start_time": "2023-02-01T17:40:50.457Z"
   },
   {
    "duration": 27,
    "start_time": "2023-02-01T17:40:50.464Z"
   },
   {
    "duration": 100,
    "start_time": "2023-02-01T17:40:50.493Z"
   },
   {
    "duration": 104,
    "start_time": "2023-02-01T17:40:50.595Z"
   },
   {
    "duration": 12,
    "start_time": "2023-02-01T17:40:50.701Z"
   },
   {
    "duration": 20,
    "start_time": "2023-02-01T17:40:50.725Z"
   },
   {
    "duration": 43,
    "start_time": "2023-02-01T17:40:50.748Z"
   },
   {
    "duration": 5,
    "start_time": "2023-02-01T17:40:50.794Z"
   },
   {
    "duration": 129,
    "start_time": "2023-02-01T17:40:50.801Z"
   },
   {
    "duration": 18,
    "start_time": "2023-02-01T17:43:54.380Z"
   },
   {
    "duration": 9,
    "start_time": "2023-02-01T17:44:28.179Z"
   },
   {
    "duration": 4,
    "start_time": "2023-02-01T17:46:11.538Z"
   },
   {
    "duration": 48,
    "start_time": "2023-02-01T17:47:24.587Z"
   },
   {
    "duration": 5,
    "start_time": "2023-02-01T17:47:31.037Z"
   },
   {
    "duration": 3,
    "start_time": "2023-02-01T17:47:54.008Z"
   },
   {
    "duration": 196,
    "start_time": "2023-02-01T17:47:54.013Z"
   },
   {
    "duration": 34,
    "start_time": "2023-02-01T17:47:54.211Z"
   },
   {
    "duration": 5,
    "start_time": "2023-02-01T17:47:54.248Z"
   },
   {
    "duration": 15,
    "start_time": "2023-02-01T17:47:54.255Z"
   },
   {
    "duration": 72,
    "start_time": "2023-02-01T17:47:54.272Z"
   },
   {
    "duration": 142,
    "start_time": "2023-02-01T17:47:54.346Z"
   },
   {
    "duration": 52,
    "start_time": "2023-02-01T17:47:54.490Z"
   },
   {
    "duration": 129,
    "start_time": "2023-02-01T17:47:54.547Z"
   },
   {
    "duration": 19,
    "start_time": "2023-02-01T17:47:54.678Z"
   },
   {
    "duration": 35,
    "start_time": "2023-02-01T17:47:54.699Z"
   },
   {
    "duration": 46,
    "start_time": "2023-02-01T17:47:54.737Z"
   },
   {
    "duration": 26,
    "start_time": "2023-02-01T17:47:54.786Z"
   },
   {
    "duration": 31,
    "start_time": "2023-02-01T17:47:54.814Z"
   },
   {
    "duration": 257,
    "start_time": "2023-02-01T17:47:54.846Z"
   },
   {
    "duration": 53,
    "start_time": "2023-02-01T17:47:55.105Z"
   },
   {
    "duration": 28,
    "start_time": "2023-02-01T17:47:55.160Z"
   },
   {
    "duration": 57,
    "start_time": "2023-02-01T17:47:55.190Z"
   },
   {
    "duration": 9,
    "start_time": "2023-02-01T17:47:55.249Z"
   },
   {
    "duration": 10,
    "start_time": "2023-02-01T17:47:55.260Z"
   },
   {
    "duration": 7,
    "start_time": "2023-02-01T17:47:55.272Z"
   },
   {
    "duration": 72,
    "start_time": "2023-02-01T17:47:55.281Z"
   },
   {
    "duration": 82,
    "start_time": "2023-02-01T17:47:55.355Z"
   },
   {
    "duration": 95,
    "start_time": "2023-02-01T17:47:55.442Z"
   },
   {
    "duration": 13,
    "start_time": "2023-02-01T17:47:55.539Z"
   },
   {
    "duration": 9,
    "start_time": "2023-02-01T17:47:55.554Z"
   },
   {
    "duration": 38,
    "start_time": "2023-02-01T17:47:55.565Z"
   },
   {
    "duration": 18,
    "start_time": "2023-02-01T17:47:55.605Z"
   },
   {
    "duration": 89,
    "start_time": "2023-02-01T17:47:55.624Z"
   },
   {
    "duration": 4,
    "start_time": "2023-02-01T17:47:55.715Z"
   },
   {
    "duration": 3,
    "start_time": "2023-02-01T17:49:40.645Z"
   },
   {
    "duration": 8,
    "start_time": "2023-02-01T17:49:52.168Z"
   },
   {
    "duration": 828,
    "start_time": "2023-02-01T17:51:01.839Z"
   },
   {
    "duration": 26,
    "start_time": "2023-02-01T17:51:18.619Z"
   },
   {
    "duration": 735,
    "start_time": "2023-02-01T17:52:57.888Z"
   },
   {
    "duration": 10,
    "start_time": "2023-02-01T17:53:41.444Z"
   },
   {
    "duration": 4,
    "start_time": "2023-02-01T17:54:38.790Z"
   },
   {
    "duration": 9,
    "start_time": "2023-02-01T18:25:16.195Z"
   },
   {
    "duration": 9,
    "start_time": "2023-02-01T18:25:33.798Z"
   },
   {
    "duration": 4,
    "start_time": "2023-02-01T18:25:50.092Z"
   },
   {
    "duration": 5,
    "start_time": "2023-02-01T18:26:05.619Z"
   },
   {
    "duration": 13,
    "start_time": "2023-02-01T18:29:59.354Z"
   },
   {
    "duration": 5,
    "start_time": "2023-02-01T18:31:10.900Z"
   },
   {
    "duration": 63,
    "start_time": "2023-02-01T18:32:45.802Z"
   },
   {
    "duration": 64,
    "start_time": "2023-02-01T18:33:01.977Z"
   },
   {
    "duration": 57,
    "start_time": "2023-02-01T18:33:28.004Z"
   },
   {
    "duration": 7,
    "start_time": "2023-02-01T18:33:39.618Z"
   },
   {
    "duration": 49,
    "start_time": "2023-02-01T18:40:23.932Z"
   },
   {
    "duration": 5,
    "start_time": "2023-02-01T18:40:36.661Z"
   },
   {
    "duration": 9,
    "start_time": "2023-02-01T18:46:54.409Z"
   },
   {
    "duration": 15,
    "start_time": "2023-02-01T18:47:49.746Z"
   },
   {
    "duration": 21,
    "start_time": "2023-02-01T18:48:27.737Z"
   },
   {
    "duration": 15,
    "start_time": "2023-02-01T18:49:51.933Z"
   },
   {
    "duration": 16,
    "start_time": "2023-02-01T18:50:36.817Z"
   },
   {
    "duration": 783,
    "start_time": "2023-02-02T06:55:49.965Z"
   },
   {
    "duration": 622,
    "start_time": "2023-02-02T06:55:50.749Z"
   },
   {
    "duration": 28,
    "start_time": "2023-02-02T06:55:51.372Z"
   },
   {
    "duration": 5,
    "start_time": "2023-02-02T06:55:51.401Z"
   },
   {
    "duration": 13,
    "start_time": "2023-02-02T06:55:51.408Z"
   },
   {
    "duration": 95,
    "start_time": "2023-02-02T06:55:51.422Z"
   },
   {
    "duration": 120,
    "start_time": "2023-02-02T06:55:51.519Z"
   },
   {
    "duration": 44,
    "start_time": "2023-02-02T06:55:51.641Z"
   },
   {
    "duration": 29,
    "start_time": "2023-02-02T06:55:51.687Z"
   },
   {
    "duration": 12,
    "start_time": "2023-02-02T06:55:51.718Z"
   },
   {
    "duration": 7,
    "start_time": "2023-02-02T06:55:51.732Z"
   },
   {
    "duration": 38,
    "start_time": "2023-02-02T06:55:51.740Z"
   },
   {
    "duration": 4,
    "start_time": "2023-02-02T06:55:51.780Z"
   },
   {
    "duration": 4,
    "start_time": "2023-02-02T06:55:51.787Z"
   },
   {
    "duration": 297,
    "start_time": "2023-02-02T06:55:51.793Z"
   },
   {
    "duration": 34,
    "start_time": "2023-02-02T06:55:52.092Z"
   },
   {
    "duration": 21,
    "start_time": "2023-02-02T06:55:52.128Z"
   },
   {
    "duration": 46,
    "start_time": "2023-02-02T06:55:52.170Z"
   },
   {
    "duration": 7,
    "start_time": "2023-02-02T06:55:52.218Z"
   },
   {
    "duration": 29,
    "start_time": "2023-02-02T06:55:52.226Z"
   },
   {
    "duration": 23,
    "start_time": "2023-02-02T06:55:52.256Z"
   },
   {
    "duration": 47,
    "start_time": "2023-02-02T06:55:52.280Z"
   },
   {
    "duration": 72,
    "start_time": "2023-02-02T06:55:52.329Z"
   },
   {
    "duration": 94,
    "start_time": "2023-02-02T06:55:52.402Z"
   },
   {
    "duration": 10,
    "start_time": "2023-02-02T06:55:52.497Z"
   },
   {
    "duration": 37,
    "start_time": "2023-02-02T06:55:52.508Z"
   },
   {
    "duration": 79,
    "start_time": "2023-02-02T06:55:52.547Z"
   },
   {
    "duration": 75,
    "start_time": "2023-02-02T06:55:52.627Z"
   },
   {
    "duration": 0,
    "start_time": "2023-02-02T06:55:52.704Z"
   },
   {
    "duration": 0,
    "start_time": "2023-02-02T06:55:52.705Z"
   },
   {
    "duration": 5,
    "start_time": "2023-02-02T06:56:56.639Z"
   },
   {
    "duration": 72,
    "start_time": "2023-02-02T06:57:07.393Z"
   },
   {
    "duration": 14,
    "start_time": "2023-02-02T06:57:12.381Z"
   },
   {
    "duration": 5,
    "start_time": "2023-02-02T07:11:29.281Z"
   },
   {
    "duration": 4,
    "start_time": "2023-02-02T07:13:19.360Z"
   },
   {
    "duration": 18,
    "start_time": "2023-02-02T07:16:26.193Z"
   },
   {
    "duration": 4,
    "start_time": "2023-02-02T07:17:23.131Z"
   },
   {
    "duration": 11,
    "start_time": "2023-02-02T07:17:30.331Z"
   },
   {
    "duration": 53,
    "start_time": "2023-02-02T07:17:44.783Z"
   },
   {
    "duration": 10,
    "start_time": "2023-02-02T07:17:50.819Z"
   },
   {
    "duration": 5,
    "start_time": "2023-02-02T07:24:45.628Z"
   },
   {
    "duration": 5,
    "start_time": "2023-02-02T07:25:04.212Z"
   },
   {
    "duration": 5,
    "start_time": "2023-02-02T07:26:10.410Z"
   },
   {
    "duration": 6,
    "start_time": "2023-02-02T07:26:47.191Z"
   },
   {
    "duration": 888,
    "start_time": "2023-02-02T09:38:45.708Z"
   },
   {
    "duration": 793,
    "start_time": "2023-02-02T09:38:46.598Z"
   },
   {
    "duration": 24,
    "start_time": "2023-02-02T09:38:47.393Z"
   },
   {
    "duration": 19,
    "start_time": "2023-02-02T09:38:47.419Z"
   },
   {
    "duration": 14,
    "start_time": "2023-02-02T09:38:47.440Z"
   },
   {
    "duration": 68,
    "start_time": "2023-02-02T09:38:47.456Z"
   },
   {
    "duration": 135,
    "start_time": "2023-02-02T09:38:47.526Z"
   },
   {
    "duration": 21,
    "start_time": "2023-02-02T09:38:47.663Z"
   },
   {
    "duration": 39,
    "start_time": "2023-02-02T09:38:47.685Z"
   },
   {
    "duration": 10,
    "start_time": "2023-02-02T09:38:47.727Z"
   },
   {
    "duration": 11,
    "start_time": "2023-02-02T09:38:47.739Z"
   },
   {
    "duration": 19,
    "start_time": "2023-02-02T09:38:47.752Z"
   },
   {
    "duration": 6,
    "start_time": "2023-02-02T09:38:47.772Z"
   },
   {
    "duration": 6,
    "start_time": "2023-02-02T09:38:47.779Z"
   },
   {
    "duration": 299,
    "start_time": "2023-02-02T09:38:47.786Z"
   },
   {
    "duration": 42,
    "start_time": "2023-02-02T09:38:48.086Z"
   },
   {
    "duration": 18,
    "start_time": "2023-02-02T09:38:48.130Z"
   },
   {
    "duration": 24,
    "start_time": "2023-02-02T09:38:48.149Z"
   },
   {
    "duration": 7,
    "start_time": "2023-02-02T09:38:48.175Z"
   },
   {
    "duration": 30,
    "start_time": "2023-02-02T09:38:48.184Z"
   },
   {
    "duration": 7,
    "start_time": "2023-02-02T09:38:48.216Z"
   },
   {
    "duration": 21,
    "start_time": "2023-02-02T09:38:48.225Z"
   },
   {
    "duration": 86,
    "start_time": "2023-02-02T09:38:48.247Z"
   },
   {
    "duration": 88,
    "start_time": "2023-02-02T09:38:48.335Z"
   },
   {
    "duration": 11,
    "start_time": "2023-02-02T09:38:48.425Z"
   },
   {
    "duration": 4,
    "start_time": "2023-02-02T09:38:48.437Z"
   },
   {
    "duration": 36,
    "start_time": "2023-02-02T09:38:48.443Z"
   },
   {
    "duration": 28,
    "start_time": "2023-02-02T09:38:48.483Z"
   },
   {
    "duration": 77,
    "start_time": "2023-02-02T09:38:48.513Z"
   },
   {
    "duration": 13,
    "start_time": "2023-02-02T09:38:48.609Z"
   },
   {
    "duration": 5,
    "start_time": "2023-02-02T09:38:48.624Z"
   },
   {
    "duration": 6,
    "start_time": "2023-02-02T09:38:48.631Z"
   },
   {
    "duration": 5,
    "start_time": "2023-02-02T10:07:42.720Z"
   },
   {
    "duration": 76,
    "start_time": "2023-02-02T10:08:10.622Z"
   },
   {
    "duration": 3,
    "start_time": "2023-02-02T10:08:15.107Z"
   },
   {
    "duration": 7,
    "start_time": "2023-02-02T10:09:23.324Z"
   },
   {
    "duration": 30,
    "start_time": "2023-02-02T10:09:39.827Z"
   },
   {
    "duration": 73,
    "start_time": "2023-02-02T10:10:55.471Z"
   },
   {
    "duration": 29,
    "start_time": "2023-02-02T10:11:03.823Z"
   },
   {
    "duration": 4,
    "start_time": "2023-02-02T10:11:38.079Z"
   },
   {
    "duration": 5,
    "start_time": "2023-02-02T10:12:21.585Z"
   },
   {
    "duration": 1132,
    "start_time": "2023-02-02T10:12:25.359Z"
   },
   {
    "duration": 5,
    "start_time": "2023-02-02T10:12:56.158Z"
   },
   {
    "duration": 1195,
    "start_time": "2023-02-02T10:12:59.252Z"
   },
   {
    "duration": 5,
    "start_time": "2023-02-02T10:14:08.961Z"
   },
   {
    "duration": 1252,
    "start_time": "2023-02-02T10:14:12.968Z"
   },
   {
    "duration": 5,
    "start_time": "2023-02-02T10:17:14.054Z"
   },
   {
    "duration": 1125,
    "start_time": "2023-02-02T10:17:19.807Z"
   },
   {
    "duration": 4,
    "start_time": "2023-02-02T10:18:07.072Z"
   },
   {
    "duration": 1140,
    "start_time": "2023-02-02T10:18:10.620Z"
   },
   {
    "duration": 30,
    "start_time": "2023-02-02T10:19:20.979Z"
   },
   {
    "duration": 1120,
    "start_time": "2023-02-02T10:21:36.811Z"
   },
   {
    "duration": 5,
    "start_time": "2023-02-02T10:29:56.962Z"
   },
   {
    "duration": 1314,
    "start_time": "2023-02-02T10:30:00.068Z"
   },
   {
    "duration": 5,
    "start_time": "2023-02-02T10:32:37.258Z"
   },
   {
    "duration": 1237,
    "start_time": "2023-02-02T10:32:42.225Z"
   },
   {
    "duration": 5,
    "start_time": "2023-02-02T10:33:13.600Z"
   },
   {
    "duration": 1113,
    "start_time": "2023-02-02T10:33:16.431Z"
   },
   {
    "duration": 5,
    "start_time": "2023-02-02T10:34:06.569Z"
   },
   {
    "duration": 1093,
    "start_time": "2023-02-02T10:34:10.267Z"
   },
   {
    "duration": 5,
    "start_time": "2023-02-02T10:35:40.658Z"
   },
   {
    "duration": 20,
    "start_time": "2023-02-02T10:35:45.362Z"
   },
   {
    "duration": 5,
    "start_time": "2023-02-02T10:37:21.776Z"
   },
   {
    "duration": 1104,
    "start_time": "2023-02-02T10:38:48.123Z"
   },
   {
    "duration": 5,
    "start_time": "2023-02-02T10:40:01.597Z"
   },
   {
    "duration": 5,
    "start_time": "2023-02-02T10:40:12.494Z"
   },
   {
    "duration": 1539,
    "start_time": "2023-02-02T10:40:15.934Z"
   },
   {
    "duration": 4,
    "start_time": "2023-02-02T10:41:47.770Z"
   },
   {
    "duration": 1297,
    "start_time": "2023-02-02T10:41:50.165Z"
   },
   {
    "duration": 5,
    "start_time": "2023-02-02T10:44:59.353Z"
   },
   {
    "duration": 1344,
    "start_time": "2023-02-02T10:45:02.435Z"
   },
   {
    "duration": 13,
    "start_time": "2023-02-02T10:46:35.750Z"
   },
   {
    "duration": 12,
    "start_time": "2023-02-02T10:46:45.709Z"
   },
   {
    "duration": 37,
    "start_time": "2023-02-02T10:48:22.526Z"
   },
   {
    "duration": 35,
    "start_time": "2023-02-02T10:53:18.649Z"
   },
   {
    "duration": 16,
    "start_time": "2023-02-02T10:54:13.549Z"
   },
   {
    "duration": 41,
    "start_time": "2023-02-02T10:56:11.147Z"
   },
   {
    "duration": 43,
    "start_time": "2023-02-02T10:56:45.306Z"
   },
   {
    "duration": 47,
    "start_time": "2023-02-02T10:56:56.608Z"
   },
   {
    "duration": 110,
    "start_time": "2023-02-02T10:59:54.643Z"
   },
   {
    "duration": 30,
    "start_time": "2023-02-02T10:59:59.649Z"
   },
   {
    "duration": 3,
    "start_time": "2023-02-02T11:00:08.839Z"
   },
   {
    "duration": 177,
    "start_time": "2023-02-02T11:00:08.845Z"
   },
   {
    "duration": 20,
    "start_time": "2023-02-02T11:00:09.024Z"
   },
   {
    "duration": 5,
    "start_time": "2023-02-02T11:00:09.047Z"
   },
   {
    "duration": 8,
    "start_time": "2023-02-02T11:00:09.053Z"
   },
   {
    "duration": 93,
    "start_time": "2023-02-02T11:00:09.062Z"
   },
   {
    "duration": 130,
    "start_time": "2023-02-02T11:00:09.157Z"
   },
   {
    "duration": 43,
    "start_time": "2023-02-02T11:00:09.289Z"
   },
   {
    "duration": 30,
    "start_time": "2023-02-02T11:00:09.335Z"
   },
   {
    "duration": 10,
    "start_time": "2023-02-02T11:00:09.367Z"
   },
   {
    "duration": 32,
    "start_time": "2023-02-02T11:00:09.378Z"
   },
   {
    "duration": 28,
    "start_time": "2023-02-02T11:00:09.412Z"
   },
   {
    "duration": 6,
    "start_time": "2023-02-02T11:00:09.441Z"
   },
   {
    "duration": 5,
    "start_time": "2023-02-02T11:00:09.448Z"
   },
   {
    "duration": 231,
    "start_time": "2023-02-02T11:00:09.454Z"
   },
   {
    "duration": 38,
    "start_time": "2023-02-02T11:00:09.686Z"
   },
   {
    "duration": 22,
    "start_time": "2023-02-02T11:00:09.725Z"
   },
   {
    "duration": 27,
    "start_time": "2023-02-02T11:00:09.749Z"
   },
   {
    "duration": 33,
    "start_time": "2023-02-02T11:00:09.778Z"
   },
   {
    "duration": 24,
    "start_time": "2023-02-02T11:00:09.812Z"
   },
   {
    "duration": 6,
    "start_time": "2023-02-02T11:00:09.838Z"
   },
   {
    "duration": 23,
    "start_time": "2023-02-02T11:00:09.846Z"
   },
   {
    "duration": 76,
    "start_time": "2023-02-02T11:00:09.870Z"
   },
   {
    "duration": 88,
    "start_time": "2023-02-02T11:00:09.950Z"
   },
   {
    "duration": 11,
    "start_time": "2023-02-02T11:00:10.040Z"
   },
   {
    "duration": 15,
    "start_time": "2023-02-02T11:00:10.052Z"
   },
   {
    "duration": 42,
    "start_time": "2023-02-02T11:00:10.069Z"
   },
   {
    "duration": 1382,
    "start_time": "2023-02-02T11:00:10.112Z"
   },
   {
    "duration": 0,
    "start_time": "2023-02-02T11:00:11.496Z"
   },
   {
    "duration": 0,
    "start_time": "2023-02-02T11:00:11.497Z"
   },
   {
    "duration": 0,
    "start_time": "2023-02-02T11:00:11.498Z"
   },
   {
    "duration": 0,
    "start_time": "2023-02-02T11:00:11.499Z"
   },
   {
    "duration": 0,
    "start_time": "2023-02-02T11:00:11.500Z"
   },
   {
    "duration": 0,
    "start_time": "2023-02-02T11:00:11.501Z"
   },
   {
    "duration": 0,
    "start_time": "2023-02-02T11:00:11.502Z"
   },
   {
    "duration": 1211,
    "start_time": "2023-02-02T11:01:47.165Z"
   },
   {
    "duration": 45,
    "start_time": "2023-02-02T11:02:10.629Z"
   },
   {
    "duration": 31,
    "start_time": "2023-02-02T11:02:21.901Z"
   },
   {
    "duration": 4,
    "start_time": "2023-02-02T11:03:04.320Z"
   },
   {
    "duration": 72,
    "start_time": "2023-02-02T11:03:12.087Z"
   },
   {
    "duration": 895,
    "start_time": "2023-02-02T11:03:30.052Z"
   },
   {
    "duration": 5,
    "start_time": "2023-02-02T11:04:12.845Z"
   },
   {
    "duration": 10,
    "start_time": "2023-02-02T11:04:14.913Z"
   },
   {
    "duration": 12,
    "start_time": "2023-02-02T11:04:57.505Z"
   },
   {
    "duration": 12,
    "start_time": "2023-02-02T11:05:12.946Z"
   },
   {
    "duration": 4,
    "start_time": "2023-02-02T11:06:36.866Z"
   },
   {
    "duration": 5,
    "start_time": "2023-02-02T11:06:58.144Z"
   },
   {
    "duration": 1177,
    "start_time": "2023-02-02T11:07:02.879Z"
   },
   {
    "duration": 57,
    "start_time": "2023-02-02T11:09:01.741Z"
   },
   {
    "duration": 1198,
    "start_time": "2023-02-02T11:09:05.052Z"
   },
   {
    "duration": 36,
    "start_time": "2023-02-02T11:12:52.945Z"
   },
   {
    "duration": 33,
    "start_time": "2023-02-02T11:13:05.376Z"
   },
   {
    "duration": 33,
    "start_time": "2023-02-02T11:13:14.245Z"
   },
   {
    "duration": 13,
    "start_time": "2023-02-02T11:13:35.200Z"
   },
   {
    "duration": 4,
    "start_time": "2023-02-02T11:14:02.758Z"
   },
   {
    "duration": 3,
    "start_time": "2023-02-02T11:14:10.927Z"
   },
   {
    "duration": 149,
    "start_time": "2023-02-02T11:14:10.932Z"
   },
   {
    "duration": 28,
    "start_time": "2023-02-02T11:14:11.082Z"
   },
   {
    "duration": 5,
    "start_time": "2023-02-02T11:14:11.112Z"
   },
   {
    "duration": 11,
    "start_time": "2023-02-02T11:14:11.118Z"
   },
   {
    "duration": 49,
    "start_time": "2023-02-02T11:14:11.131Z"
   },
   {
    "duration": 109,
    "start_time": "2023-02-02T11:14:11.182Z"
   },
   {
    "duration": 33,
    "start_time": "2023-02-02T11:14:11.293Z"
   },
   {
    "duration": 30,
    "start_time": "2023-02-02T11:14:11.328Z"
   },
   {
    "duration": 10,
    "start_time": "2023-02-02T11:14:11.360Z"
   },
   {
    "duration": 8,
    "start_time": "2023-02-02T11:14:11.372Z"
   },
   {
    "duration": 36,
    "start_time": "2023-02-02T11:14:11.382Z"
   },
   {
    "duration": 4,
    "start_time": "2023-02-02T11:14:11.420Z"
   },
   {
    "duration": 6,
    "start_time": "2023-02-02T11:14:11.425Z"
   },
   {
    "duration": 205,
    "start_time": "2023-02-02T11:14:11.432Z"
   },
   {
    "duration": 29,
    "start_time": "2023-02-02T11:14:11.638Z"
   },
   {
    "duration": 18,
    "start_time": "2023-02-02T11:14:11.669Z"
   },
   {
    "duration": 40,
    "start_time": "2023-02-02T11:14:11.688Z"
   },
   {
    "duration": 7,
    "start_time": "2023-02-02T11:14:11.730Z"
   },
   {
    "duration": 9,
    "start_time": "2023-02-02T11:14:11.739Z"
   },
   {
    "duration": 8,
    "start_time": "2023-02-02T11:14:11.749Z"
   },
   {
    "duration": 21,
    "start_time": "2023-02-02T11:14:11.758Z"
   },
   {
    "duration": 59,
    "start_time": "2023-02-02T11:14:11.810Z"
   },
   {
    "duration": 80,
    "start_time": "2023-02-02T11:14:11.872Z"
   },
   {
    "duration": 11,
    "start_time": "2023-02-02T11:14:11.953Z"
   },
   {
    "duration": 19,
    "start_time": "2023-02-02T11:14:11.965Z"
   },
   {
    "duration": 40,
    "start_time": "2023-02-02T11:14:11.986Z"
   },
   {
    "duration": 5,
    "start_time": "2023-02-02T11:14:12.027Z"
   },
   {
    "duration": 83,
    "start_time": "2023-02-02T11:14:12.033Z"
   },
   {
    "duration": 13,
    "start_time": "2023-02-02T11:14:12.117Z"
   },
   {
    "duration": 5,
    "start_time": "2023-02-02T11:14:12.132Z"
   },
   {
    "duration": 18,
    "start_time": "2023-02-02T11:14:12.139Z"
   },
   {
    "duration": 0,
    "start_time": "2023-02-02T11:14:12.158Z"
   },
   {
    "duration": 0,
    "start_time": "2023-02-02T11:14:12.159Z"
   },
   {
    "duration": 0,
    "start_time": "2023-02-02T11:14:12.160Z"
   },
   {
    "duration": 5,
    "start_time": "2023-02-02T11:15:24.185Z"
   },
   {
    "duration": 5,
    "start_time": "2023-02-02T11:16:28.508Z"
   },
   {
    "duration": 3,
    "start_time": "2023-02-02T11:16:33.341Z"
   },
   {
    "duration": 1280,
    "start_time": "2023-02-02T11:16:36.571Z"
   },
   {
    "duration": 5,
    "start_time": "2023-02-02T11:17:43.216Z"
   },
   {
    "duration": 3,
    "start_time": "2023-02-02T11:17:45.002Z"
   },
   {
    "duration": 1131,
    "start_time": "2023-02-02T11:17:45.870Z"
   },
   {
    "duration": 35,
    "start_time": "2023-02-02T11:19:34.212Z"
   },
   {
    "duration": 35,
    "start_time": "2023-02-02T11:19:47.624Z"
   },
   {
    "duration": 1225,
    "start_time": "2023-02-02T11:20:13.571Z"
   },
   {
    "duration": 6,
    "start_time": "2023-02-02T11:21:22.620Z"
   },
   {
    "duration": 5,
    "start_time": "2023-02-02T11:22:27.247Z"
   },
   {
    "duration": 1230,
    "start_time": "2023-02-02T11:22:31.097Z"
   },
   {
    "duration": 5,
    "start_time": "2023-02-02T11:27:04.788Z"
   },
   {
    "duration": 1155,
    "start_time": "2023-02-02T11:27:08.198Z"
   },
   {
    "duration": 5,
    "start_time": "2023-02-02T11:29:15.802Z"
   },
   {
    "duration": 4,
    "start_time": "2023-02-02T11:29:17.587Z"
   },
   {
    "duration": 1193,
    "start_time": "2023-02-02T11:29:18.843Z"
   },
   {
    "duration": 7,
    "start_time": "2023-02-02T11:30:36.244Z"
   },
   {
    "duration": 1181,
    "start_time": "2023-02-02T11:30:48.462Z"
   },
   {
    "duration": 5,
    "start_time": "2023-02-02T11:31:39.813Z"
   },
   {
    "duration": 4,
    "start_time": "2023-02-02T11:31:41.807Z"
   },
   {
    "duration": 1095,
    "start_time": "2023-02-02T11:31:43.084Z"
   },
   {
    "duration": 6,
    "start_time": "2023-02-02T11:34:54.546Z"
   },
   {
    "duration": 5,
    "start_time": "2023-02-02T11:35:24.309Z"
   },
   {
    "duration": 4,
    "start_time": "2023-02-02T11:35:25.706Z"
   },
   {
    "duration": 1214,
    "start_time": "2023-02-02T11:35:26.524Z"
   },
   {
    "duration": 33,
    "start_time": "2023-02-02T11:36:17.329Z"
   },
   {
    "duration": 833,
    "start_time": "2023-02-02T16:39:44.361Z"
   },
   {
    "duration": 647,
    "start_time": "2023-02-02T16:39:45.196Z"
   },
   {
    "duration": 18,
    "start_time": "2023-02-02T16:39:45.845Z"
   },
   {
    "duration": 5,
    "start_time": "2023-02-02T16:39:45.866Z"
   },
   {
    "duration": 28,
    "start_time": "2023-02-02T16:39:45.873Z"
   },
   {
    "duration": 71,
    "start_time": "2023-02-02T16:39:45.903Z"
   },
   {
    "duration": 176,
    "start_time": "2023-02-02T16:39:45.976Z"
   },
   {
    "duration": 25,
    "start_time": "2023-02-02T16:39:46.154Z"
   },
   {
    "duration": 42,
    "start_time": "2023-02-02T16:39:46.192Z"
   },
   {
    "duration": 14,
    "start_time": "2023-02-02T16:39:46.238Z"
   },
   {
    "duration": 6,
    "start_time": "2023-02-02T16:39:46.253Z"
   },
   {
    "duration": 33,
    "start_time": "2023-02-02T16:39:46.261Z"
   },
   {
    "duration": 4,
    "start_time": "2023-02-02T16:39:46.295Z"
   },
   {
    "duration": 10,
    "start_time": "2023-02-02T16:39:46.301Z"
   },
   {
    "duration": 314,
    "start_time": "2023-02-02T16:39:46.312Z"
   },
   {
    "duration": 32,
    "start_time": "2023-02-02T16:39:46.627Z"
   },
   {
    "duration": 17,
    "start_time": "2023-02-02T16:39:46.660Z"
   },
   {
    "duration": 25,
    "start_time": "2023-02-02T16:39:46.692Z"
   },
   {
    "duration": 8,
    "start_time": "2023-02-02T16:39:46.719Z"
   },
   {
    "duration": 20,
    "start_time": "2023-02-02T16:39:46.729Z"
   },
   {
    "duration": 6,
    "start_time": "2023-02-02T16:39:46.751Z"
   },
   {
    "duration": 51,
    "start_time": "2023-02-02T16:39:46.759Z"
   },
   {
    "duration": 88,
    "start_time": "2023-02-02T16:39:46.812Z"
   },
   {
    "duration": 92,
    "start_time": "2023-02-02T16:39:46.901Z"
   },
   {
    "duration": 13,
    "start_time": "2023-02-02T16:39:46.995Z"
   },
   {
    "duration": 6,
    "start_time": "2023-02-02T16:39:47.010Z"
   },
   {
    "duration": 41,
    "start_time": "2023-02-02T16:39:47.017Z"
   },
   {
    "duration": 4,
    "start_time": "2023-02-02T16:39:47.061Z"
   },
   {
    "duration": 101,
    "start_time": "2023-02-02T16:39:47.092Z"
   },
   {
    "duration": 19,
    "start_time": "2023-02-02T16:39:47.195Z"
   },
   {
    "duration": 9,
    "start_time": "2023-02-02T16:39:47.216Z"
   },
   {
    "duration": 9,
    "start_time": "2023-02-02T16:39:47.227Z"
   },
   {
    "duration": 9,
    "start_time": "2023-02-02T16:39:47.237Z"
   },
   {
    "duration": 15,
    "start_time": "2023-02-02T16:39:47.248Z"
   },
   {
    "duration": 918,
    "start_time": "2023-02-02T16:39:47.265Z"
   },
   {
    "duration": 52,
    "start_time": "2023-02-02T16:40:43.681Z"
   },
   {
    "duration": 6,
    "start_time": "2023-02-02T16:41:04.029Z"
   },
   {
    "duration": 808,
    "start_time": "2023-02-02T16:51:46.878Z"
   },
   {
    "duration": 6,
    "start_time": "2023-02-02T16:52:10.498Z"
   },
   {
    "duration": 7,
    "start_time": "2023-02-02T16:56:03.346Z"
   },
   {
    "duration": 5,
    "start_time": "2023-02-02T16:56:05.540Z"
   },
   {
    "duration": 17,
    "start_time": "2023-02-02T16:56:06.596Z"
   },
   {
    "duration": 9,
    "start_time": "2023-02-02T16:56:59.514Z"
   },
   {
    "duration": 16,
    "start_time": "2023-02-02T16:59:08.830Z"
   },
   {
    "duration": 12,
    "start_time": "2023-02-02T17:01:18.977Z"
   },
   {
    "duration": 12,
    "start_time": "2023-02-02T17:01:44.698Z"
   },
   {
    "duration": 13,
    "start_time": "2023-02-02T17:02:50.092Z"
   },
   {
    "duration": 8,
    "start_time": "2023-02-02T17:03:02.847Z"
   },
   {
    "duration": 40,
    "start_time": "2023-02-02T17:07:13.713Z"
   },
   {
    "duration": 812,
    "start_time": "2023-02-02T17:07:27.101Z"
   },
   {
    "duration": 7,
    "start_time": "2023-02-02T17:09:00.980Z"
   },
   {
    "duration": 4,
    "start_time": "2023-02-02T17:09:02.545Z"
   },
   {
    "duration": 773,
    "start_time": "2023-02-02T17:09:03.686Z"
   },
   {
    "duration": 6,
    "start_time": "2023-02-02T17:11:35.640Z"
   },
   {
    "duration": 4,
    "start_time": "2023-02-02T17:11:36.939Z"
   },
   {
    "duration": 792,
    "start_time": "2023-02-02T17:11:37.715Z"
   },
   {
    "duration": 8,
    "start_time": "2023-02-02T17:12:42.747Z"
   },
   {
    "duration": 7,
    "start_time": "2023-02-02T17:12:52.260Z"
   },
   {
    "duration": 71,
    "start_time": "2023-02-02T17:16:10.939Z"
   },
   {
    "duration": 872,
    "start_time": "2023-02-02T17:16:58.102Z"
   },
   {
    "duration": 4,
    "start_time": "2023-02-02T17:22:04.377Z"
   },
   {
    "duration": 5,
    "start_time": "2023-02-02T17:22:37.666Z"
   },
   {
    "duration": 5,
    "start_time": "2023-02-02T17:22:46.502Z"
   },
   {
    "duration": 5,
    "start_time": "2023-02-02T17:23:31.313Z"
   },
   {
    "duration": 5,
    "start_time": "2023-02-02T17:23:33.710Z"
   },
   {
    "duration": 733,
    "start_time": "2023-02-02T17:23:34.815Z"
   },
   {
    "duration": 825,
    "start_time": "2023-02-02T17:27:04.905Z"
   },
   {
    "duration": 695,
    "start_time": "2023-02-02T17:27:27.627Z"
   },
   {
    "duration": 785,
    "start_time": "2023-02-02T17:28:22.469Z"
   },
   {
    "duration": 76,
    "start_time": "2023-02-02T17:28:40.425Z"
   },
   {
    "duration": 6,
    "start_time": "2023-02-02T17:29:07.711Z"
   },
   {
    "duration": 5,
    "start_time": "2023-02-02T17:29:27.003Z"
   },
   {
    "duration": 4,
    "start_time": "2023-02-02T17:29:29.174Z"
   },
   {
    "duration": 687,
    "start_time": "2023-02-02T17:29:30.354Z"
   },
   {
    "duration": 72,
    "start_time": "2023-02-02T17:34:59.330Z"
   },
   {
    "duration": 85,
    "start_time": "2023-02-02T17:35:16.379Z"
   },
   {
    "duration": 5,
    "start_time": "2023-02-02T17:40:47.895Z"
   },
   {
    "duration": 4,
    "start_time": "2023-02-02T17:40:50.149Z"
   },
   {
    "duration": 685,
    "start_time": "2023-02-02T17:40:52.162Z"
   },
   {
    "duration": 3,
    "start_time": "2023-02-02T17:51:07.826Z"
   },
   {
    "duration": 5,
    "start_time": "2023-02-02T17:54:57.505Z"
   },
   {
    "duration": 4,
    "start_time": "2023-02-02T17:54:59.061Z"
   },
   {
    "duration": 35,
    "start_time": "2023-02-02T17:55:00.035Z"
   },
   {
    "duration": 1915,
    "start_time": "2023-02-02T17:56:20.970Z"
   },
   {
    "duration": 3,
    "start_time": "2023-02-02T18:00:03.851Z"
   },
   {
    "duration": 720,
    "start_time": "2023-02-02T18:00:11.374Z"
   },
   {
    "duration": 17,
    "start_time": "2023-02-02T18:00:36.692Z"
   },
   {
    "duration": 755,
    "start_time": "2023-02-02T18:00:54.876Z"
   },
   {
    "duration": 12,
    "start_time": "2023-02-02T18:01:31.390Z"
   },
   {
    "duration": 13,
    "start_time": "2023-02-02T18:02:56.774Z"
   },
   {
    "duration": 45,
    "start_time": "2023-02-02T18:03:37.798Z"
   },
   {
    "duration": 663,
    "start_time": "2023-02-02T18:03:55.094Z"
   },
   {
    "duration": 788,
    "start_time": "2023-02-02T18:19:14.953Z"
   },
   {
    "duration": 3,
    "start_time": "2023-02-02T18:22:44.958Z"
   },
   {
    "duration": 10,
    "start_time": "2023-02-02T18:23:04.922Z"
   },
   {
    "duration": 12,
    "start_time": "2023-02-02T18:23:42.404Z"
   },
   {
    "duration": 4,
    "start_time": "2023-02-02T18:24:15.781Z"
   },
   {
    "duration": 49,
    "start_time": "2023-02-02T18:24:52.642Z"
   },
   {
    "duration": 920,
    "start_time": "2023-02-02T18:25:07.167Z"
   },
   {
    "duration": 12,
    "start_time": "2023-02-02T18:25:57.007Z"
   },
   {
    "duration": 14,
    "start_time": "2023-02-02T18:26:39.213Z"
   },
   {
    "duration": 86,
    "start_time": "2023-02-02T18:30:17.991Z"
   },
   {
    "duration": 7,
    "start_time": "2023-02-02T18:31:41.606Z"
   },
   {
    "duration": 579,
    "start_time": "2023-02-02T18:31:44.534Z"
   },
   {
    "duration": 736,
    "start_time": "2023-02-02T18:33:32.556Z"
   },
   {
    "duration": 7,
    "start_time": "2023-02-02T18:34:01.404Z"
   },
   {
    "duration": 48,
    "start_time": "2023-02-02T18:34:08.977Z"
   },
   {
    "duration": 5,
    "start_time": "2023-02-02T18:35:44.440Z"
   },
   {
    "duration": 32,
    "start_time": "2023-02-02T18:35:49.173Z"
   },
   {
    "duration": 33,
    "start_time": "2023-02-02T18:38:42.272Z"
   },
   {
    "duration": 6,
    "start_time": "2023-02-02T18:38:55.971Z"
   },
   {
    "duration": 793,
    "start_time": "2023-02-02T18:39:00.385Z"
   },
   {
    "duration": 5,
    "start_time": "2023-02-02T18:40:12.174Z"
   },
   {
    "duration": 29,
    "start_time": "2023-02-02T18:40:17.120Z"
   },
   {
    "duration": 5,
    "start_time": "2023-02-02T18:41:06.869Z"
   },
   {
    "duration": 10,
    "start_time": "2023-02-02T18:41:12.449Z"
   },
   {
    "duration": 5,
    "start_time": "2023-02-02T18:43:17.060Z"
   },
   {
    "duration": 10,
    "start_time": "2023-02-02T18:43:20.944Z"
   },
   {
    "duration": 430,
    "start_time": "2023-02-02T18:44:12.455Z"
   },
   {
    "duration": 5,
    "start_time": "2023-02-02T18:44:23.565Z"
   },
   {
    "duration": 11,
    "start_time": "2023-02-02T18:44:28.236Z"
   },
   {
    "duration": 11,
    "start_time": "2023-02-02T18:48:21.354Z"
   },
   {
    "duration": 730,
    "start_time": "2023-02-02T18:49:18.640Z"
   },
   {
    "duration": 2,
    "start_time": "2023-02-02T18:49:57.680Z"
   },
   {
    "duration": 41,
    "start_time": "2023-02-02T18:51:01.118Z"
   },
   {
    "duration": 92,
    "start_time": "2023-02-02T18:52:05.650Z"
   },
   {
    "duration": 10,
    "start_time": "2023-02-02T18:53:42.056Z"
   },
   {
    "duration": 9,
    "start_time": "2023-02-02T18:53:54.711Z"
   },
   {
    "duration": 92,
    "start_time": "2023-02-02T18:56:58.203Z"
   },
   {
    "duration": 61,
    "start_time": "2023-02-02T18:59:00.200Z"
   },
   {
    "duration": 533,
    "start_time": "2023-02-02T18:59:16.153Z"
   },
   {
    "duration": 741,
    "start_time": "2023-02-02T18:59:50.391Z"
   },
   {
    "duration": 9,
    "start_time": "2023-02-02T19:00:27.249Z"
   },
   {
    "duration": 11,
    "start_time": "2023-02-02T19:00:46.421Z"
   },
   {
    "duration": 13,
    "start_time": "2023-02-02T19:03:24.209Z"
   },
   {
    "duration": 11,
    "start_time": "2023-02-02T19:03:51.321Z"
   },
   {
    "duration": 37,
    "start_time": "2023-02-02T19:04:16.379Z"
   },
   {
    "duration": 10,
    "start_time": "2023-02-02T19:12:52.196Z"
   },
   {
    "duration": 32,
    "start_time": "2023-02-02T19:23:38.852Z"
   },
   {
    "duration": 39,
    "start_time": "2023-02-02T19:36:42.568Z"
   },
   {
    "duration": 71,
    "start_time": "2023-02-02T19:47:58.321Z"
   },
   {
    "duration": 97,
    "start_time": "2023-02-02T19:49:30.448Z"
   },
   {
    "duration": 51,
    "start_time": "2023-02-02T20:04:17.392Z"
   },
   {
    "duration": 5,
    "start_time": "2023-02-02T20:04:26.205Z"
   },
   {
    "duration": 12,
    "start_time": "2023-02-02T20:04:27.465Z"
   },
   {
    "duration": 5,
    "start_time": "2023-02-02T20:05:24.411Z"
   },
   {
    "duration": 11,
    "start_time": "2023-02-02T20:05:25.616Z"
   },
   {
    "duration": 5,
    "start_time": "2023-02-02T20:05:47.398Z"
   },
   {
    "duration": 11,
    "start_time": "2023-02-02T20:05:48.827Z"
   },
   {
    "duration": 5,
    "start_time": "2023-02-02T20:05:55.943Z"
   },
   {
    "duration": 10,
    "start_time": "2023-02-02T20:05:56.813Z"
   },
   {
    "duration": 5,
    "start_time": "2023-02-02T20:07:05.150Z"
   },
   {
    "duration": 13,
    "start_time": "2023-02-02T20:07:06.171Z"
   },
   {
    "duration": 13,
    "start_time": "2023-02-02T20:07:26.553Z"
   },
   {
    "duration": 49,
    "start_time": "2023-02-02T20:10:32.956Z"
   },
   {
    "duration": 16,
    "start_time": "2023-02-02T20:11:19.549Z"
   },
   {
    "duration": 15,
    "start_time": "2023-02-02T20:11:48.531Z"
   },
   {
    "duration": 102,
    "start_time": "2023-02-02T20:14:39.140Z"
   },
   {
    "duration": 11,
    "start_time": "2023-02-02T20:14:47.404Z"
   },
   {
    "duration": 13,
    "start_time": "2023-02-02T20:14:55.953Z"
   },
   {
    "duration": 6,
    "start_time": "2023-02-02T20:16:08.061Z"
   },
   {
    "duration": 10,
    "start_time": "2023-02-02T20:16:09.203Z"
   },
   {
    "duration": 1477,
    "start_time": "2023-02-03T10:03:53.977Z"
   },
   {
    "duration": 770,
    "start_time": "2023-02-03T10:03:55.456Z"
   },
   {
    "duration": 36,
    "start_time": "2023-02-03T10:03:56.228Z"
   },
   {
    "duration": 7,
    "start_time": "2023-02-03T10:03:56.267Z"
   },
   {
    "duration": 20,
    "start_time": "2023-02-03T10:03:56.277Z"
   },
   {
    "duration": 88,
    "start_time": "2023-02-03T10:03:56.299Z"
   },
   {
    "duration": 154,
    "start_time": "2023-02-03T10:03:56.389Z"
   },
   {
    "duration": 32,
    "start_time": "2023-02-03T10:03:56.545Z"
   },
   {
    "duration": 41,
    "start_time": "2023-02-03T10:03:56.579Z"
   },
   {
    "duration": 13,
    "start_time": "2023-02-03T10:03:56.642Z"
   },
   {
    "duration": 35,
    "start_time": "2023-02-03T10:03:56.657Z"
   },
   {
    "duration": 20,
    "start_time": "2023-02-03T10:03:56.694Z"
   },
   {
    "duration": 5,
    "start_time": "2023-02-03T10:03:56.716Z"
   },
   {
    "duration": 8,
    "start_time": "2023-02-03T10:03:56.722Z"
   },
   {
    "duration": 310,
    "start_time": "2023-02-03T10:03:56.731Z"
   },
   {
    "duration": 43,
    "start_time": "2023-02-03T10:03:57.044Z"
   },
   {
    "duration": 53,
    "start_time": "2023-02-03T10:03:57.089Z"
   },
   {
    "duration": 45,
    "start_time": "2023-02-03T10:03:57.144Z"
   },
   {
    "duration": 13,
    "start_time": "2023-02-03T10:03:57.191Z"
   },
   {
    "duration": 39,
    "start_time": "2023-02-03T10:03:57.206Z"
   },
   {
    "duration": 8,
    "start_time": "2023-02-03T10:03:57.247Z"
   },
   {
    "duration": 36,
    "start_time": "2023-02-03T10:03:57.257Z"
   },
   {
    "duration": 87,
    "start_time": "2023-02-03T10:03:57.295Z"
   },
   {
    "duration": 97,
    "start_time": "2023-02-03T10:03:57.384Z"
   },
   {
    "duration": 14,
    "start_time": "2023-02-03T10:03:57.482Z"
   },
   {
    "duration": 8,
    "start_time": "2023-02-03T10:03:57.498Z"
   },
   {
    "duration": 58,
    "start_time": "2023-02-03T10:03:57.508Z"
   },
   {
    "duration": 1215,
    "start_time": "2023-02-03T10:03:57.569Z"
   },
   {
    "duration": 0,
    "start_time": "2023-02-03T10:03:58.786Z"
   },
   {
    "duration": 0,
    "start_time": "2023-02-03T10:03:58.788Z"
   },
   {
    "duration": 0,
    "start_time": "2023-02-03T10:03:58.789Z"
   },
   {
    "duration": 0,
    "start_time": "2023-02-03T10:03:58.790Z"
   },
   {
    "duration": 0,
    "start_time": "2023-02-03T10:03:58.791Z"
   },
   {
    "duration": 0,
    "start_time": "2023-02-03T10:03:58.792Z"
   },
   {
    "duration": 0,
    "start_time": "2023-02-03T10:03:58.793Z"
   },
   {
    "duration": 0,
    "start_time": "2023-02-03T10:03:58.794Z"
   },
   {
    "duration": 5,
    "start_time": "2023-02-03T10:06:08.034Z"
   },
   {
    "duration": 42,
    "start_time": "2023-02-03T10:06:11.389Z"
   },
   {
    "duration": 85,
    "start_time": "2023-02-03T10:06:23.789Z"
   },
   {
    "duration": 100,
    "start_time": "2023-02-03T10:06:29.064Z"
   },
   {
    "duration": 6,
    "start_time": "2023-02-03T10:07:05.208Z"
   },
   {
    "duration": 12,
    "start_time": "2023-02-03T10:07:08.341Z"
   },
   {
    "duration": 14,
    "start_time": "2023-02-03T10:07:15.791Z"
   },
   {
    "duration": 14,
    "start_time": "2023-02-03T10:07:18.892Z"
   },
   {
    "duration": 7,
    "start_time": "2023-02-03T10:21:25.521Z"
   },
   {
    "duration": 10,
    "start_time": "2023-02-03T10:21:50.929Z"
   },
   {
    "duration": 9,
    "start_time": "2023-02-03T10:22:41.628Z"
   },
   {
    "duration": 10,
    "start_time": "2023-02-03T10:22:48.158Z"
   },
   {
    "duration": 1200,
    "start_time": "2023-02-03T10:24:34.825Z"
   },
   {
    "duration": 12,
    "start_time": "2023-02-03T10:27:21.447Z"
   },
   {
    "duration": 1143,
    "start_time": "2023-02-03T10:27:32.439Z"
   },
   {
    "duration": 15,
    "start_time": "2023-02-03T10:28:20.792Z"
   },
   {
    "duration": 8,
    "start_time": "2023-02-03T10:28:46.931Z"
   },
   {
    "duration": 1183,
    "start_time": "2023-02-03T10:29:37.503Z"
   },
   {
    "duration": 22,
    "start_time": "2023-02-03T10:31:22.237Z"
   },
   {
    "duration": 13,
    "start_time": "2023-02-03T10:32:47.826Z"
   },
   {
    "duration": 3,
    "start_time": "2023-02-03T10:36:18.126Z"
   },
   {
    "duration": 201,
    "start_time": "2023-02-03T10:36:18.141Z"
   },
   {
    "duration": 19,
    "start_time": "2023-02-03T10:36:18.344Z"
   },
   {
    "duration": 5,
    "start_time": "2023-02-03T10:36:18.365Z"
   },
   {
    "duration": 12,
    "start_time": "2023-02-03T10:36:18.372Z"
   },
   {
    "duration": 91,
    "start_time": "2023-02-03T10:36:18.387Z"
   },
   {
    "duration": 135,
    "start_time": "2023-02-03T10:36:18.479Z"
   },
   {
    "duration": 34,
    "start_time": "2023-02-03T10:36:18.615Z"
   },
   {
    "duration": 33,
    "start_time": "2023-02-03T10:36:18.651Z"
   },
   {
    "duration": 13,
    "start_time": "2023-02-03T10:36:18.685Z"
   },
   {
    "duration": 11,
    "start_time": "2023-02-03T10:36:18.700Z"
   },
   {
    "duration": 47,
    "start_time": "2023-02-03T10:36:18.714Z"
   },
   {
    "duration": 7,
    "start_time": "2023-02-03T10:36:18.763Z"
   },
   {
    "duration": 9,
    "start_time": "2023-02-03T10:36:18.772Z"
   },
   {
    "duration": 285,
    "start_time": "2023-02-03T10:36:18.785Z"
   },
   {
    "duration": 46,
    "start_time": "2023-02-03T10:36:19.072Z"
   },
   {
    "duration": 52,
    "start_time": "2023-02-03T10:36:19.120Z"
   },
   {
    "duration": 39,
    "start_time": "2023-02-03T10:36:19.174Z"
   },
   {
    "duration": 26,
    "start_time": "2023-02-03T10:36:19.217Z"
   },
   {
    "duration": 13,
    "start_time": "2023-02-03T10:36:19.245Z"
   },
   {
    "duration": 7,
    "start_time": "2023-02-03T10:36:19.260Z"
   },
   {
    "duration": 35,
    "start_time": "2023-02-03T10:36:19.269Z"
   },
   {
    "duration": 105,
    "start_time": "2023-02-03T10:36:19.306Z"
   },
   {
    "duration": 87,
    "start_time": "2023-02-03T10:36:19.412Z"
   },
   {
    "duration": 15,
    "start_time": "2023-02-03T10:36:19.502Z"
   },
   {
    "duration": 21,
    "start_time": "2023-02-03T10:36:19.519Z"
   },
   {
    "duration": 36,
    "start_time": "2023-02-03T10:36:19.541Z"
   },
   {
    "duration": 5,
    "start_time": "2023-02-03T10:36:19.579Z"
   },
   {
    "duration": 66,
    "start_time": "2023-02-03T10:36:19.586Z"
   },
   {
    "duration": 97,
    "start_time": "2023-02-03T10:36:19.654Z"
   },
   {
    "duration": 110,
    "start_time": "2023-02-03T10:36:19.753Z"
   },
   {
    "duration": 3,
    "start_time": "2023-02-03T10:36:19.864Z"
   },
   {
    "duration": 8,
    "start_time": "2023-02-03T10:36:19.869Z"
   },
   {
    "duration": 19,
    "start_time": "2023-02-03T10:36:19.879Z"
   },
   {
    "duration": 41,
    "start_time": "2023-02-03T10:36:19.900Z"
   },
   {
    "duration": 12,
    "start_time": "2023-02-03T10:36:19.943Z"
   },
   {
    "duration": 9,
    "start_time": "2023-02-03T10:36:19.957Z"
   },
   {
    "duration": 13,
    "start_time": "2023-02-03T10:36:19.968Z"
   },
   {
    "duration": 1233,
    "start_time": "2023-02-03T10:37:46.004Z"
   },
   {
    "duration": 1135,
    "start_time": "2023-02-03T10:38:08.413Z"
   },
   {
    "duration": 8,
    "start_time": "2023-02-03T10:38:24.356Z"
   },
   {
    "duration": 1112,
    "start_time": "2023-02-03T10:38:27.177Z"
   },
   {
    "duration": 1239,
    "start_time": "2023-02-03T10:39:49.810Z"
   },
   {
    "duration": 3,
    "start_time": "2023-02-03T10:43:24.478Z"
   },
   {
    "duration": 184,
    "start_time": "2023-02-03T10:43:24.489Z"
   },
   {
    "duration": 20,
    "start_time": "2023-02-03T10:43:24.675Z"
   },
   {
    "duration": 5,
    "start_time": "2023-02-03T10:43:24.697Z"
   },
   {
    "duration": 39,
    "start_time": "2023-02-03T10:43:24.704Z"
   },
   {
    "duration": 55,
    "start_time": "2023-02-03T10:43:24.745Z"
   },
   {
    "duration": 134,
    "start_time": "2023-02-03T10:43:24.802Z"
   },
   {
    "duration": 25,
    "start_time": "2023-02-03T10:43:24.939Z"
   },
   {
    "duration": 34,
    "start_time": "2023-02-03T10:43:24.966Z"
   },
   {
    "duration": 12,
    "start_time": "2023-02-03T10:43:25.002Z"
   },
   {
    "duration": 6,
    "start_time": "2023-02-03T10:43:25.041Z"
   },
   {
    "duration": 22,
    "start_time": "2023-02-03T10:43:25.049Z"
   },
   {
    "duration": 18,
    "start_time": "2023-02-03T10:43:25.075Z"
   },
   {
    "duration": 10,
    "start_time": "2023-02-03T10:43:25.096Z"
   },
   {
    "duration": 241,
    "start_time": "2023-02-03T10:43:25.108Z"
   },
   {
    "duration": 34,
    "start_time": "2023-02-03T10:43:25.351Z"
   },
   {
    "duration": 23,
    "start_time": "2023-02-03T10:43:25.387Z"
   },
   {
    "duration": 67,
    "start_time": "2023-02-03T10:43:25.411Z"
   },
   {
    "duration": 7,
    "start_time": "2023-02-03T10:43:25.480Z"
   },
   {
    "duration": 10,
    "start_time": "2023-02-03T10:43:25.489Z"
   },
   {
    "duration": 5,
    "start_time": "2023-02-03T10:43:25.501Z"
   },
   {
    "duration": 56,
    "start_time": "2023-02-03T10:43:25.507Z"
   },
   {
    "duration": 76,
    "start_time": "2023-02-03T10:43:25.565Z"
   },
   {
    "duration": 77,
    "start_time": "2023-02-03T10:43:25.643Z"
   },
   {
    "duration": 28,
    "start_time": "2023-02-03T10:43:25.722Z"
   },
   {
    "duration": 30,
    "start_time": "2023-02-03T10:43:25.753Z"
   },
   {
    "duration": 42,
    "start_time": "2023-02-03T10:43:25.785Z"
   },
   {
    "duration": 5,
    "start_time": "2023-02-03T10:43:25.829Z"
   },
   {
    "duration": 49,
    "start_time": "2023-02-03T10:43:25.838Z"
   },
   {
    "duration": 92,
    "start_time": "2023-02-03T10:43:25.889Z"
   },
   {
    "duration": 108,
    "start_time": "2023-02-03T10:43:25.983Z"
   },
   {
    "duration": 3,
    "start_time": "2023-02-03T10:43:26.093Z"
   },
   {
    "duration": 16,
    "start_time": "2023-02-03T10:43:26.098Z"
   },
   {
    "duration": 31,
    "start_time": "2023-02-03T10:43:26.116Z"
   },
   {
    "duration": 17,
    "start_time": "2023-02-03T10:43:26.149Z"
   },
   {
    "duration": 15,
    "start_time": "2023-02-03T10:43:26.168Z"
   },
   {
    "duration": 8,
    "start_time": "2023-02-03T10:46:17.674Z"
   },
   {
    "duration": 4,
    "start_time": "2023-02-03T10:47:41.777Z"
   },
   {
    "duration": 7,
    "start_time": "2023-02-03T10:47:51.896Z"
   },
   {
    "duration": 4,
    "start_time": "2023-02-03T10:49:07.804Z"
   },
   {
    "duration": 8,
    "start_time": "2023-02-03T10:49:08.913Z"
   },
   {
    "duration": 3,
    "start_time": "2023-02-03T10:50:58.450Z"
   },
   {
    "duration": 158,
    "start_time": "2023-02-03T10:50:58.467Z"
   },
   {
    "duration": 21,
    "start_time": "2023-02-03T10:50:58.640Z"
   },
   {
    "duration": 5,
    "start_time": "2023-02-03T10:50:58.662Z"
   },
   {
    "duration": 33,
    "start_time": "2023-02-03T10:50:58.670Z"
   },
   {
    "duration": 66,
    "start_time": "2023-02-03T10:50:58.705Z"
   },
   {
    "duration": 135,
    "start_time": "2023-02-03T10:50:58.773Z"
   },
   {
    "duration": 47,
    "start_time": "2023-02-03T10:50:58.910Z"
   },
   {
    "duration": 42,
    "start_time": "2023-02-03T10:50:58.959Z"
   },
   {
    "duration": 18,
    "start_time": "2023-02-03T10:50:59.003Z"
   },
   {
    "duration": 17,
    "start_time": "2023-02-03T10:50:59.039Z"
   },
   {
    "duration": 43,
    "start_time": "2023-02-03T10:50:59.058Z"
   },
   {
    "duration": 8,
    "start_time": "2023-02-03T10:50:59.103Z"
   },
   {
    "duration": 12,
    "start_time": "2023-02-03T10:50:59.112Z"
   },
   {
    "duration": 228,
    "start_time": "2023-02-03T10:50:59.125Z"
   },
   {
    "duration": 32,
    "start_time": "2023-02-03T10:50:59.354Z"
   },
   {
    "duration": 22,
    "start_time": "2023-02-03T10:50:59.388Z"
   },
   {
    "duration": 56,
    "start_time": "2023-02-03T10:50:59.411Z"
   },
   {
    "duration": 11,
    "start_time": "2023-02-03T10:50:59.469Z"
   },
   {
    "duration": 11,
    "start_time": "2023-02-03T10:50:59.482Z"
   },
   {
    "duration": 12,
    "start_time": "2023-02-03T10:50:59.494Z"
   },
   {
    "duration": 50,
    "start_time": "2023-02-03T10:50:59.507Z"
   },
   {
    "duration": 69,
    "start_time": "2023-02-03T10:50:59.559Z"
   },
   {
    "duration": 76,
    "start_time": "2023-02-03T10:50:59.639Z"
   },
   {
    "duration": 30,
    "start_time": "2023-02-03T10:50:59.717Z"
   },
   {
    "duration": 7,
    "start_time": "2023-02-03T10:50:59.749Z"
   },
   {
    "duration": 65,
    "start_time": "2023-02-03T10:50:59.758Z"
   },
   {
    "duration": 4,
    "start_time": "2023-02-03T10:50:59.824Z"
   },
   {
    "duration": 47,
    "start_time": "2023-02-03T10:50:59.831Z"
   },
   {
    "duration": 81,
    "start_time": "2023-02-03T10:50:59.880Z"
   },
   {
    "duration": 93,
    "start_time": "2023-02-03T10:50:59.963Z"
   },
   {
    "duration": 2,
    "start_time": "2023-02-03T10:51:00.058Z"
   },
   {
    "duration": 14,
    "start_time": "2023-02-03T10:51:00.062Z"
   },
   {
    "duration": 69,
    "start_time": "2023-02-03T10:51:00.077Z"
   },
   {
    "duration": 52,
    "start_time": "2023-02-03T10:51:00.148Z"
   },
   {
    "duration": 21,
    "start_time": "2023-02-03T10:51:00.202Z"
   },
   {
    "duration": 42,
    "start_time": "2023-02-03T10:51:00.225Z"
   },
   {
    "duration": 35,
    "start_time": "2023-02-03T10:51:00.269Z"
   },
   {
    "duration": 69,
    "start_time": "2023-02-03T10:51:00.306Z"
   },
   {
    "duration": 7,
    "start_time": "2023-02-03T10:51:30.026Z"
   },
   {
    "duration": 5,
    "start_time": "2023-02-03T10:51:43.367Z"
   },
   {
    "duration": 8,
    "start_time": "2023-02-03T10:51:44.945Z"
   },
   {
    "duration": 12,
    "start_time": "2023-02-03T10:54:51.634Z"
   },
   {
    "duration": 15,
    "start_time": "2023-02-03T10:56:58.961Z"
   },
   {
    "duration": 12,
    "start_time": "2023-02-03T10:59:01.140Z"
   },
   {
    "duration": 11,
    "start_time": "2023-02-03T10:59:34.686Z"
   },
   {
    "duration": 18,
    "start_time": "2023-02-03T11:01:39.127Z"
   },
   {
    "duration": 13,
    "start_time": "2023-02-03T11:02:21.685Z"
   },
   {
    "duration": 3,
    "start_time": "2023-02-03T11:02:32.892Z"
   },
   {
    "duration": 3,
    "start_time": "2023-02-03T11:03:13.964Z"
   },
   {
    "duration": 181,
    "start_time": "2023-02-03T11:03:13.970Z"
   },
   {
    "duration": 21,
    "start_time": "2023-02-03T11:03:14.153Z"
   },
   {
    "duration": 5,
    "start_time": "2023-02-03T11:03:14.176Z"
   },
   {
    "duration": 10,
    "start_time": "2023-02-03T11:03:14.183Z"
   },
   {
    "duration": 88,
    "start_time": "2023-02-03T11:03:14.194Z"
   },
   {
    "duration": 111,
    "start_time": "2023-02-03T11:03:14.284Z"
   },
   {
    "duration": 23,
    "start_time": "2023-02-03T11:03:14.397Z"
   },
   {
    "duration": 49,
    "start_time": "2023-02-03T11:03:14.422Z"
   },
   {
    "duration": 12,
    "start_time": "2023-02-03T11:03:14.473Z"
   },
   {
    "duration": 27,
    "start_time": "2023-02-03T11:03:14.488Z"
   },
   {
    "duration": 20,
    "start_time": "2023-02-03T11:03:14.517Z"
   },
   {
    "duration": 13,
    "start_time": "2023-02-03T11:03:14.539Z"
   },
   {
    "duration": 8,
    "start_time": "2023-02-03T11:03:14.554Z"
   },
   {
    "duration": 203,
    "start_time": "2023-02-03T11:03:14.564Z"
   },
   {
    "duration": 42,
    "start_time": "2023-02-03T11:03:14.769Z"
   },
   {
    "duration": 42,
    "start_time": "2023-02-03T11:03:14.813Z"
   },
   {
    "duration": 39,
    "start_time": "2023-02-03T11:03:14.856Z"
   },
   {
    "duration": 10,
    "start_time": "2023-02-03T11:03:14.897Z"
   },
   {
    "duration": 33,
    "start_time": "2023-02-03T11:03:14.908Z"
   },
   {
    "duration": 5,
    "start_time": "2023-02-03T11:03:14.943Z"
   },
   {
    "duration": 28,
    "start_time": "2023-02-03T11:03:14.949Z"
   },
   {
    "duration": 83,
    "start_time": "2023-02-03T11:03:14.978Z"
   },
   {
    "duration": 91,
    "start_time": "2023-02-03T11:03:15.063Z"
   },
   {
    "duration": 12,
    "start_time": "2023-02-03T11:03:15.156Z"
   },
   {
    "duration": 8,
    "start_time": "2023-02-03T11:03:15.169Z"
   },
   {
    "duration": 35,
    "start_time": "2023-02-03T11:03:15.178Z"
   },
   {
    "duration": 5,
    "start_time": "2023-02-03T11:03:15.214Z"
   },
   {
    "duration": 53,
    "start_time": "2023-02-03T11:03:15.221Z"
   },
   {
    "duration": 89,
    "start_time": "2023-02-03T11:03:15.276Z"
   },
   {
    "duration": 86,
    "start_time": "2023-02-03T11:03:15.366Z"
   },
   {
    "duration": 2,
    "start_time": "2023-02-03T11:03:15.454Z"
   },
   {
    "duration": 10,
    "start_time": "2023-02-03T11:03:15.457Z"
   },
   {
    "duration": 17,
    "start_time": "2023-02-03T11:03:15.470Z"
   },
   {
    "duration": 17,
    "start_time": "2023-02-03T11:03:15.489Z"
   },
   {
    "duration": 10,
    "start_time": "2023-02-03T11:03:15.508Z"
   },
   {
    "duration": 8,
    "start_time": "2023-02-03T11:03:15.541Z"
   },
   {
    "duration": 4,
    "start_time": "2023-02-03T11:03:15.551Z"
   },
   {
    "duration": 7,
    "start_time": "2023-02-03T11:03:15.556Z"
   },
   {
    "duration": 6,
    "start_time": "2023-02-03T11:03:15.564Z"
   },
   {
    "duration": 4,
    "start_time": "2023-02-03T11:03:15.572Z"
   },
   {
    "duration": 1125,
    "start_time": "2023-02-03T11:03:49.503Z"
   },
   {
    "duration": 71,
    "start_time": "2023-02-03T11:09:04.421Z"
   },
   {
    "duration": 4,
    "start_time": "2023-02-03T11:09:40.577Z"
   },
   {
    "duration": 7,
    "start_time": "2023-02-03T11:09:54.336Z"
   },
   {
    "duration": 3,
    "start_time": "2023-02-03T11:12:02.774Z"
   },
   {
    "duration": 190,
    "start_time": "2023-02-03T11:12:02.778Z"
   },
   {
    "duration": 21,
    "start_time": "2023-02-03T11:12:02.970Z"
   },
   {
    "duration": 5,
    "start_time": "2023-02-03T11:12:02.993Z"
   },
   {
    "duration": 40,
    "start_time": "2023-02-03T11:12:03.000Z"
   },
   {
    "duration": 61,
    "start_time": "2023-02-03T11:12:03.043Z"
   },
   {
    "duration": 120,
    "start_time": "2023-02-03T11:12:03.105Z"
   },
   {
    "duration": 41,
    "start_time": "2023-02-03T11:12:03.227Z"
   },
   {
    "duration": 34,
    "start_time": "2023-02-03T11:12:03.270Z"
   },
   {
    "duration": 14,
    "start_time": "2023-02-03T11:12:03.305Z"
   },
   {
    "duration": 9,
    "start_time": "2023-02-03T11:12:03.340Z"
   },
   {
    "duration": 21,
    "start_time": "2023-02-03T11:12:03.351Z"
   },
   {
    "duration": 9,
    "start_time": "2023-02-03T11:12:03.374Z"
   },
   {
    "duration": 10,
    "start_time": "2023-02-03T11:12:03.384Z"
   },
   {
    "duration": 249,
    "start_time": "2023-02-03T11:12:03.396Z"
   },
   {
    "duration": 34,
    "start_time": "2023-02-03T11:12:03.648Z"
   },
   {
    "duration": 23,
    "start_time": "2023-02-03T11:12:03.684Z"
   },
   {
    "duration": 67,
    "start_time": "2023-02-03T11:12:03.708Z"
   },
   {
    "duration": 7,
    "start_time": "2023-02-03T11:12:03.777Z"
   },
   {
    "duration": 11,
    "start_time": "2023-02-03T11:12:03.786Z"
   },
   {
    "duration": 10,
    "start_time": "2023-02-03T11:12:03.799Z"
   },
   {
    "duration": 54,
    "start_time": "2023-02-03T11:12:03.811Z"
   },
   {
    "duration": 81,
    "start_time": "2023-02-03T11:12:03.866Z"
   },
   {
    "duration": 75,
    "start_time": "2023-02-03T11:12:03.952Z"
   },
   {
    "duration": 27,
    "start_time": "2023-02-03T11:12:04.029Z"
   },
   {
    "duration": 6,
    "start_time": "2023-02-03T11:12:04.058Z"
   },
   {
    "duration": 37,
    "start_time": "2023-02-03T11:12:04.066Z"
   },
   {
    "duration": 4,
    "start_time": "2023-02-03T11:12:04.104Z"
   },
   {
    "duration": 69,
    "start_time": "2023-02-03T11:12:04.110Z"
   },
   {
    "duration": 92,
    "start_time": "2023-02-03T11:12:04.180Z"
   },
   {
    "duration": 96,
    "start_time": "2023-02-03T11:12:04.274Z"
   },
   {
    "duration": 2,
    "start_time": "2023-02-03T11:12:04.372Z"
   },
   {
    "duration": 7,
    "start_time": "2023-02-03T11:12:04.375Z"
   },
   {
    "duration": 27,
    "start_time": "2023-02-03T11:12:04.384Z"
   },
   {
    "duration": 27,
    "start_time": "2023-02-03T11:12:04.412Z"
   },
   {
    "duration": 15,
    "start_time": "2023-02-03T11:12:04.443Z"
   },
   {
    "duration": 9,
    "start_time": "2023-02-03T11:12:04.460Z"
   },
   {
    "duration": 7,
    "start_time": "2023-02-03T11:12:04.471Z"
   },
   {
    "duration": 4,
    "start_time": "2023-02-03T11:12:04.480Z"
   },
   {
    "duration": 9,
    "start_time": "2023-02-03T11:12:04.486Z"
   },
   {
    "duration": 10,
    "start_time": "2023-02-03T11:12:04.496Z"
   },
   {
    "duration": 1313,
    "start_time": "2023-02-03T11:12:04.508Z"
   },
   {
    "duration": 0,
    "start_time": "2023-02-03T11:12:05.823Z"
   },
   {
    "duration": 0,
    "start_time": "2023-02-03T11:12:05.825Z"
   },
   {
    "duration": 9,
    "start_time": "2023-02-03T11:14:34.896Z"
   },
   {
    "duration": 14,
    "start_time": "2023-02-03T11:15:27.958Z"
   },
   {
    "duration": 15,
    "start_time": "2023-02-03T11:16:58.886Z"
   },
   {
    "duration": 12,
    "start_time": "2023-02-03T11:22:21.756Z"
   },
   {
    "duration": 8,
    "start_time": "2023-02-03T11:23:35.713Z"
   },
   {
    "duration": 10,
    "start_time": "2023-02-03T11:23:42.832Z"
   },
   {
    "duration": 10,
    "start_time": "2023-02-03T11:24:14.319Z"
   },
   {
    "duration": 12,
    "start_time": "2023-02-03T11:24:24.605Z"
   },
   {
    "duration": 8,
    "start_time": "2023-02-03T11:30:09.402Z"
   },
   {
    "duration": 12,
    "start_time": "2023-02-03T11:31:23.233Z"
   },
   {
    "duration": 8,
    "start_time": "2023-02-03T11:31:31.889Z"
   },
   {
    "duration": 11,
    "start_time": "2023-02-03T11:32:31.059Z"
   },
   {
    "duration": 8,
    "start_time": "2023-02-03T11:32:45.285Z"
   },
   {
    "duration": 10,
    "start_time": "2023-02-03T11:39:25.618Z"
   },
   {
    "duration": 886,
    "start_time": "2023-02-03T11:40:48.760Z"
   },
   {
    "duration": 907,
    "start_time": "2023-02-03T11:41:31.090Z"
   },
   {
    "duration": 8,
    "start_time": "2023-02-03T11:42:15.913Z"
   },
   {
    "duration": 9,
    "start_time": "2023-02-03T11:42:28.310Z"
   },
   {
    "duration": 840,
    "start_time": "2023-02-03T11:42:51.966Z"
   },
   {
    "duration": 933,
    "start_time": "2023-02-03T11:44:17.861Z"
   },
   {
    "duration": 85,
    "start_time": "2023-02-03T11:45:46.323Z"
   },
   {
    "duration": 1167,
    "start_time": "2023-02-03T11:45:53.793Z"
   },
   {
    "duration": 4,
    "start_time": "2023-02-03T11:46:33.432Z"
   },
   {
    "duration": 163,
    "start_time": "2023-02-03T11:46:33.438Z"
   },
   {
    "duration": 43,
    "start_time": "2023-02-03T11:46:33.603Z"
   },
   {
    "duration": 6,
    "start_time": "2023-02-03T11:46:33.649Z"
   },
   {
    "duration": 16,
    "start_time": "2023-02-03T11:46:33.657Z"
   },
   {
    "duration": 79,
    "start_time": "2023-02-03T11:46:33.674Z"
   },
   {
    "duration": 121,
    "start_time": "2023-02-03T11:46:33.755Z"
   },
   {
    "duration": 27,
    "start_time": "2023-02-03T11:46:33.878Z"
   },
   {
    "duration": 50,
    "start_time": "2023-02-03T11:46:33.907Z"
   },
   {
    "duration": 13,
    "start_time": "2023-02-03T11:46:33.959Z"
   },
   {
    "duration": 7,
    "start_time": "2023-02-03T11:46:33.975Z"
   },
   {
    "duration": 16,
    "start_time": "2023-02-03T11:46:33.985Z"
   },
   {
    "duration": 5,
    "start_time": "2023-02-03T11:46:34.003Z"
   },
   {
    "duration": 9,
    "start_time": "2023-02-03T11:46:34.040Z"
   },
   {
    "duration": 226,
    "start_time": "2023-02-03T11:46:34.052Z"
   },
   {
    "duration": 33,
    "start_time": "2023-02-03T11:46:34.280Z"
   },
   {
    "duration": 37,
    "start_time": "2023-02-03T11:46:34.315Z"
   },
   {
    "duration": 32,
    "start_time": "2023-02-03T11:46:34.354Z"
   },
   {
    "duration": 8,
    "start_time": "2023-02-03T11:46:34.388Z"
   },
   {
    "duration": 10,
    "start_time": "2023-02-03T11:46:34.398Z"
   },
   {
    "duration": 34,
    "start_time": "2023-02-03T11:46:34.409Z"
   },
   {
    "duration": 24,
    "start_time": "2023-02-03T11:46:34.445Z"
   },
   {
    "duration": 82,
    "start_time": "2023-02-03T11:46:34.470Z"
   },
   {
    "duration": 87,
    "start_time": "2023-02-03T11:46:34.553Z"
   },
   {
    "duration": 15,
    "start_time": "2023-02-03T11:46:34.642Z"
   },
   {
    "duration": 10,
    "start_time": "2023-02-03T11:46:34.659Z"
   },
   {
    "duration": 40,
    "start_time": "2023-02-03T11:46:34.671Z"
   },
   {
    "duration": 26,
    "start_time": "2023-02-03T11:46:34.713Z"
   },
   {
    "duration": 42,
    "start_time": "2023-02-03T11:46:34.744Z"
   },
   {
    "duration": 187,
    "start_time": "2023-02-03T11:46:34.789Z"
   },
   {
    "duration": 89,
    "start_time": "2023-02-03T11:46:34.978Z"
   },
   {
    "duration": 3,
    "start_time": "2023-02-03T11:46:35.068Z"
   },
   {
    "duration": 8,
    "start_time": "2023-02-03T11:46:35.073Z"
   },
   {
    "duration": 18,
    "start_time": "2023-02-03T11:46:35.083Z"
   },
   {
    "duration": 37,
    "start_time": "2023-02-03T11:46:35.103Z"
   },
   {
    "duration": 20,
    "start_time": "2023-02-03T11:46:35.142Z"
   },
   {
    "duration": 11,
    "start_time": "2023-02-03T11:46:35.164Z"
   },
   {
    "duration": 45,
    "start_time": "2023-02-03T11:46:35.177Z"
   },
   {
    "duration": 884,
    "start_time": "2023-02-03T11:46:35.224Z"
   },
   {
    "duration": 0,
    "start_time": "2023-02-03T11:46:36.110Z"
   },
   {
    "duration": 0,
    "start_time": "2023-02-03T11:46:36.111Z"
   },
   {
    "duration": 0,
    "start_time": "2023-02-03T11:46:36.113Z"
   },
   {
    "duration": 0,
    "start_time": "2023-02-03T11:46:36.114Z"
   },
   {
    "duration": 0,
    "start_time": "2023-02-03T11:46:36.116Z"
   },
   {
    "duration": 8,
    "start_time": "2023-02-03T11:46:53.591Z"
   },
   {
    "duration": 9,
    "start_time": "2023-02-03T11:47:16.298Z"
   },
   {
    "duration": 13,
    "start_time": "2023-02-03T11:48:13.576Z"
   },
   {
    "duration": 11,
    "start_time": "2023-02-03T11:48:32.221Z"
   },
   {
    "duration": 9,
    "start_time": "2023-02-03T11:51:46.956Z"
   },
   {
    "duration": 16,
    "start_time": "2023-02-03T11:52:14.636Z"
   },
   {
    "duration": 9,
    "start_time": "2023-02-03T11:55:50.014Z"
   },
   {
    "duration": 8,
    "start_time": "2023-02-03T11:56:04.689Z"
   },
   {
    "duration": 8,
    "start_time": "2023-02-03T11:56:08.926Z"
   },
   {
    "duration": 5,
    "start_time": "2023-02-03T11:56:29.894Z"
   },
   {
    "duration": 14,
    "start_time": "2023-02-03T11:56:39.165Z"
   },
   {
    "duration": 4,
    "start_time": "2023-02-03T11:58:11.878Z"
   },
   {
    "duration": 184,
    "start_time": "2023-02-03T11:58:11.883Z"
   },
   {
    "duration": 22,
    "start_time": "2023-02-03T11:58:12.068Z"
   },
   {
    "duration": 4,
    "start_time": "2023-02-03T11:58:12.092Z"
   },
   {
    "duration": 49,
    "start_time": "2023-02-03T11:58:12.099Z"
   },
   {
    "duration": 81,
    "start_time": "2023-02-03T11:58:12.150Z"
   },
   {
    "duration": 121,
    "start_time": "2023-02-03T11:58:12.233Z"
   },
   {
    "duration": 30,
    "start_time": "2023-02-03T11:58:12.356Z"
   },
   {
    "duration": 35,
    "start_time": "2023-02-03T11:58:12.388Z"
   },
   {
    "duration": 39,
    "start_time": "2023-02-03T11:58:12.424Z"
   },
   {
    "duration": 8,
    "start_time": "2023-02-03T11:58:12.465Z"
   },
   {
    "duration": 20,
    "start_time": "2023-02-03T11:58:12.475Z"
   },
   {
    "duration": 12,
    "start_time": "2023-02-03T11:58:12.500Z"
   },
   {
    "duration": 28,
    "start_time": "2023-02-03T11:58:12.514Z"
   },
   {
    "duration": 266,
    "start_time": "2023-02-03T11:58:12.545Z"
   },
   {
    "duration": 52,
    "start_time": "2023-02-03T11:58:12.812Z"
   },
   {
    "duration": 23,
    "start_time": "2023-02-03T11:58:12.866Z"
   },
   {
    "duration": 50,
    "start_time": "2023-02-03T11:58:12.891Z"
   },
   {
    "duration": 13,
    "start_time": "2023-02-03T11:58:12.944Z"
   },
   {
    "duration": 18,
    "start_time": "2023-02-03T11:58:12.959Z"
   },
   {
    "duration": 7,
    "start_time": "2023-02-03T11:58:12.979Z"
   },
   {
    "duration": 32,
    "start_time": "2023-02-03T11:58:12.988Z"
   },
   {
    "duration": 72,
    "start_time": "2023-02-03T11:58:13.041Z"
   },
   {
    "duration": 101,
    "start_time": "2023-02-03T11:58:13.115Z"
   },
   {
    "duration": 24,
    "start_time": "2023-02-03T11:58:13.217Z"
   },
   {
    "duration": 18,
    "start_time": "2023-02-03T11:58:13.244Z"
   },
   {
    "duration": 50,
    "start_time": "2023-02-03T11:58:13.265Z"
   },
   {
    "duration": 5,
    "start_time": "2023-02-03T11:58:13.316Z"
   },
   {
    "duration": 55,
    "start_time": "2023-02-03T11:58:13.322Z"
   },
   {
    "duration": 98,
    "start_time": "2023-02-03T11:58:13.379Z"
   },
   {
    "duration": 121,
    "start_time": "2023-02-03T11:58:13.480Z"
   },
   {
    "duration": 3,
    "start_time": "2023-02-03T11:58:13.603Z"
   },
   {
    "duration": 6,
    "start_time": "2023-02-03T11:58:13.608Z"
   },
   {
    "duration": 32,
    "start_time": "2023-02-03T11:58:13.617Z"
   },
   {
    "duration": 17,
    "start_time": "2023-02-03T11:58:13.651Z"
   },
   {
    "duration": 10,
    "start_time": "2023-02-03T11:58:13.670Z"
   },
   {
    "duration": 9,
    "start_time": "2023-02-03T11:58:13.685Z"
   },
   {
    "duration": 6,
    "start_time": "2023-02-03T11:58:13.696Z"
   },
   {
    "duration": 46,
    "start_time": "2023-02-03T11:58:13.703Z"
   },
   {
    "duration": 0,
    "start_time": "2023-02-03T11:58:13.752Z"
   },
   {
    "duration": 0,
    "start_time": "2023-02-03T11:58:13.753Z"
   },
   {
    "duration": 0,
    "start_time": "2023-02-03T11:58:13.755Z"
   },
   {
    "duration": 0,
    "start_time": "2023-02-03T11:58:13.756Z"
   },
   {
    "duration": 0,
    "start_time": "2023-02-03T11:58:13.757Z"
   },
   {
    "duration": 0,
    "start_time": "2023-02-03T11:58:13.759Z"
   },
   {
    "duration": 9,
    "start_time": "2023-02-03T11:58:57.237Z"
   },
   {
    "duration": 8,
    "start_time": "2023-02-03T11:59:10.767Z"
   },
   {
    "duration": 13,
    "start_time": "2023-02-03T11:59:28.872Z"
   },
   {
    "duration": 4,
    "start_time": "2023-02-03T11:59:33.336Z"
   },
   {
    "duration": 170,
    "start_time": "2023-02-03T11:59:33.344Z"
   },
   {
    "duration": 51,
    "start_time": "2023-02-03T11:59:33.516Z"
   },
   {
    "duration": 22,
    "start_time": "2023-02-03T11:59:33.569Z"
   },
   {
    "duration": 13,
    "start_time": "2023-02-03T11:59:33.594Z"
   },
   {
    "duration": 62,
    "start_time": "2023-02-03T11:59:33.608Z"
   },
   {
    "duration": 118,
    "start_time": "2023-02-03T11:59:33.673Z"
   },
   {
    "duration": 28,
    "start_time": "2023-02-03T11:59:33.792Z"
   },
   {
    "duration": 52,
    "start_time": "2023-02-03T11:59:33.822Z"
   },
   {
    "duration": 13,
    "start_time": "2023-02-03T11:59:33.876Z"
   },
   {
    "duration": 10,
    "start_time": "2023-02-03T11:59:33.893Z"
   },
   {
    "duration": 45,
    "start_time": "2023-02-03T11:59:33.905Z"
   },
   {
    "duration": 6,
    "start_time": "2023-02-03T11:59:33.952Z"
   },
   {
    "duration": 11,
    "start_time": "2023-02-03T11:59:33.961Z"
   },
   {
    "duration": 246,
    "start_time": "2023-02-03T11:59:33.975Z"
   },
   {
    "duration": 47,
    "start_time": "2023-02-03T11:59:34.223Z"
   },
   {
    "duration": 24,
    "start_time": "2023-02-03T11:59:34.271Z"
   },
   {
    "duration": 52,
    "start_time": "2023-02-03T11:59:34.296Z"
   },
   {
    "duration": 7,
    "start_time": "2023-02-03T11:59:34.350Z"
   },
   {
    "duration": 11,
    "start_time": "2023-02-03T11:59:34.359Z"
   },
   {
    "duration": 7,
    "start_time": "2023-02-03T11:59:34.372Z"
   },
   {
    "duration": 62,
    "start_time": "2023-02-03T11:59:34.381Z"
   },
   {
    "duration": 66,
    "start_time": "2023-02-03T11:59:34.445Z"
   },
   {
    "duration": 89,
    "start_time": "2023-02-03T11:59:34.513Z"
   },
   {
    "duration": 14,
    "start_time": "2023-02-03T11:59:34.604Z"
   },
   {
    "duration": 28,
    "start_time": "2023-02-03T11:59:34.621Z"
   },
   {
    "duration": 40,
    "start_time": "2023-02-03T11:59:34.650Z"
   },
   {
    "duration": 4,
    "start_time": "2023-02-03T11:59:34.692Z"
   },
   {
    "duration": 58,
    "start_time": "2023-02-03T11:59:34.701Z"
   },
   {
    "duration": 83,
    "start_time": "2023-02-03T11:59:34.761Z"
   },
   {
    "duration": 99,
    "start_time": "2023-02-03T11:59:34.846Z"
   },
   {
    "duration": 3,
    "start_time": "2023-02-03T11:59:34.947Z"
   },
   {
    "duration": 7,
    "start_time": "2023-02-03T11:59:34.953Z"
   },
   {
    "duration": 22,
    "start_time": "2023-02-03T11:59:34.962Z"
   },
   {
    "duration": 14,
    "start_time": "2023-02-03T11:59:34.986Z"
   },
   {
    "duration": 42,
    "start_time": "2023-02-03T11:59:35.003Z"
   },
   {
    "duration": 10,
    "start_time": "2023-02-03T11:59:35.047Z"
   },
   {
    "duration": 18,
    "start_time": "2023-02-03T11:59:35.060Z"
   },
   {
    "duration": 31,
    "start_time": "2023-02-03T11:59:35.080Z"
   },
   {
    "duration": 16,
    "start_time": "2023-02-03T11:59:35.113Z"
   },
   {
    "duration": 15,
    "start_time": "2023-02-03T11:59:35.131Z"
   },
   {
    "duration": 13,
    "start_time": "2023-02-03T11:59:35.151Z"
   },
   {
    "duration": 7,
    "start_time": "2023-02-03T11:59:35.166Z"
   },
   {
    "duration": 7,
    "start_time": "2023-02-03T11:59:35.175Z"
   },
   {
    "duration": 7,
    "start_time": "2023-02-03T11:59:35.184Z"
   },
   {
    "duration": 8,
    "start_time": "2023-02-03T12:00:30.297Z"
   },
   {
    "duration": 12,
    "start_time": "2023-02-03T12:00:50.153Z"
   },
   {
    "duration": 15,
    "start_time": "2023-02-03T12:01:10.562Z"
   },
   {
    "duration": 1221,
    "start_time": "2023-02-03T12:01:30.025Z"
   },
   {
    "duration": 9,
    "start_time": "2023-02-03T12:07:20.845Z"
   },
   {
    "duration": 3,
    "start_time": "2023-02-03T12:07:27.628Z"
   },
   {
    "duration": 182,
    "start_time": "2023-02-03T12:07:27.634Z"
   },
   {
    "duration": 38,
    "start_time": "2023-02-03T12:07:27.818Z"
   },
   {
    "duration": 6,
    "start_time": "2023-02-03T12:07:27.858Z"
   },
   {
    "duration": 10,
    "start_time": "2023-02-03T12:07:27.866Z"
   },
   {
    "duration": 87,
    "start_time": "2023-02-03T12:07:27.878Z"
   },
   {
    "duration": 117,
    "start_time": "2023-02-03T12:07:27.967Z"
   },
   {
    "duration": 31,
    "start_time": "2023-02-03T12:07:28.086Z"
   },
   {
    "duration": 54,
    "start_time": "2023-02-03T12:07:28.119Z"
   },
   {
    "duration": 14,
    "start_time": "2023-02-03T12:07:28.175Z"
   },
   {
    "duration": 12,
    "start_time": "2023-02-03T12:07:28.191Z"
   },
   {
    "duration": 49,
    "start_time": "2023-02-03T12:07:28.205Z"
   },
   {
    "duration": 12,
    "start_time": "2023-02-03T12:07:28.258Z"
   },
   {
    "duration": 9,
    "start_time": "2023-02-03T12:07:28.275Z"
   },
   {
    "duration": 254,
    "start_time": "2023-02-03T12:07:28.287Z"
   },
   {
    "duration": 47,
    "start_time": "2023-02-03T12:07:28.543Z"
   },
   {
    "duration": 48,
    "start_time": "2023-02-03T12:07:28.593Z"
   },
   {
    "duration": 44,
    "start_time": "2023-02-03T12:07:28.643Z"
   },
   {
    "duration": 13,
    "start_time": "2023-02-03T12:07:28.689Z"
   },
   {
    "duration": 16,
    "start_time": "2023-02-03T12:07:28.704Z"
   },
   {
    "duration": 36,
    "start_time": "2023-02-03T12:07:28.722Z"
   },
   {
    "duration": 38,
    "start_time": "2023-02-03T12:07:28.760Z"
   },
   {
    "duration": 74,
    "start_time": "2023-02-03T12:07:28.801Z"
   },
   {
    "duration": 109,
    "start_time": "2023-02-03T12:07:28.877Z"
   },
   {
    "duration": 13,
    "start_time": "2023-02-03T12:07:28.989Z"
   },
   {
    "duration": 32,
    "start_time": "2023-02-03T12:07:29.004Z"
   },
   {
    "duration": 38,
    "start_time": "2023-02-03T12:07:29.038Z"
   },
   {
    "duration": 5,
    "start_time": "2023-02-03T12:07:29.078Z"
   },
   {
    "duration": 70,
    "start_time": "2023-02-03T12:07:29.084Z"
   },
   {
    "duration": 75,
    "start_time": "2023-02-03T12:07:29.157Z"
   },
   {
    "duration": 84,
    "start_time": "2023-02-03T12:07:29.241Z"
   },
   {
    "duration": 13,
    "start_time": "2023-02-03T12:07:29.327Z"
   },
   {
    "duration": 13,
    "start_time": "2023-02-03T12:07:29.342Z"
   },
   {
    "duration": 25,
    "start_time": "2023-02-03T12:07:29.357Z"
   },
   {
    "duration": 11,
    "start_time": "2023-02-03T12:07:29.384Z"
   },
   {
    "duration": 43,
    "start_time": "2023-02-03T12:07:29.397Z"
   },
   {
    "duration": 14,
    "start_time": "2023-02-03T12:07:29.442Z"
   },
   {
    "duration": 15,
    "start_time": "2023-02-03T12:07:29.458Z"
   },
   {
    "duration": 8,
    "start_time": "2023-02-03T12:07:29.474Z"
   },
   {
    "duration": 34,
    "start_time": "2023-02-03T12:07:29.484Z"
   },
   {
    "duration": 36,
    "start_time": "2023-02-03T12:07:29.522Z"
   },
   {
    "duration": 0,
    "start_time": "2023-02-03T12:07:29.560Z"
   },
   {
    "duration": 1,
    "start_time": "2023-02-03T12:07:29.562Z"
   },
   {
    "duration": 0,
    "start_time": "2023-02-03T12:07:29.564Z"
   },
   {
    "duration": 0,
    "start_time": "2023-02-03T12:07:29.566Z"
   },
   {
    "duration": 0,
    "start_time": "2023-02-03T12:07:29.567Z"
   },
   {
    "duration": 0,
    "start_time": "2023-02-03T12:07:29.569Z"
   },
   {
    "duration": 14,
    "start_time": "2023-02-03T12:09:10.923Z"
   },
   {
    "duration": 9,
    "start_time": "2023-02-03T12:09:55.974Z"
   },
   {
    "duration": 15,
    "start_time": "2023-02-03T12:12:54.109Z"
   },
   {
    "duration": 4,
    "start_time": "2023-02-03T12:13:38.602Z"
   },
   {
    "duration": 210,
    "start_time": "2023-02-03T12:13:38.612Z"
   },
   {
    "duration": 24,
    "start_time": "2023-02-03T12:13:38.839Z"
   },
   {
    "duration": 5,
    "start_time": "2023-02-03T12:13:38.865Z"
   },
   {
    "duration": 18,
    "start_time": "2023-02-03T12:13:38.873Z"
   },
   {
    "duration": 110,
    "start_time": "2023-02-03T12:13:38.895Z"
   },
   {
    "duration": 185,
    "start_time": "2023-02-03T12:13:39.007Z"
   },
   {
    "duration": 30,
    "start_time": "2023-02-03T12:13:39.195Z"
   },
   {
    "duration": 74,
    "start_time": "2023-02-03T12:13:39.227Z"
   },
   {
    "duration": 16,
    "start_time": "2023-02-03T12:13:39.304Z"
   },
   {
    "duration": 17,
    "start_time": "2023-02-03T12:13:39.339Z"
   },
   {
    "duration": 18,
    "start_time": "2023-02-03T12:13:39.358Z"
   },
   {
    "duration": 6,
    "start_time": "2023-02-03T12:13:39.378Z"
   },
   {
    "duration": 7,
    "start_time": "2023-02-03T12:13:39.386Z"
   },
   {
    "duration": 238,
    "start_time": "2023-02-03T12:13:39.395Z"
   },
   {
    "duration": 35,
    "start_time": "2023-02-03T12:13:39.639Z"
   },
   {
    "duration": 25,
    "start_time": "2023-02-03T12:13:39.677Z"
   },
   {
    "duration": 56,
    "start_time": "2023-02-03T12:13:39.705Z"
   },
   {
    "duration": 8,
    "start_time": "2023-02-03T12:13:39.763Z"
   },
   {
    "duration": 15,
    "start_time": "2023-02-03T12:13:39.773Z"
   },
   {
    "duration": 9,
    "start_time": "2023-02-03T12:13:39.790Z"
   },
   {
    "duration": 46,
    "start_time": "2023-02-03T12:13:39.802Z"
   },
   {
    "duration": 69,
    "start_time": "2023-02-03T12:13:39.850Z"
   },
   {
    "duration": 84,
    "start_time": "2023-02-03T12:13:39.941Z"
   },
   {
    "duration": 27,
    "start_time": "2023-02-03T12:13:40.027Z"
   },
   {
    "duration": 8,
    "start_time": "2023-02-03T12:13:40.056Z"
   },
   {
    "duration": 47,
    "start_time": "2023-02-03T12:13:40.067Z"
   },
   {
    "duration": 25,
    "start_time": "2023-02-03T12:13:40.116Z"
   },
   {
    "duration": 44,
    "start_time": "2023-02-03T12:13:40.146Z"
   },
   {
    "duration": 98,
    "start_time": "2023-02-03T12:13:40.192Z"
   },
   {
    "duration": 102,
    "start_time": "2023-02-03T12:13:40.292Z"
   },
   {
    "duration": 3,
    "start_time": "2023-02-03T12:13:40.395Z"
   },
   {
    "duration": 8,
    "start_time": "2023-02-03T12:13:40.400Z"
   },
   {
    "duration": 39,
    "start_time": "2023-02-03T12:13:40.410Z"
   },
   {
    "duration": 14,
    "start_time": "2023-02-03T12:13:40.453Z"
   },
   {
    "duration": 18,
    "start_time": "2023-02-03T12:13:40.469Z"
   },
   {
    "duration": 12,
    "start_time": "2023-02-03T12:13:40.489Z"
   },
   {
    "duration": 45,
    "start_time": "2023-02-03T12:13:40.503Z"
   },
   {
    "duration": 9,
    "start_time": "2023-02-03T12:13:40.550Z"
   },
   {
    "duration": 16,
    "start_time": "2023-02-03T12:13:40.562Z"
   },
   {
    "duration": 16,
    "start_time": "2023-02-03T12:13:40.580Z"
   },
   {
    "duration": 0,
    "start_time": "2023-02-03T12:13:40.598Z"
   },
   {
    "duration": 0,
    "start_time": "2023-02-03T12:13:40.601Z"
   },
   {
    "duration": 0,
    "start_time": "2023-02-03T12:13:40.603Z"
   },
   {
    "duration": 0,
    "start_time": "2023-02-03T12:13:40.604Z"
   },
   {
    "duration": 0,
    "start_time": "2023-02-03T12:13:40.605Z"
   },
   {
    "duration": 0,
    "start_time": "2023-02-03T12:13:40.606Z"
   },
   {
    "duration": 3,
    "start_time": "2023-02-03T12:14:16.354Z"
   },
   {
    "duration": 208,
    "start_time": "2023-02-03T12:14:16.363Z"
   },
   {
    "duration": 34,
    "start_time": "2023-02-03T12:14:16.573Z"
   },
   {
    "duration": 31,
    "start_time": "2023-02-03T12:14:16.610Z"
   },
   {
    "duration": 15,
    "start_time": "2023-02-03T12:14:16.644Z"
   },
   {
    "duration": 102,
    "start_time": "2023-02-03T12:14:16.661Z"
   },
   {
    "duration": 128,
    "start_time": "2023-02-03T12:14:16.765Z"
   },
   {
    "duration": 28,
    "start_time": "2023-02-03T12:14:16.895Z"
   },
   {
    "duration": 37,
    "start_time": "2023-02-03T12:14:16.941Z"
   },
   {
    "duration": 14,
    "start_time": "2023-02-03T12:14:16.980Z"
   },
   {
    "duration": 13,
    "start_time": "2023-02-03T12:14:16.997Z"
   },
   {
    "duration": 43,
    "start_time": "2023-02-03T12:14:17.012Z"
   },
   {
    "duration": 6,
    "start_time": "2023-02-03T12:14:17.057Z"
   },
   {
    "duration": 9,
    "start_time": "2023-02-03T12:14:17.066Z"
   },
   {
    "duration": 324,
    "start_time": "2023-02-03T12:14:17.078Z"
   },
   {
    "duration": 48,
    "start_time": "2023-02-03T12:14:17.404Z"
   },
   {
    "duration": 30,
    "start_time": "2023-02-03T12:14:17.454Z"
   },
   {
    "duration": 77,
    "start_time": "2023-02-03T12:14:17.487Z"
   },
   {
    "duration": 12,
    "start_time": "2023-02-03T12:14:17.566Z"
   },
   {
    "duration": 22,
    "start_time": "2023-02-03T12:14:17.581Z"
   },
   {
    "duration": 8,
    "start_time": "2023-02-03T12:14:17.605Z"
   },
   {
    "duration": 41,
    "start_time": "2023-02-03T12:14:17.639Z"
   },
   {
    "duration": 88,
    "start_time": "2023-02-03T12:14:17.682Z"
   },
   {
    "duration": 88,
    "start_time": "2023-02-03T12:14:17.772Z"
   },
   {
    "duration": 18,
    "start_time": "2023-02-03T12:14:17.863Z"
   },
   {
    "duration": 12,
    "start_time": "2023-02-03T12:14:17.883Z"
   },
   {
    "duration": 63,
    "start_time": "2023-02-03T12:14:17.898Z"
   },
   {
    "duration": 6,
    "start_time": "2023-02-03T12:14:17.963Z"
   },
   {
    "duration": 50,
    "start_time": "2023-02-03T12:14:17.974Z"
   },
   {
    "duration": 117,
    "start_time": "2023-02-03T12:14:18.026Z"
   },
   {
    "duration": 138,
    "start_time": "2023-02-03T12:14:18.146Z"
   },
   {
    "duration": 10,
    "start_time": "2023-02-03T12:14:18.286Z"
   },
   {
    "duration": 14,
    "start_time": "2023-02-03T12:14:18.301Z"
   },
   {
    "duration": 41,
    "start_time": "2023-02-03T12:14:18.318Z"
   },
   {
    "duration": 16,
    "start_time": "2023-02-03T12:14:18.360Z"
   },
   {
    "duration": 18,
    "start_time": "2023-02-03T12:14:18.379Z"
   },
   {
    "duration": 12,
    "start_time": "2023-02-03T12:14:18.399Z"
   },
   {
    "duration": 19,
    "start_time": "2023-02-03T12:14:18.441Z"
   },
   {
    "duration": 27,
    "start_time": "2023-02-03T12:14:18.462Z"
   },
   {
    "duration": 22,
    "start_time": "2023-02-03T12:14:18.491Z"
   },
   {
    "duration": 25,
    "start_time": "2023-02-03T12:14:18.515Z"
   },
   {
    "duration": 0,
    "start_time": "2023-02-03T12:14:18.542Z"
   },
   {
    "duration": 0,
    "start_time": "2023-02-03T12:14:18.544Z"
   },
   {
    "duration": 0,
    "start_time": "2023-02-03T12:14:18.545Z"
   },
   {
    "duration": 0,
    "start_time": "2023-02-03T12:14:18.547Z"
   },
   {
    "duration": 0,
    "start_time": "2023-02-03T12:14:18.549Z"
   },
   {
    "duration": 0,
    "start_time": "2023-02-03T12:14:18.551Z"
   },
   {
    "duration": 3,
    "start_time": "2023-02-03T12:18:44.459Z"
   },
   {
    "duration": 11,
    "start_time": "2023-02-03T12:18:58.557Z"
   },
   {
    "duration": 4,
    "start_time": "2023-02-03T12:21:58.591Z"
   },
   {
    "duration": 194,
    "start_time": "2023-02-03T12:21:58.600Z"
   },
   {
    "duration": 20,
    "start_time": "2023-02-03T12:21:58.796Z"
   },
   {
    "duration": 5,
    "start_time": "2023-02-03T12:21:58.841Z"
   },
   {
    "duration": 18,
    "start_time": "2023-02-03T12:21:58.848Z"
   },
   {
    "duration": 83,
    "start_time": "2023-02-03T12:21:58.869Z"
   },
   {
    "duration": 143,
    "start_time": "2023-02-03T12:21:58.954Z"
   },
   {
    "duration": 43,
    "start_time": "2023-02-03T12:21:59.100Z"
   },
   {
    "duration": 47,
    "start_time": "2023-02-03T12:21:59.146Z"
   },
   {
    "duration": 16,
    "start_time": "2023-02-03T12:21:59.195Z"
   },
   {
    "duration": 31,
    "start_time": "2023-02-03T12:21:59.213Z"
   },
   {
    "duration": 26,
    "start_time": "2023-02-03T12:21:59.247Z"
   },
   {
    "duration": 5,
    "start_time": "2023-02-03T12:21:59.275Z"
   },
   {
    "duration": 7,
    "start_time": "2023-02-03T12:21:59.282Z"
   },
   {
    "duration": 239,
    "start_time": "2023-02-03T12:21:59.293Z"
   },
   {
    "duration": 36,
    "start_time": "2023-02-03T12:21:59.534Z"
   },
   {
    "duration": 21,
    "start_time": "2023-02-03T12:21:59.572Z"
   },
   {
    "duration": 53,
    "start_time": "2023-02-03T12:21:59.595Z"
   },
   {
    "duration": 9,
    "start_time": "2023-02-03T12:21:59.650Z"
   },
   {
    "duration": 16,
    "start_time": "2023-02-03T12:21:59.660Z"
   },
   {
    "duration": 6,
    "start_time": "2023-02-03T12:21:59.677Z"
   },
   {
    "duration": 25,
    "start_time": "2023-02-03T12:21:59.685Z"
   },
   {
    "duration": 88,
    "start_time": "2023-02-03T12:21:59.712Z"
   },
   {
    "duration": 83,
    "start_time": "2023-02-03T12:21:59.801Z"
   },
   {
    "duration": 12,
    "start_time": "2023-02-03T12:21:59.886Z"
   },
   {
    "duration": 6,
    "start_time": "2023-02-03T12:21:59.900Z"
   },
   {
    "duration": 52,
    "start_time": "2023-02-03T12:21:59.908Z"
   },
   {
    "duration": 4,
    "start_time": "2023-02-03T12:21:59.962Z"
   },
   {
    "duration": 49,
    "start_time": "2023-02-03T12:21:59.968Z"
   },
   {
    "duration": 87,
    "start_time": "2023-02-03T12:22:00.019Z"
   },
   {
    "duration": 92,
    "start_time": "2023-02-03T12:22:00.107Z"
   },
   {
    "duration": 3,
    "start_time": "2023-02-03T12:22:00.201Z"
   },
   {
    "duration": 24,
    "start_time": "2023-02-03T12:22:00.205Z"
   },
   {
    "duration": 32,
    "start_time": "2023-02-03T12:22:00.230Z"
   },
   {
    "duration": 42,
    "start_time": "2023-02-03T12:22:00.263Z"
   },
   {
    "duration": 38,
    "start_time": "2023-02-03T12:22:00.307Z"
   },
   {
    "duration": 32,
    "start_time": "2023-02-03T12:22:00.347Z"
   },
   {
    "duration": 60,
    "start_time": "2023-02-03T12:22:00.380Z"
   },
   {
    "duration": 55,
    "start_time": "2023-02-03T12:22:00.442Z"
   },
   {
    "duration": 35,
    "start_time": "2023-02-03T12:22:00.498Z"
   },
   {
    "duration": 28,
    "start_time": "2023-02-03T12:22:00.535Z"
   },
   {
    "duration": 0,
    "start_time": "2023-02-03T12:22:00.565Z"
   },
   {
    "duration": 0,
    "start_time": "2023-02-03T12:22:00.567Z"
   },
   {
    "duration": 0,
    "start_time": "2023-02-03T12:22:00.568Z"
   },
   {
    "duration": 0,
    "start_time": "2023-02-03T12:22:00.569Z"
   },
   {
    "duration": 0,
    "start_time": "2023-02-03T12:22:00.571Z"
   },
   {
    "duration": 0,
    "start_time": "2023-02-03T12:22:00.572Z"
   },
   {
    "duration": 7,
    "start_time": "2023-02-03T12:22:54.715Z"
   },
   {
    "duration": 867,
    "start_time": "2023-02-03T12:23:26.453Z"
   },
   {
    "duration": 859,
    "start_time": "2023-02-03T12:28:27.722Z"
   },
   {
    "duration": 7,
    "start_time": "2023-02-03T12:28:43.546Z"
   },
   {
    "duration": 15,
    "start_time": "2023-02-03T12:28:58.421Z"
   },
   {
    "duration": 10,
    "start_time": "2023-02-03T12:29:04.224Z"
   },
   {
    "duration": 9,
    "start_time": "2023-02-03T12:29:11.105Z"
   },
   {
    "duration": 7,
    "start_time": "2023-02-03T12:29:36.974Z"
   },
   {
    "duration": 10,
    "start_time": "2023-02-03T12:34:33.193Z"
   },
   {
    "duration": 11,
    "start_time": "2023-02-03T12:38:51.475Z"
   },
   {
    "duration": 10,
    "start_time": "2023-02-03T12:38:51.488Z"
   },
   {
    "duration": 14,
    "start_time": "2023-02-03T12:38:51.500Z"
   },
   {
    "duration": 7,
    "start_time": "2023-02-03T12:40:19.362Z"
   },
   {
    "duration": 12,
    "start_time": "2023-02-03T12:40:32.751Z"
   },
   {
    "duration": 3,
    "start_time": "2023-02-03T12:41:14.777Z"
   },
   {
    "duration": 189,
    "start_time": "2023-02-03T12:41:14.783Z"
   },
   {
    "duration": 21,
    "start_time": "2023-02-03T12:41:14.974Z"
   },
   {
    "duration": 5,
    "start_time": "2023-02-03T12:41:14.997Z"
   },
   {
    "duration": 40,
    "start_time": "2023-02-03T12:41:15.004Z"
   },
   {
    "duration": 56,
    "start_time": "2023-02-03T12:41:15.045Z"
   },
   {
    "duration": 134,
    "start_time": "2023-02-03T12:41:15.103Z"
   },
   {
    "duration": 30,
    "start_time": "2023-02-03T12:41:15.241Z"
   },
   {
    "duration": 32,
    "start_time": "2023-02-03T12:41:15.272Z"
   },
   {
    "duration": 13,
    "start_time": "2023-02-03T12:41:15.305Z"
   },
   {
    "duration": 17,
    "start_time": "2023-02-03T12:41:15.342Z"
   },
   {
    "duration": 17,
    "start_time": "2023-02-03T12:41:15.361Z"
   },
   {
    "duration": 9,
    "start_time": "2023-02-03T12:41:15.379Z"
   },
   {
    "duration": 6,
    "start_time": "2023-02-03T12:41:15.389Z"
   },
   {
    "duration": 264,
    "start_time": "2023-02-03T12:41:15.396Z"
   },
   {
    "duration": 32,
    "start_time": "2023-02-03T12:41:15.661Z"
   },
   {
    "duration": 22,
    "start_time": "2023-02-03T12:41:15.696Z"
   },
   {
    "duration": 37,
    "start_time": "2023-02-03T12:41:15.742Z"
   },
   {
    "duration": 7,
    "start_time": "2023-02-03T12:41:15.781Z"
   },
   {
    "duration": 9,
    "start_time": "2023-02-03T12:41:15.790Z"
   },
   {
    "duration": 5,
    "start_time": "2023-02-03T12:41:15.801Z"
   },
   {
    "duration": 63,
    "start_time": "2023-02-03T12:41:15.807Z"
   },
   {
    "duration": 76,
    "start_time": "2023-02-03T12:41:15.872Z"
   },
   {
    "duration": 75,
    "start_time": "2023-02-03T12:41:15.951Z"
   },
   {
    "duration": 22,
    "start_time": "2023-02-03T12:41:16.028Z"
   },
   {
    "duration": 13,
    "start_time": "2023-02-03T12:41:16.052Z"
   },
   {
    "duration": 52,
    "start_time": "2023-02-03T12:41:16.067Z"
   },
   {
    "duration": 3,
    "start_time": "2023-02-03T12:41:16.121Z"
   },
   {
    "duration": 52,
    "start_time": "2023-02-03T12:41:16.128Z"
   },
   {
    "duration": 90,
    "start_time": "2023-02-03T12:41:16.182Z"
   },
   {
    "duration": 100,
    "start_time": "2023-02-03T12:41:16.273Z"
   },
   {
    "duration": 3,
    "start_time": "2023-02-03T12:41:16.374Z"
   },
   {
    "duration": 15,
    "start_time": "2023-02-03T12:41:16.379Z"
   },
   {
    "duration": 40,
    "start_time": "2023-02-03T12:41:16.396Z"
   },
   {
    "duration": 47,
    "start_time": "2023-02-03T12:41:16.438Z"
   },
   {
    "duration": 20,
    "start_time": "2023-02-03T12:41:16.487Z"
   },
   {
    "duration": 17,
    "start_time": "2023-02-03T12:41:16.509Z"
   },
   {
    "duration": 27,
    "start_time": "2023-02-03T12:41:16.528Z"
   },
   {
    "duration": 7,
    "start_time": "2023-02-03T12:41:16.558Z"
   },
   {
    "duration": 17,
    "start_time": "2023-02-03T12:41:16.567Z"
   },
   {
    "duration": 18,
    "start_time": "2023-02-03T12:41:16.585Z"
   },
   {
    "duration": 6,
    "start_time": "2023-02-03T12:41:16.605Z"
   },
   {
    "duration": 4,
    "start_time": "2023-02-03T12:41:16.614Z"
   },
   {
    "duration": 6,
    "start_time": "2023-02-03T12:41:16.620Z"
   },
   {
    "duration": 5,
    "start_time": "2023-02-03T12:41:16.628Z"
   },
   {
    "duration": 29,
    "start_time": "2023-02-03T12:41:16.639Z"
   },
   {
    "duration": 14,
    "start_time": "2023-02-03T12:42:25.265Z"
   },
   {
    "duration": 4,
    "start_time": "2023-02-03T13:48:31.113Z"
   },
   {
    "duration": 215,
    "start_time": "2023-02-03T13:48:31.120Z"
   },
   {
    "duration": 22,
    "start_time": "2023-02-03T13:48:31.341Z"
   },
   {
    "duration": 36,
    "start_time": "2023-02-03T13:48:31.365Z"
   },
   {
    "duration": 102,
    "start_time": "2023-02-03T13:48:31.404Z"
   },
   {
    "duration": 125,
    "start_time": "2023-02-03T13:48:31.508Z"
   },
   {
    "duration": 146,
    "start_time": "2023-02-03T13:48:31.636Z"
   },
   {
    "duration": 27,
    "start_time": "2023-02-03T13:48:31.784Z"
   },
   {
    "duration": 52,
    "start_time": "2023-02-03T13:48:31.814Z"
   },
   {
    "duration": 15,
    "start_time": "2023-02-03T13:48:31.868Z"
   },
   {
    "duration": 37,
    "start_time": "2023-02-03T13:48:31.885Z"
   },
   {
    "duration": 61,
    "start_time": "2023-02-03T13:48:31.924Z"
   },
   {
    "duration": 28,
    "start_time": "2023-02-03T13:48:31.987Z"
   },
   {
    "duration": 25,
    "start_time": "2023-02-03T13:48:32.019Z"
   },
   {
    "duration": 242,
    "start_time": "2023-02-03T13:48:32.046Z"
   },
   {
    "duration": 36,
    "start_time": "2023-02-03T13:48:32.290Z"
   },
   {
    "duration": 22,
    "start_time": "2023-02-03T13:48:32.341Z"
   },
   {
    "duration": 48,
    "start_time": "2023-02-03T13:48:32.365Z"
   },
   {
    "duration": 7,
    "start_time": "2023-02-03T13:48:32.415Z"
   },
   {
    "duration": 33,
    "start_time": "2023-02-03T13:48:32.424Z"
   },
   {
    "duration": 20,
    "start_time": "2023-02-03T13:48:32.459Z"
   },
   {
    "duration": 24,
    "start_time": "2023-02-03T13:48:32.481Z"
   },
   {
    "duration": 86,
    "start_time": "2023-02-03T13:48:32.506Z"
   },
   {
    "duration": 93,
    "start_time": "2023-02-03T13:48:32.594Z"
   },
   {
    "duration": 13,
    "start_time": "2023-02-03T13:48:32.689Z"
   },
   {
    "duration": 16,
    "start_time": "2023-02-03T13:48:32.704Z"
   },
   {
    "duration": 82,
    "start_time": "2023-02-03T13:48:32.722Z"
   },
   {
    "duration": 4,
    "start_time": "2023-02-03T13:48:32.806Z"
   },
   {
    "duration": 47,
    "start_time": "2023-02-03T13:48:32.812Z"
   },
   {
    "duration": 86,
    "start_time": "2023-02-03T13:48:32.861Z"
   },
   {
    "duration": 97,
    "start_time": "2023-02-03T13:48:32.949Z"
   },
   {
    "duration": 3,
    "start_time": "2023-02-03T13:48:33.047Z"
   },
   {
    "duration": 12,
    "start_time": "2023-02-03T13:48:33.051Z"
   },
   {
    "duration": 18,
    "start_time": "2023-02-03T13:48:33.065Z"
   },
   {
    "duration": 12,
    "start_time": "2023-02-03T13:48:33.085Z"
   },
   {
    "duration": 45,
    "start_time": "2023-02-03T13:48:33.098Z"
   },
   {
    "duration": 8,
    "start_time": "2023-02-03T13:48:33.145Z"
   },
   {
    "duration": 19,
    "start_time": "2023-02-03T13:48:33.155Z"
   },
   {
    "duration": 5,
    "start_time": "2023-02-03T13:48:33.176Z"
   },
   {
    "duration": 15,
    "start_time": "2023-02-03T13:48:33.183Z"
   },
   {
    "duration": 0,
    "start_time": "2023-02-03T13:48:33.199Z"
   },
   {
    "duration": 0,
    "start_time": "2023-02-03T13:48:33.201Z"
   },
   {
    "duration": 0,
    "start_time": "2023-02-03T13:48:33.202Z"
   },
   {
    "duration": 0,
    "start_time": "2023-02-03T13:48:33.203Z"
   },
   {
    "duration": 0,
    "start_time": "2023-02-03T13:48:33.241Z"
   },
   {
    "duration": 0,
    "start_time": "2023-02-03T13:48:33.242Z"
   },
   {
    "duration": 0,
    "start_time": "2023-02-03T13:48:33.243Z"
   },
   {
    "duration": 4,
    "start_time": "2023-02-03T13:50:06.327Z"
   },
   {
    "duration": 185,
    "start_time": "2023-02-03T13:50:06.334Z"
   },
   {
    "duration": 32,
    "start_time": "2023-02-03T13:50:06.520Z"
   },
   {
    "duration": 18,
    "start_time": "2023-02-03T13:50:06.554Z"
   },
   {
    "duration": 17,
    "start_time": "2023-02-03T13:50:06.574Z"
   },
   {
    "duration": 73,
    "start_time": "2023-02-03T13:50:06.593Z"
   },
   {
    "duration": 125,
    "start_time": "2023-02-03T13:50:06.668Z"
   },
   {
    "duration": 27,
    "start_time": "2023-02-03T13:50:06.795Z"
   },
   {
    "duration": 37,
    "start_time": "2023-02-03T13:50:06.848Z"
   },
   {
    "duration": 14,
    "start_time": "2023-02-03T13:50:06.888Z"
   },
   {
    "duration": 8,
    "start_time": "2023-02-03T13:50:06.904Z"
   },
   {
    "duration": 41,
    "start_time": "2023-02-03T13:50:06.914Z"
   },
   {
    "duration": 10,
    "start_time": "2023-02-03T13:50:06.957Z"
   },
   {
    "duration": 9,
    "start_time": "2023-02-03T13:50:06.970Z"
   },
   {
    "duration": 266,
    "start_time": "2023-02-03T13:50:06.981Z"
   },
   {
    "duration": 34,
    "start_time": "2023-02-03T13:50:07.254Z"
   },
   {
    "duration": 23,
    "start_time": "2023-02-03T13:50:07.290Z"
   },
   {
    "duration": 56,
    "start_time": "2023-02-03T13:50:07.315Z"
   },
   {
    "duration": 10,
    "start_time": "2023-02-03T13:50:07.373Z"
   },
   {
    "duration": 10,
    "start_time": "2023-02-03T13:50:07.385Z"
   },
   {
    "duration": 6,
    "start_time": "2023-02-03T13:50:07.396Z"
   },
   {
    "duration": 62,
    "start_time": "2023-02-03T13:50:07.403Z"
   },
   {
    "duration": 83,
    "start_time": "2023-02-03T13:50:07.466Z"
   },
   {
    "duration": 74,
    "start_time": "2023-02-03T13:50:07.556Z"
   },
   {
    "duration": 29,
    "start_time": "2023-02-03T13:50:07.631Z"
   },
   {
    "duration": 4,
    "start_time": "2023-02-03T13:50:07.662Z"
   },
   {
    "duration": 44,
    "start_time": "2023-02-03T13:50:07.668Z"
   },
   {
    "duration": 4,
    "start_time": "2023-02-03T13:50:07.716Z"
   },
   {
    "duration": 56,
    "start_time": "2023-02-03T13:50:07.722Z"
   },
   {
    "duration": 99,
    "start_time": "2023-02-03T13:50:07.780Z"
   },
   {
    "duration": 99,
    "start_time": "2023-02-03T13:50:07.880Z"
   },
   {
    "duration": 3,
    "start_time": "2023-02-03T13:50:07.981Z"
   },
   {
    "duration": 8,
    "start_time": "2023-02-03T13:50:07.985Z"
   },
   {
    "duration": 20,
    "start_time": "2023-02-03T13:50:07.994Z"
   },
   {
    "duration": 39,
    "start_time": "2023-02-03T13:50:08.016Z"
   },
   {
    "duration": 15,
    "start_time": "2023-02-03T13:50:08.056Z"
   },
   {
    "duration": 9,
    "start_time": "2023-02-03T13:50:08.073Z"
   },
   {
    "duration": 13,
    "start_time": "2023-02-03T13:50:08.084Z"
   },
   {
    "duration": 4,
    "start_time": "2023-02-03T13:50:08.099Z"
   },
   {
    "duration": 45,
    "start_time": "2023-02-03T13:50:08.105Z"
   },
   {
    "duration": 0,
    "start_time": "2023-02-03T13:50:08.153Z"
   },
   {
    "duration": 0,
    "start_time": "2023-02-03T13:50:08.154Z"
   },
   {
    "duration": 0,
    "start_time": "2023-02-03T13:50:08.155Z"
   },
   {
    "duration": 0,
    "start_time": "2023-02-03T13:50:08.156Z"
   },
   {
    "duration": 0,
    "start_time": "2023-02-03T13:50:08.158Z"
   },
   {
    "duration": 0,
    "start_time": "2023-02-03T13:50:08.159Z"
   },
   {
    "duration": 0,
    "start_time": "2023-02-03T13:50:08.160Z"
   },
   {
    "duration": 3,
    "start_time": "2023-02-03T13:52:27.921Z"
   },
   {
    "duration": 197,
    "start_time": "2023-02-03T13:52:27.926Z"
   },
   {
    "duration": 34,
    "start_time": "2023-02-03T13:52:28.125Z"
   },
   {
    "duration": 14,
    "start_time": "2023-02-03T13:52:28.166Z"
   },
   {
    "duration": 15,
    "start_time": "2023-02-03T13:52:28.182Z"
   },
   {
    "duration": 91,
    "start_time": "2023-02-03T13:52:28.199Z"
   },
   {
    "duration": 123,
    "start_time": "2023-02-03T13:52:28.292Z"
   },
   {
    "duration": 32,
    "start_time": "2023-02-03T13:52:28.417Z"
   },
   {
    "duration": 40,
    "start_time": "2023-02-03T13:52:28.453Z"
   },
   {
    "duration": 13,
    "start_time": "2023-02-03T13:52:28.495Z"
   },
   {
    "duration": 6,
    "start_time": "2023-02-03T13:52:28.510Z"
   },
   {
    "duration": 53,
    "start_time": "2023-02-03T13:52:28.517Z"
   },
   {
    "duration": 14,
    "start_time": "2023-02-03T13:52:28.572Z"
   },
   {
    "duration": 7,
    "start_time": "2023-02-03T13:52:28.587Z"
   },
   {
    "duration": 265,
    "start_time": "2023-02-03T13:52:28.596Z"
   },
   {
    "duration": 43,
    "start_time": "2023-02-03T13:52:28.867Z"
   },
   {
    "duration": 61,
    "start_time": "2023-02-03T13:52:28.912Z"
   },
   {
    "duration": 49,
    "start_time": "2023-02-03T13:52:28.976Z"
   },
   {
    "duration": 10,
    "start_time": "2023-02-03T13:52:29.028Z"
   },
   {
    "duration": 14,
    "start_time": "2023-02-03T13:52:29.040Z"
   },
   {
    "duration": 24,
    "start_time": "2023-02-03T13:52:29.064Z"
   },
   {
    "duration": 29,
    "start_time": "2023-02-03T13:52:29.091Z"
   },
   {
    "duration": 88,
    "start_time": "2023-02-03T13:52:29.122Z"
   },
   {
    "duration": 100,
    "start_time": "2023-02-03T13:52:29.215Z"
   },
   {
    "duration": 12,
    "start_time": "2023-02-03T13:52:29.318Z"
   },
   {
    "duration": 22,
    "start_time": "2023-02-03T13:52:29.347Z"
   },
   {
    "duration": 38,
    "start_time": "2023-02-03T13:52:29.371Z"
   },
   {
    "duration": 4,
    "start_time": "2023-02-03T13:52:29.411Z"
   },
   {
    "duration": 65,
    "start_time": "2023-02-03T13:52:29.417Z"
   },
   {
    "duration": 87,
    "start_time": "2023-02-03T13:52:29.483Z"
   },
   {
    "duration": 98,
    "start_time": "2023-02-03T13:52:29.572Z"
   },
   {
    "duration": 2,
    "start_time": "2023-02-03T13:52:29.672Z"
   },
   {
    "duration": 9,
    "start_time": "2023-02-03T13:52:29.675Z"
   },
   {
    "duration": 18,
    "start_time": "2023-02-03T13:52:29.685Z"
   },
   {
    "duration": 14,
    "start_time": "2023-02-03T13:52:29.704Z"
   },
   {
    "duration": 21,
    "start_time": "2023-02-03T13:52:29.745Z"
   },
   {
    "duration": 11,
    "start_time": "2023-02-03T13:52:29.768Z"
   },
   {
    "duration": 13,
    "start_time": "2023-02-03T13:52:29.781Z"
   },
   {
    "duration": 14,
    "start_time": "2023-02-03T13:52:29.796Z"
   },
   {
    "duration": 13,
    "start_time": "2023-02-03T13:52:29.812Z"
   },
   {
    "duration": 0,
    "start_time": "2023-02-03T13:52:29.827Z"
   },
   {
    "duration": 0,
    "start_time": "2023-02-03T13:52:29.828Z"
   },
   {
    "duration": 0,
    "start_time": "2023-02-03T13:52:29.830Z"
   },
   {
    "duration": 0,
    "start_time": "2023-02-03T13:52:29.831Z"
   },
   {
    "duration": 1,
    "start_time": "2023-02-03T13:52:29.832Z"
   },
   {
    "duration": 0,
    "start_time": "2023-02-03T13:52:29.842Z"
   },
   {
    "duration": 0,
    "start_time": "2023-02-03T13:52:29.842Z"
   },
   {
    "duration": 12,
    "start_time": "2023-02-03T13:53:03.086Z"
   },
   {
    "duration": 6,
    "start_time": "2023-02-03T13:54:08.963Z"
   },
   {
    "duration": 8,
    "start_time": "2023-02-03T13:54:11.163Z"
   },
   {
    "duration": 10,
    "start_time": "2023-02-03T13:55:49.186Z"
   },
   {
    "duration": 3,
    "start_time": "2023-02-03T13:56:18.013Z"
   },
   {
    "duration": 200,
    "start_time": "2023-02-03T13:56:18.018Z"
   },
   {
    "duration": 33,
    "start_time": "2023-02-03T13:56:18.219Z"
   },
   {
    "duration": 29,
    "start_time": "2023-02-03T13:56:18.255Z"
   },
   {
    "duration": 11,
    "start_time": "2023-02-03T13:56:18.287Z"
   },
   {
    "duration": 67,
    "start_time": "2023-02-03T13:56:18.300Z"
   },
   {
    "duration": 131,
    "start_time": "2023-02-03T13:56:18.370Z"
   },
   {
    "duration": 25,
    "start_time": "2023-02-03T13:56:18.503Z"
   },
   {
    "duration": 44,
    "start_time": "2023-02-03T13:56:18.545Z"
   },
   {
    "duration": 13,
    "start_time": "2023-02-03T13:56:18.591Z"
   },
   {
    "duration": 13,
    "start_time": "2023-02-03T13:56:18.606Z"
   },
   {
    "duration": 49,
    "start_time": "2023-02-03T13:56:18.620Z"
   },
   {
    "duration": 6,
    "start_time": "2023-02-03T13:56:18.671Z"
   },
   {
    "duration": 8,
    "start_time": "2023-02-03T13:56:18.679Z"
   },
   {
    "duration": 287,
    "start_time": "2023-02-03T13:56:18.689Z"
   },
   {
    "duration": 46,
    "start_time": "2023-02-03T13:56:18.978Z"
   },
   {
    "duration": 43,
    "start_time": "2023-02-03T13:56:19.040Z"
   },
   {
    "duration": 43,
    "start_time": "2023-02-03T13:56:19.085Z"
   },
   {
    "duration": 28,
    "start_time": "2023-02-03T13:56:19.130Z"
   },
   {
    "duration": 35,
    "start_time": "2023-02-03T13:56:19.161Z"
   },
   {
    "duration": 8,
    "start_time": "2023-02-03T13:56:19.198Z"
   },
   {
    "duration": 32,
    "start_time": "2023-02-03T13:56:19.208Z"
   },
   {
    "duration": 116,
    "start_time": "2023-02-03T13:56:19.241Z"
   },
   {
    "duration": 77,
    "start_time": "2023-02-03T13:56:19.362Z"
   },
   {
    "duration": 20,
    "start_time": "2023-02-03T13:56:19.444Z"
   },
   {
    "duration": 10,
    "start_time": "2023-02-03T13:56:19.466Z"
   },
   {
    "duration": 44,
    "start_time": "2023-02-03T13:56:19.477Z"
   },
   {
    "duration": 4,
    "start_time": "2023-02-03T13:56:19.524Z"
   },
   {
    "duration": 59,
    "start_time": "2023-02-03T13:56:19.529Z"
   },
   {
    "duration": 192,
    "start_time": "2023-02-03T13:56:19.590Z"
   },
   {
    "duration": 101,
    "start_time": "2023-02-03T13:56:19.784Z"
   },
   {
    "duration": 2,
    "start_time": "2023-02-03T13:56:19.887Z"
   },
   {
    "duration": 11,
    "start_time": "2023-02-03T13:56:19.891Z"
   },
   {
    "duration": 17,
    "start_time": "2023-02-03T13:56:19.904Z"
   },
   {
    "duration": 14,
    "start_time": "2023-02-03T13:56:19.939Z"
   },
   {
    "duration": 83,
    "start_time": "2023-02-03T13:56:19.955Z"
   },
   {
    "duration": 66,
    "start_time": "2023-02-03T13:56:20.039Z"
   },
   {
    "duration": 41,
    "start_time": "2023-02-03T13:56:20.107Z"
   },
   {
    "duration": 996,
    "start_time": "2023-02-03T13:57:01.581Z"
   },
   {
    "duration": 6,
    "start_time": "2023-02-03T13:57:14.900Z"
   },
   {
    "duration": 3,
    "start_time": "2023-02-03T13:57:35.609Z"
   },
   {
    "duration": 213,
    "start_time": "2023-02-03T13:57:35.614Z"
   },
   {
    "duration": 26,
    "start_time": "2023-02-03T13:57:35.828Z"
   },
   {
    "duration": 17,
    "start_time": "2023-02-03T13:57:35.858Z"
   },
   {
    "duration": 9,
    "start_time": "2023-02-03T13:57:35.877Z"
   },
   {
    "duration": 62,
    "start_time": "2023-02-03T13:57:35.887Z"
   },
   {
    "duration": 127,
    "start_time": "2023-02-03T13:57:35.951Z"
   },
   {
    "duration": 24,
    "start_time": "2023-02-03T13:57:36.079Z"
   },
   {
    "duration": 45,
    "start_time": "2023-02-03T13:57:36.104Z"
   },
   {
    "duration": 22,
    "start_time": "2023-02-03T13:57:36.151Z"
   },
   {
    "duration": 22,
    "start_time": "2023-02-03T13:57:36.175Z"
   },
   {
    "duration": 21,
    "start_time": "2023-02-03T13:57:36.199Z"
   },
   {
    "duration": 45,
    "start_time": "2023-02-03T13:57:36.224Z"
   },
   {
    "duration": 7,
    "start_time": "2023-02-03T13:57:36.270Z"
   },
   {
    "duration": 239,
    "start_time": "2023-02-03T13:57:36.279Z"
   },
   {
    "duration": 63,
    "start_time": "2023-02-03T13:57:36.520Z"
   },
   {
    "duration": 23,
    "start_time": "2023-02-03T13:57:36.585Z"
   },
   {
    "duration": 68,
    "start_time": "2023-02-03T13:57:36.610Z"
   },
   {
    "duration": 8,
    "start_time": "2023-02-03T13:57:36.680Z"
   },
   {
    "duration": 14,
    "start_time": "2023-02-03T13:57:36.689Z"
   },
   {
    "duration": 13,
    "start_time": "2023-02-03T13:57:36.704Z"
   },
   {
    "duration": 62,
    "start_time": "2023-02-03T13:57:36.719Z"
   },
   {
    "duration": 74,
    "start_time": "2023-02-03T13:57:36.783Z"
   },
   {
    "duration": 83,
    "start_time": "2023-02-03T13:57:36.859Z"
   },
   {
    "duration": 23,
    "start_time": "2023-02-03T13:57:36.944Z"
   },
   {
    "duration": 11,
    "start_time": "2023-02-03T13:57:36.970Z"
   },
   {
    "duration": 40,
    "start_time": "2023-02-03T13:57:36.983Z"
   },
   {
    "duration": 4,
    "start_time": "2023-02-03T13:57:37.025Z"
   },
   {
    "duration": 63,
    "start_time": "2023-02-03T13:57:37.031Z"
   },
   {
    "duration": 100,
    "start_time": "2023-02-03T13:57:37.096Z"
   },
   {
    "duration": 105,
    "start_time": "2023-02-03T13:57:37.198Z"
   },
   {
    "duration": 3,
    "start_time": "2023-02-03T13:57:37.305Z"
   },
   {
    "duration": 17,
    "start_time": "2023-02-03T13:57:37.309Z"
   },
   {
    "duration": 27,
    "start_time": "2023-02-03T13:57:37.328Z"
   },
   {
    "duration": 26,
    "start_time": "2023-02-03T13:57:37.357Z"
   },
   {
    "duration": 13,
    "start_time": "2023-02-03T13:57:37.384Z"
   },
   {
    "duration": 9,
    "start_time": "2023-02-03T13:57:37.401Z"
   },
   {
    "duration": 12,
    "start_time": "2023-02-03T13:57:37.411Z"
   },
   {
    "duration": 33,
    "start_time": "2023-02-03T13:57:37.440Z"
   },
   {
    "duration": 9,
    "start_time": "2023-02-03T13:57:37.475Z"
   },
   {
    "duration": 14,
    "start_time": "2023-02-03T13:57:37.486Z"
   },
   {
    "duration": 15,
    "start_time": "2023-02-03T13:57:37.502Z"
   },
   {
    "duration": 17,
    "start_time": "2023-02-03T13:57:37.519Z"
   },
   {
    "duration": 0,
    "start_time": "2023-02-03T13:57:37.538Z"
   },
   {
    "duration": 0,
    "start_time": "2023-02-03T13:57:37.547Z"
   },
   {
    "duration": 1,
    "start_time": "2023-02-03T13:57:37.560Z"
   },
   {
    "duration": 0,
    "start_time": "2023-02-03T13:57:37.567Z"
   },
   {
    "duration": 0,
    "start_time": "2023-02-03T13:57:37.569Z"
   },
   {
    "duration": 1381,
    "start_time": "2023-02-03T13:59:11.284Z"
   },
   {
    "duration": 7,
    "start_time": "2023-02-03T13:59:39.606Z"
   },
   {
    "duration": 1309,
    "start_time": "2023-02-03T13:59:46.967Z"
   },
   {
    "duration": 7,
    "start_time": "2023-02-03T14:00:13.298Z"
   },
   {
    "duration": 1387,
    "start_time": "2023-02-03T14:00:25.891Z"
   },
   {
    "duration": 8,
    "start_time": "2023-02-03T14:02:54.283Z"
   },
   {
    "duration": 3,
    "start_time": "2023-02-03T14:03:02.623Z"
   },
   {
    "duration": 171,
    "start_time": "2023-02-03T14:03:02.628Z"
   },
   {
    "duration": 19,
    "start_time": "2023-02-03T14:03:02.801Z"
   },
   {
    "duration": 20,
    "start_time": "2023-02-03T14:03:02.822Z"
   },
   {
    "duration": 33,
    "start_time": "2023-02-03T14:03:02.844Z"
   },
   {
    "duration": 55,
    "start_time": "2023-02-03T14:03:02.878Z"
   },
   {
    "duration": 129,
    "start_time": "2023-02-03T14:03:02.935Z"
   },
   {
    "duration": 27,
    "start_time": "2023-02-03T14:03:03.066Z"
   },
   {
    "duration": 55,
    "start_time": "2023-02-03T14:03:03.095Z"
   },
   {
    "duration": 20,
    "start_time": "2023-02-03T14:03:03.152Z"
   },
   {
    "duration": 27,
    "start_time": "2023-02-03T14:03:03.175Z"
   },
   {
    "duration": 51,
    "start_time": "2023-02-03T14:03:03.204Z"
   },
   {
    "duration": 12,
    "start_time": "2023-02-03T14:03:03.258Z"
   },
   {
    "duration": 9,
    "start_time": "2023-02-03T14:03:03.271Z"
   },
   {
    "duration": 251,
    "start_time": "2023-02-03T14:03:03.282Z"
   },
   {
    "duration": 44,
    "start_time": "2023-02-03T14:03:03.535Z"
   },
   {
    "duration": 23,
    "start_time": "2023-02-03T14:03:03.581Z"
   },
   {
    "duration": 58,
    "start_time": "2023-02-03T14:03:03.607Z"
   },
   {
    "duration": 10,
    "start_time": "2023-02-03T14:03:03.667Z"
   },
   {
    "duration": 24,
    "start_time": "2023-02-03T14:03:03.679Z"
   },
   {
    "duration": 9,
    "start_time": "2023-02-03T14:03:03.704Z"
   },
   {
    "duration": 48,
    "start_time": "2023-02-03T14:03:03.714Z"
   },
   {
    "duration": 77,
    "start_time": "2023-02-03T14:03:03.764Z"
   },
   {
    "duration": 79,
    "start_time": "2023-02-03T14:03:03.857Z"
   },
   {
    "duration": 17,
    "start_time": "2023-02-03T14:03:03.941Z"
   },
   {
    "duration": 8,
    "start_time": "2023-02-03T14:03:03.960Z"
   },
   {
    "duration": 48,
    "start_time": "2023-02-03T14:03:03.969Z"
   },
   {
    "duration": 8,
    "start_time": "2023-02-03T14:03:04.018Z"
   },
   {
    "duration": 45,
    "start_time": "2023-02-03T14:03:04.040Z"
   },
   {
    "duration": 99,
    "start_time": "2023-02-03T14:03:04.087Z"
   },
   {
    "duration": 106,
    "start_time": "2023-02-03T14:03:04.187Z"
   },
   {
    "duration": 3,
    "start_time": "2023-02-03T14:03:04.294Z"
   },
   {
    "duration": 7,
    "start_time": "2023-02-03T14:03:04.298Z"
   },
   {
    "duration": 17,
    "start_time": "2023-02-03T14:03:04.307Z"
   },
   {
    "duration": 32,
    "start_time": "2023-02-03T14:03:04.326Z"
   },
   {
    "duration": 14,
    "start_time": "2023-02-03T14:03:04.360Z"
   },
   {
    "duration": 25,
    "start_time": "2023-02-03T14:03:04.375Z"
   },
   {
    "duration": 23,
    "start_time": "2023-02-03T14:03:04.401Z"
   },
   {
    "duration": 8,
    "start_time": "2023-02-03T14:03:04.425Z"
   },
   {
    "duration": 22,
    "start_time": "2023-02-03T14:03:04.434Z"
   },
   {
    "duration": 6,
    "start_time": "2023-02-03T14:03:04.458Z"
   },
   {
    "duration": 5,
    "start_time": "2023-02-03T14:03:04.465Z"
   },
   {
    "duration": 7,
    "start_time": "2023-02-03T14:03:04.471Z"
   },
   {
    "duration": 4,
    "start_time": "2023-02-03T14:03:04.480Z"
   },
   {
    "duration": 14,
    "start_time": "2023-02-03T14:03:04.486Z"
   },
   {
    "duration": 17,
    "start_time": "2023-02-03T14:03:35.936Z"
   },
   {
    "duration": 892,
    "start_time": "2023-02-03T14:05:36.078Z"
   },
   {
    "duration": 1265,
    "start_time": "2023-02-03T14:06:29.937Z"
   },
   {
    "duration": 987,
    "start_time": "2023-02-03T14:06:49.150Z"
   },
   {
    "duration": 11,
    "start_time": "2023-02-03T14:11:15.003Z"
   },
   {
    "duration": 3,
    "start_time": "2023-02-03T14:11:40.710Z"
   },
   {
    "duration": 213,
    "start_time": "2023-02-03T14:11:40.715Z"
   },
   {
    "duration": 26,
    "start_time": "2023-02-03T14:11:40.930Z"
   },
   {
    "duration": 9,
    "start_time": "2023-02-03T14:11:40.959Z"
   },
   {
    "duration": 15,
    "start_time": "2023-02-03T14:11:40.970Z"
   },
   {
    "duration": 76,
    "start_time": "2023-02-03T14:11:40.987Z"
   },
   {
    "duration": 127,
    "start_time": "2023-02-03T14:11:41.065Z"
   },
   {
    "duration": 26,
    "start_time": "2023-02-03T14:11:41.193Z"
   },
   {
    "duration": 55,
    "start_time": "2023-02-03T14:11:41.222Z"
   },
   {
    "duration": 13,
    "start_time": "2023-02-03T14:11:41.279Z"
   },
   {
    "duration": 8,
    "start_time": "2023-02-03T14:11:41.294Z"
   },
   {
    "duration": 37,
    "start_time": "2023-02-03T14:11:41.304Z"
   },
   {
    "duration": 6,
    "start_time": "2023-02-03T14:11:41.343Z"
   },
   {
    "duration": 22,
    "start_time": "2023-02-03T14:11:41.350Z"
   },
   {
    "duration": 237,
    "start_time": "2023-02-03T14:11:41.374Z"
   },
   {
    "duration": 48,
    "start_time": "2023-02-03T14:11:41.613Z"
   },
   {
    "duration": 22,
    "start_time": "2023-02-03T14:11:41.663Z"
   },
   {
    "duration": 36,
    "start_time": "2023-02-03T14:11:41.686Z"
   },
   {
    "duration": 12,
    "start_time": "2023-02-03T14:11:41.740Z"
   },
   {
    "duration": 16,
    "start_time": "2023-02-03T14:11:41.755Z"
   },
   {
    "duration": 5,
    "start_time": "2023-02-03T14:11:41.773Z"
   },
   {
    "duration": 25,
    "start_time": "2023-02-03T14:11:41.779Z"
   },
   {
    "duration": 106,
    "start_time": "2023-02-03T14:11:41.806Z"
   },
   {
    "duration": 97,
    "start_time": "2023-02-03T14:11:41.916Z"
   },
   {
    "duration": 32,
    "start_time": "2023-02-03T14:11:42.014Z"
   },
   {
    "duration": 12,
    "start_time": "2023-02-03T14:11:42.051Z"
   },
   {
    "duration": 40,
    "start_time": "2023-02-03T14:11:42.065Z"
   },
   {
    "duration": 5,
    "start_time": "2023-02-03T14:11:42.107Z"
   },
   {
    "duration": 61,
    "start_time": "2023-02-03T14:11:42.114Z"
   },
   {
    "duration": 93,
    "start_time": "2023-02-03T14:11:42.176Z"
   },
   {
    "duration": 100,
    "start_time": "2023-02-03T14:11:42.272Z"
   },
   {
    "duration": 3,
    "start_time": "2023-02-03T14:11:42.374Z"
   },
   {
    "duration": 7,
    "start_time": "2023-02-03T14:11:42.378Z"
   },
   {
    "duration": 17,
    "start_time": "2023-02-03T14:11:42.386Z"
   },
   {
    "duration": 46,
    "start_time": "2023-02-03T14:11:42.405Z"
   },
   {
    "duration": 13,
    "start_time": "2023-02-03T14:11:42.454Z"
   },
   {
    "duration": 11,
    "start_time": "2023-02-03T14:11:42.469Z"
   },
   {
    "duration": 11,
    "start_time": "2023-02-03T14:11:42.481Z"
   },
   {
    "duration": 7,
    "start_time": "2023-02-03T14:11:42.494Z"
   },
   {
    "duration": 11,
    "start_time": "2023-02-03T14:11:42.503Z"
   },
   {
    "duration": 911,
    "start_time": "2023-02-03T14:11:42.517Z"
   },
   {
    "duration": 7,
    "start_time": "2023-02-03T14:12:27.813Z"
   },
   {
    "duration": 3,
    "start_time": "2023-02-03T14:12:32.898Z"
   },
   {
    "duration": 181,
    "start_time": "2023-02-03T14:12:32.903Z"
   },
   {
    "duration": 20,
    "start_time": "2023-02-03T14:12:33.086Z"
   },
   {
    "duration": 5,
    "start_time": "2023-02-03T14:12:33.109Z"
   },
   {
    "duration": 29,
    "start_time": "2023-02-03T14:12:33.116Z"
   },
   {
    "duration": 78,
    "start_time": "2023-02-03T14:12:33.147Z"
   },
   {
    "duration": 106,
    "start_time": "2023-02-03T14:12:33.227Z"
   },
   {
    "duration": 34,
    "start_time": "2023-02-03T14:12:33.339Z"
   },
   {
    "duration": 31,
    "start_time": "2023-02-03T14:12:33.376Z"
   },
   {
    "duration": 33,
    "start_time": "2023-02-03T14:12:33.409Z"
   },
   {
    "duration": 8,
    "start_time": "2023-02-03T14:12:33.447Z"
   },
   {
    "duration": 18,
    "start_time": "2023-02-03T14:12:33.462Z"
   },
   {
    "duration": 7,
    "start_time": "2023-02-03T14:12:33.482Z"
   },
   {
    "duration": 7,
    "start_time": "2023-02-03T14:12:33.491Z"
   },
   {
    "duration": 261,
    "start_time": "2023-02-03T14:12:33.499Z"
   },
   {
    "duration": 33,
    "start_time": "2023-02-03T14:12:33.762Z"
   },
   {
    "duration": 24,
    "start_time": "2023-02-03T14:12:33.797Z"
   },
   {
    "duration": 44,
    "start_time": "2023-02-03T14:12:33.840Z"
   },
   {
    "duration": 7,
    "start_time": "2023-02-03T14:12:33.886Z"
   },
   {
    "duration": 9,
    "start_time": "2023-02-03T14:12:33.895Z"
   },
   {
    "duration": 5,
    "start_time": "2023-02-03T14:12:33.905Z"
   },
   {
    "duration": 65,
    "start_time": "2023-02-03T14:12:33.912Z"
   },
   {
    "duration": 97,
    "start_time": "2023-02-03T14:12:33.979Z"
   },
   {
    "duration": 89,
    "start_time": "2023-02-03T14:12:34.079Z"
   },
   {
    "duration": 14,
    "start_time": "2023-02-03T14:12:34.170Z"
   },
   {
    "duration": 11,
    "start_time": "2023-02-03T14:12:34.186Z"
   },
   {
    "duration": 66,
    "start_time": "2023-02-03T14:12:34.200Z"
   },
   {
    "duration": 4,
    "start_time": "2023-02-03T14:12:34.269Z"
   },
   {
    "duration": 66,
    "start_time": "2023-02-03T14:12:34.275Z"
   },
   {
    "duration": 76,
    "start_time": "2023-02-03T14:12:34.342Z"
   },
   {
    "duration": 103,
    "start_time": "2023-02-03T14:12:34.420Z"
   },
   {
    "duration": 3,
    "start_time": "2023-02-03T14:12:34.525Z"
   },
   {
    "duration": 6,
    "start_time": "2023-02-03T14:12:34.539Z"
   },
   {
    "duration": 20,
    "start_time": "2023-02-03T14:12:34.547Z"
   },
   {
    "duration": 12,
    "start_time": "2023-02-03T14:12:34.569Z"
   },
   {
    "duration": 18,
    "start_time": "2023-02-03T14:12:34.583Z"
   },
   {
    "duration": 40,
    "start_time": "2023-02-03T14:12:34.604Z"
   },
   {
    "duration": 22,
    "start_time": "2023-02-03T14:12:34.647Z"
   },
   {
    "duration": 17,
    "start_time": "2023-02-03T14:12:34.671Z"
   },
   {
    "duration": 13,
    "start_time": "2023-02-03T14:12:34.690Z"
   },
   {
    "duration": 914,
    "start_time": "2023-02-03T14:12:34.705Z"
   },
   {
    "duration": 10,
    "start_time": "2023-02-03T14:13:30.714Z"
   },
   {
    "duration": 12,
    "start_time": "2023-02-03T14:13:40.109Z"
   },
   {
    "duration": 10,
    "start_time": "2023-02-03T14:14:09.300Z"
   },
   {
    "duration": 10,
    "start_time": "2023-02-03T14:15:04.371Z"
   },
   {
    "duration": 846,
    "start_time": "2023-02-03T14:15:36.955Z"
   },
   {
    "duration": 1137,
    "start_time": "2023-02-03T14:15:52.860Z"
   },
   {
    "duration": 7,
    "start_time": "2023-02-03T14:16:29.225Z"
   },
   {
    "duration": 3,
    "start_time": "2023-02-03T14:16:39.572Z"
   },
   {
    "duration": 183,
    "start_time": "2023-02-03T14:16:39.578Z"
   },
   {
    "duration": 20,
    "start_time": "2023-02-03T14:16:39.763Z"
   },
   {
    "duration": 19,
    "start_time": "2023-02-03T14:16:39.785Z"
   },
   {
    "duration": 10,
    "start_time": "2023-02-03T14:16:39.807Z"
   },
   {
    "duration": 67,
    "start_time": "2023-02-03T14:16:39.819Z"
   },
   {
    "duration": 126,
    "start_time": "2023-02-03T14:16:39.888Z"
   },
   {
    "duration": 35,
    "start_time": "2023-02-03T14:16:40.016Z"
   },
   {
    "duration": 40,
    "start_time": "2023-02-03T14:16:40.054Z"
   },
   {
    "duration": 15,
    "start_time": "2023-02-03T14:16:40.096Z"
   },
   {
    "duration": 28,
    "start_time": "2023-02-03T14:16:40.112Z"
   },
   {
    "duration": 17,
    "start_time": "2023-02-03T14:16:40.142Z"
   },
   {
    "duration": 10,
    "start_time": "2023-02-03T14:16:40.161Z"
   },
   {
    "duration": 10,
    "start_time": "2023-02-03T14:16:40.174Z"
   },
   {
    "duration": 284,
    "start_time": "2023-02-03T14:16:40.186Z"
   },
   {
    "duration": 32,
    "start_time": "2023-02-03T14:16:40.472Z"
   },
   {
    "duration": 43,
    "start_time": "2023-02-03T14:16:40.506Z"
   },
   {
    "duration": 42,
    "start_time": "2023-02-03T14:16:40.551Z"
   },
   {
    "duration": 7,
    "start_time": "2023-02-03T14:16:40.595Z"
   },
   {
    "duration": 17,
    "start_time": "2023-02-03T14:16:40.604Z"
   },
   {
    "duration": 18,
    "start_time": "2023-02-03T14:16:40.623Z"
   },
   {
    "duration": 24,
    "start_time": "2023-02-03T14:16:40.643Z"
   },
   {
    "duration": 78,
    "start_time": "2023-02-03T14:16:40.669Z"
   },
   {
    "duration": 92,
    "start_time": "2023-02-03T14:16:40.749Z"
   },
   {
    "duration": 13,
    "start_time": "2023-02-03T14:16:40.843Z"
   },
   {
    "duration": 10,
    "start_time": "2023-02-03T14:16:40.859Z"
   },
   {
    "duration": 45,
    "start_time": "2023-02-03T14:16:40.871Z"
   },
   {
    "duration": 24,
    "start_time": "2023-02-03T14:16:40.918Z"
   },
   {
    "duration": 48,
    "start_time": "2023-02-03T14:16:40.944Z"
   },
   {
    "duration": 110,
    "start_time": "2023-02-03T14:16:40.995Z"
   },
   {
    "duration": 97,
    "start_time": "2023-02-03T14:16:41.108Z"
   },
   {
    "duration": 3,
    "start_time": "2023-02-03T14:16:41.206Z"
   },
   {
    "duration": 7,
    "start_time": "2023-02-03T14:16:41.210Z"
   },
   {
    "duration": 28,
    "start_time": "2023-02-03T14:16:41.219Z"
   },
   {
    "duration": 15,
    "start_time": "2023-02-03T14:16:41.248Z"
   },
   {
    "duration": 17,
    "start_time": "2023-02-03T14:16:41.265Z"
   },
   {
    "duration": 6,
    "start_time": "2023-02-03T14:16:41.284Z"
   },
   {
    "duration": 1133,
    "start_time": "2023-02-03T14:16:41.291Z"
   },
   {
    "duration": 0,
    "start_time": "2023-02-03T14:16:42.426Z"
   },
   {
    "duration": 0,
    "start_time": "2023-02-03T14:16:42.427Z"
   },
   {
    "duration": 0,
    "start_time": "2023-02-03T14:16:42.428Z"
   },
   {
    "duration": 0,
    "start_time": "2023-02-03T14:16:42.429Z"
   },
   {
    "duration": 1143,
    "start_time": "2023-02-03T14:16:48.767Z"
   },
   {
    "duration": 13,
    "start_time": "2023-02-03T14:17:39.039Z"
   },
   {
    "duration": 7,
    "start_time": "2023-02-03T14:18:26.958Z"
   },
   {
    "duration": 7,
    "start_time": "2023-02-03T14:21:23.752Z"
   },
   {
    "duration": 47,
    "start_time": "2023-02-03T14:23:33.230Z"
   },
   {
    "duration": 5,
    "start_time": "2023-02-03T14:23:51.215Z"
   },
   {
    "duration": 8,
    "start_time": "2023-02-03T14:24:32.396Z"
   },
   {
    "duration": 11,
    "start_time": "2023-02-03T14:24:48.459Z"
   },
   {
    "duration": 1160,
    "start_time": "2023-02-03T14:25:09.057Z"
   },
   {
    "duration": 14,
    "start_time": "2023-02-03T14:25:55.399Z"
   },
   {
    "duration": 1111,
    "start_time": "2023-02-03T14:26:26.865Z"
   },
   {
    "duration": 1134,
    "start_time": "2023-02-03T14:26:59.379Z"
   },
   {
    "duration": 12,
    "start_time": "2023-02-03T14:28:44.362Z"
   },
   {
    "duration": 10,
    "start_time": "2023-02-03T14:30:57.328Z"
   },
   {
    "duration": 5,
    "start_time": "2023-02-03T14:31:16.170Z"
   },
   {
    "duration": 5,
    "start_time": "2023-02-03T14:32:01.557Z"
   },
   {
    "duration": 7,
    "start_time": "2023-02-03T14:32:04.418Z"
   },
   {
    "duration": 8,
    "start_time": "2023-02-03T14:32:18.993Z"
   },
   {
    "duration": 6,
    "start_time": "2023-02-03T14:33:26.962Z"
   },
   {
    "duration": 7,
    "start_time": "2023-02-03T14:33:29.756Z"
   },
   {
    "duration": 7,
    "start_time": "2023-02-03T14:33:45.183Z"
   },
   {
    "duration": 8,
    "start_time": "2023-02-03T14:35:24.016Z"
   },
   {
    "duration": 896,
    "start_time": "2023-02-03T14:35:39.413Z"
   },
   {
    "duration": 4,
    "start_time": "2023-02-03T14:36:27.033Z"
   },
   {
    "duration": 8,
    "start_time": "2023-02-03T14:36:28.000Z"
   },
   {
    "duration": 11,
    "start_time": "2023-02-03T14:36:33.302Z"
   },
   {
    "duration": 37,
    "start_time": "2023-02-03T14:39:43.154Z"
   },
   {
    "duration": 7,
    "start_time": "2023-02-03T14:40:07.988Z"
   },
   {
    "duration": 3,
    "start_time": "2023-02-03T14:40:17.422Z"
   },
   {
    "duration": 6,
    "start_time": "2023-02-03T14:40:18.655Z"
   },
   {
    "duration": 9,
    "start_time": "2023-02-03T14:41:39.284Z"
   },
   {
    "duration": 5,
    "start_time": "2023-02-03T14:41:50.560Z"
   },
   {
    "duration": 16,
    "start_time": "2023-02-03T14:42:46.673Z"
   },
   {
    "duration": 19,
    "start_time": "2023-02-03T14:43:10.896Z"
   },
   {
    "duration": 6,
    "start_time": "2023-02-03T14:43:14.713Z"
   },
   {
    "duration": 11,
    "start_time": "2023-02-03T14:43:46.512Z"
   },
   {
    "duration": 9,
    "start_time": "2023-02-03T14:43:56.261Z"
   },
   {
    "duration": 4,
    "start_time": "2023-02-03T14:44:11.949Z"
   },
   {
    "duration": 8,
    "start_time": "2023-02-03T14:44:13.278Z"
   },
   {
    "duration": 13,
    "start_time": "2023-02-03T14:44:14.950Z"
   },
   {
    "duration": 4,
    "start_time": "2023-02-03T14:44:21.667Z"
   },
   {
    "duration": 182,
    "start_time": "2023-02-03T14:44:21.673Z"
   },
   {
    "duration": 20,
    "start_time": "2023-02-03T14:44:21.857Z"
   },
   {
    "duration": 5,
    "start_time": "2023-02-03T14:44:21.880Z"
   },
   {
    "duration": 12,
    "start_time": "2023-02-03T14:44:21.887Z"
   },
   {
    "duration": 81,
    "start_time": "2023-02-03T14:44:21.901Z"
   },
   {
    "duration": 124,
    "start_time": "2023-02-03T14:44:21.984Z"
   },
   {
    "duration": 33,
    "start_time": "2023-02-03T14:44:22.109Z"
   },
   {
    "duration": 35,
    "start_time": "2023-02-03T14:44:22.145Z"
   },
   {
    "duration": 13,
    "start_time": "2023-02-03T14:44:22.182Z"
   },
   {
    "duration": 7,
    "start_time": "2023-02-03T14:44:22.197Z"
   },
   {
    "duration": 48,
    "start_time": "2023-02-03T14:44:22.206Z"
   },
   {
    "duration": 5,
    "start_time": "2023-02-03T14:44:22.256Z"
   },
   {
    "duration": 6,
    "start_time": "2023-02-03T14:44:22.263Z"
   },
   {
    "duration": 241,
    "start_time": "2023-02-03T14:44:22.271Z"
   },
   {
    "duration": 40,
    "start_time": "2023-02-03T14:44:22.513Z"
   },
   {
    "duration": 23,
    "start_time": "2023-02-03T14:44:22.554Z"
   },
   {
    "duration": 33,
    "start_time": "2023-02-03T14:44:22.578Z"
   },
   {
    "duration": 28,
    "start_time": "2023-02-03T14:44:22.613Z"
   },
   {
    "duration": 9,
    "start_time": "2023-02-03T14:44:22.643Z"
   },
   {
    "duration": 10,
    "start_time": "2023-02-03T14:44:22.654Z"
   },
   {
    "duration": 24,
    "start_time": "2023-02-03T14:44:22.666Z"
   },
   {
    "duration": 89,
    "start_time": "2023-02-03T14:44:22.691Z"
   },
   {
    "duration": 83,
    "start_time": "2023-02-03T14:44:22.784Z"
   },
   {
    "duration": 13,
    "start_time": "2023-02-03T14:44:22.869Z"
   },
   {
    "duration": 9,
    "start_time": "2023-02-03T14:44:22.883Z"
   },
   {
    "duration": 56,
    "start_time": "2023-02-03T14:44:22.894Z"
   },
   {
    "duration": 5,
    "start_time": "2023-02-03T14:44:22.951Z"
   },
   {
    "duration": 51,
    "start_time": "2023-02-03T14:44:22.958Z"
   },
   {
    "duration": 86,
    "start_time": "2023-02-03T14:44:23.012Z"
   },
   {
    "duration": 97,
    "start_time": "2023-02-03T14:44:23.100Z"
   },
   {
    "duration": 3,
    "start_time": "2023-02-03T14:44:23.198Z"
   },
   {
    "duration": 13,
    "start_time": "2023-02-03T14:44:23.203Z"
   },
   {
    "duration": 30,
    "start_time": "2023-02-03T14:44:23.218Z"
   },
   {
    "duration": 12,
    "start_time": "2023-02-03T14:44:23.250Z"
   },
   {
    "duration": 14,
    "start_time": "2023-02-03T14:44:23.264Z"
   },
   {
    "duration": 5,
    "start_time": "2023-02-03T14:44:23.279Z"
   },
   {
    "duration": 14,
    "start_time": "2023-02-03T14:44:23.286Z"
   },
   {
    "duration": 46,
    "start_time": "2023-02-03T14:44:23.302Z"
   },
   {
    "duration": 13,
    "start_time": "2023-02-03T14:44:23.350Z"
   },
   {
    "duration": 19,
    "start_time": "2023-02-03T14:44:23.364Z"
   },
   {
    "duration": 16,
    "start_time": "2023-02-03T14:44:23.385Z"
   },
   {
    "duration": 45,
    "start_time": "2023-02-03T14:44:23.403Z"
   },
   {
    "duration": 183,
    "start_time": "2023-02-03T14:47:10.669Z"
   },
   {
    "duration": 12,
    "start_time": "2023-02-03T14:48:40.438Z"
   },
   {
    "duration": 1199,
    "start_time": "2023-02-03T14:52:39.218Z"
   },
   {
    "duration": 774,
    "start_time": "2023-02-03T14:52:40.419Z"
   },
   {
    "duration": 21,
    "start_time": "2023-02-03T14:52:41.195Z"
   },
   {
    "duration": 5,
    "start_time": "2023-02-03T14:52:41.218Z"
   },
   {
    "duration": 22,
    "start_time": "2023-02-03T14:52:41.225Z"
   },
   {
    "duration": 73,
    "start_time": "2023-02-03T14:52:41.249Z"
   },
   {
    "duration": 147,
    "start_time": "2023-02-03T14:52:41.339Z"
   },
   {
    "duration": 25,
    "start_time": "2023-02-03T14:52:41.487Z"
   },
   {
    "duration": 50,
    "start_time": "2023-02-03T14:52:41.514Z"
   },
   {
    "duration": 13,
    "start_time": "2023-02-03T14:52:41.566Z"
   },
   {
    "duration": 9,
    "start_time": "2023-02-03T14:52:41.581Z"
   },
   {
    "duration": 34,
    "start_time": "2023-02-03T14:52:41.591Z"
   },
   {
    "duration": 5,
    "start_time": "2023-02-03T14:52:41.627Z"
   },
   {
    "duration": 4,
    "start_time": "2023-02-03T14:52:41.642Z"
   },
   {
    "duration": 314,
    "start_time": "2023-02-03T14:52:41.647Z"
   },
   {
    "duration": 36,
    "start_time": "2023-02-03T14:52:41.962Z"
   },
   {
    "duration": 21,
    "start_time": "2023-02-03T14:52:42.000Z"
   },
   {
    "duration": 32,
    "start_time": "2023-02-03T14:52:42.040Z"
   },
   {
    "duration": 9,
    "start_time": "2023-02-03T14:52:42.075Z"
   },
   {
    "duration": 26,
    "start_time": "2023-02-03T14:52:42.086Z"
   },
   {
    "duration": 5,
    "start_time": "2023-02-03T14:52:42.114Z"
   },
   {
    "duration": 39,
    "start_time": "2023-02-03T14:52:42.121Z"
   },
   {
    "duration": 86,
    "start_time": "2023-02-03T14:52:42.162Z"
   },
   {
    "duration": 194,
    "start_time": "2023-02-03T14:52:42.249Z"
   },
   {
    "duration": 96,
    "start_time": "2023-02-03T14:52:42.445Z"
   },
   {
    "duration": 13,
    "start_time": "2023-02-03T14:52:42.543Z"
   },
   {
    "duration": 12,
    "start_time": "2023-02-03T14:52:42.559Z"
   },
   {
    "duration": 39,
    "start_time": "2023-02-03T14:52:42.573Z"
   },
   {
    "duration": 26,
    "start_time": "2023-02-03T14:52:42.614Z"
   },
   {
    "duration": 51,
    "start_time": "2023-02-03T14:52:42.642Z"
   },
   {
    "duration": 104,
    "start_time": "2023-02-03T14:52:42.695Z"
   },
   {
    "duration": 116,
    "start_time": "2023-02-03T14:52:42.801Z"
   },
   {
    "duration": 2,
    "start_time": "2023-02-03T14:52:42.919Z"
   },
   {
    "duration": 17,
    "start_time": "2023-02-03T14:52:42.923Z"
   },
   {
    "duration": 20,
    "start_time": "2023-02-03T14:52:42.942Z"
   },
   {
    "duration": 14,
    "start_time": "2023-02-03T14:52:42.964Z"
   },
   {
    "duration": 14,
    "start_time": "2023-02-03T14:52:42.979Z"
   },
   {
    "duration": 5,
    "start_time": "2023-02-03T14:52:42.995Z"
   },
   {
    "duration": 43,
    "start_time": "2023-02-03T14:52:43.001Z"
   },
   {
    "duration": 35,
    "start_time": "2023-02-03T14:52:43.046Z"
   },
   {
    "duration": 24,
    "start_time": "2023-02-03T14:52:43.084Z"
   },
   {
    "duration": 7,
    "start_time": "2023-02-03T14:52:43.110Z"
   },
   {
    "duration": 9,
    "start_time": "2023-02-03T14:52:43.118Z"
   },
   {
    "duration": 23,
    "start_time": "2023-02-03T14:52:43.129Z"
   },
   {
    "duration": 14,
    "start_time": "2023-02-03T15:14:32.540Z"
   },
   {
    "duration": 13,
    "start_time": "2023-02-03T15:15:19.088Z"
   },
   {
    "duration": 4,
    "start_time": "2023-02-03T15:16:07.775Z"
   },
   {
    "duration": 7,
    "start_time": "2023-02-03T15:16:08.531Z"
   },
   {
    "duration": 3,
    "start_time": "2023-02-03T15:16:39.890Z"
   },
   {
    "duration": 190,
    "start_time": "2023-02-03T15:16:39.896Z"
   },
   {
    "duration": 21,
    "start_time": "2023-02-03T15:16:40.088Z"
   },
   {
    "duration": 5,
    "start_time": "2023-02-03T15:16:40.111Z"
   },
   {
    "duration": 8,
    "start_time": "2023-02-03T15:16:40.141Z"
   },
   {
    "duration": 75,
    "start_time": "2023-02-03T15:16:40.151Z"
   },
   {
    "duration": 127,
    "start_time": "2023-02-03T15:16:40.242Z"
   },
   {
    "duration": 26,
    "start_time": "2023-02-03T15:16:40.372Z"
   },
   {
    "duration": 50,
    "start_time": "2023-02-03T15:16:40.400Z"
   },
   {
    "duration": 12,
    "start_time": "2023-02-03T15:16:40.452Z"
   },
   {
    "duration": 12,
    "start_time": "2023-02-03T15:16:40.466Z"
   },
   {
    "duration": 16,
    "start_time": "2023-02-03T15:16:40.479Z"
   },
   {
    "duration": 4,
    "start_time": "2023-02-03T15:16:40.498Z"
   },
   {
    "duration": 37,
    "start_time": "2023-02-03T15:16:40.504Z"
   },
   {
    "duration": 222,
    "start_time": "2023-02-03T15:16:40.543Z"
   },
   {
    "duration": 35,
    "start_time": "2023-02-03T15:16:40.767Z"
   },
   {
    "duration": 41,
    "start_time": "2023-02-03T15:16:40.803Z"
   },
   {
    "duration": 34,
    "start_time": "2023-02-03T15:16:40.846Z"
   },
   {
    "duration": 8,
    "start_time": "2023-02-03T15:16:40.881Z"
   },
   {
    "duration": 17,
    "start_time": "2023-02-03T15:16:40.891Z"
   },
   {
    "duration": 6,
    "start_time": "2023-02-03T15:16:40.910Z"
   },
   {
    "duration": 25,
    "start_time": "2023-02-03T15:16:40.940Z"
   },
   {
    "duration": 81,
    "start_time": "2023-02-03T15:16:40.967Z"
   },
   {
    "duration": 195,
    "start_time": "2023-02-03T15:16:41.050Z"
   },
   {
    "duration": 93,
    "start_time": "2023-02-03T15:16:41.247Z"
   },
   {
    "duration": 12,
    "start_time": "2023-02-03T15:16:41.342Z"
   },
   {
    "duration": 6,
    "start_time": "2023-02-03T15:16:41.356Z"
   },
   {
    "duration": 37,
    "start_time": "2023-02-03T15:16:41.363Z"
   },
   {
    "duration": 5,
    "start_time": "2023-02-03T15:16:41.403Z"
   },
   {
    "duration": 67,
    "start_time": "2023-02-03T15:16:41.410Z"
   },
   {
    "duration": 88,
    "start_time": "2023-02-03T15:16:41.478Z"
   },
   {
    "duration": 111,
    "start_time": "2023-02-03T15:16:41.568Z"
   },
   {
    "duration": 7,
    "start_time": "2023-02-03T15:16:41.681Z"
   },
   {
    "duration": 31,
    "start_time": "2023-02-03T15:16:41.689Z"
   },
   {
    "duration": 19,
    "start_time": "2023-02-03T15:16:41.722Z"
   },
   {
    "duration": 10,
    "start_time": "2023-02-03T15:16:41.743Z"
   },
   {
    "duration": 20,
    "start_time": "2023-02-03T15:16:41.758Z"
   },
   {
    "duration": 14,
    "start_time": "2023-02-03T15:16:41.780Z"
   },
   {
    "duration": 27,
    "start_time": "2023-02-03T15:16:41.796Z"
   },
   {
    "duration": 12,
    "start_time": "2023-02-03T15:16:41.825Z"
   },
   {
    "duration": 6,
    "start_time": "2023-02-03T15:16:41.840Z"
   },
   {
    "duration": 11,
    "start_time": "2023-02-03T15:16:41.848Z"
   },
   {
    "duration": 16,
    "start_time": "2023-02-03T15:16:41.860Z"
   },
   {
    "duration": 12,
    "start_time": "2023-02-03T15:17:14.408Z"
   },
   {
    "duration": 3,
    "start_time": "2023-02-03T15:17:19.525Z"
   },
   {
    "duration": 172,
    "start_time": "2023-02-03T15:17:19.530Z"
   },
   {
    "duration": 21,
    "start_time": "2023-02-03T15:17:19.704Z"
   },
   {
    "duration": 5,
    "start_time": "2023-02-03T15:17:19.740Z"
   },
   {
    "duration": 10,
    "start_time": "2023-02-03T15:17:19.747Z"
   },
   {
    "duration": 60,
    "start_time": "2023-02-03T15:17:19.759Z"
   },
   {
    "duration": 132,
    "start_time": "2023-02-03T15:17:19.840Z"
   },
   {
    "duration": 25,
    "start_time": "2023-02-03T15:17:19.974Z"
   },
   {
    "duration": 51,
    "start_time": "2023-02-03T15:17:20.002Z"
   },
   {
    "duration": 14,
    "start_time": "2023-02-03T15:17:20.055Z"
   },
   {
    "duration": 32,
    "start_time": "2023-02-03T15:17:20.071Z"
   },
   {
    "duration": 25,
    "start_time": "2023-02-03T15:17:20.105Z"
   },
   {
    "duration": 14,
    "start_time": "2023-02-03T15:17:20.132Z"
   },
   {
    "duration": 14,
    "start_time": "2023-02-03T15:17:20.148Z"
   },
   {
    "duration": 242,
    "start_time": "2023-02-03T15:17:20.163Z"
   },
   {
    "duration": 37,
    "start_time": "2023-02-03T15:17:20.407Z"
   },
   {
    "duration": 21,
    "start_time": "2023-02-03T15:17:20.446Z"
   },
   {
    "duration": 32,
    "start_time": "2023-02-03T15:17:20.469Z"
   },
   {
    "duration": 8,
    "start_time": "2023-02-03T15:17:20.503Z"
   },
   {
    "duration": 10,
    "start_time": "2023-02-03T15:17:20.540Z"
   },
   {
    "duration": 9,
    "start_time": "2023-02-03T15:17:20.552Z"
   },
   {
    "duration": 25,
    "start_time": "2023-02-03T15:17:20.563Z"
   },
   {
    "duration": 81,
    "start_time": "2023-02-03T15:17:20.590Z"
   },
   {
    "duration": 202,
    "start_time": "2023-02-03T15:17:20.674Z"
   },
   {
    "duration": 94,
    "start_time": "2023-02-03T15:17:20.878Z"
   },
   {
    "duration": 12,
    "start_time": "2023-02-03T15:17:20.975Z"
   },
   {
    "duration": 9,
    "start_time": "2023-02-03T15:17:20.988Z"
   },
   {
    "duration": 76,
    "start_time": "2023-02-03T15:17:20.999Z"
   },
   {
    "duration": 4,
    "start_time": "2023-02-03T15:17:21.077Z"
   },
   {
    "duration": 67,
    "start_time": "2023-02-03T15:17:21.083Z"
   },
   {
    "duration": 90,
    "start_time": "2023-02-03T15:17:21.152Z"
   },
   {
    "duration": 102,
    "start_time": "2023-02-03T15:17:21.244Z"
   },
   {
    "duration": 5,
    "start_time": "2023-02-03T15:17:21.348Z"
   },
   {
    "duration": 21,
    "start_time": "2023-02-03T15:17:21.355Z"
   },
   {
    "duration": 15,
    "start_time": "2023-02-03T15:17:21.378Z"
   },
   {
    "duration": 46,
    "start_time": "2023-02-03T15:17:21.394Z"
   },
   {
    "duration": 13,
    "start_time": "2023-02-03T15:17:21.442Z"
   },
   {
    "duration": 19,
    "start_time": "2023-02-03T15:17:21.457Z"
   },
   {
    "duration": 28,
    "start_time": "2023-02-03T15:17:21.477Z"
   },
   {
    "duration": 13,
    "start_time": "2023-02-03T15:17:21.507Z"
   },
   {
    "duration": 12,
    "start_time": "2023-02-03T15:17:21.522Z"
   },
   {
    "duration": 120,
    "start_time": "2023-02-03T15:17:21.535Z"
   },
   {
    "duration": 6,
    "start_time": "2023-02-03T15:18:35.247Z"
   },
   {
    "duration": 3,
    "start_time": "2023-02-03T15:18:53.682Z"
   },
   {
    "duration": 189,
    "start_time": "2023-02-03T15:18:53.688Z"
   },
   {
    "duration": 22,
    "start_time": "2023-02-03T15:18:53.879Z"
   },
   {
    "duration": 5,
    "start_time": "2023-02-03T15:18:53.903Z"
   },
   {
    "duration": 30,
    "start_time": "2023-02-03T15:18:53.911Z"
   },
   {
    "duration": 63,
    "start_time": "2023-02-03T15:18:53.943Z"
   },
   {
    "duration": 142,
    "start_time": "2023-02-03T15:18:54.009Z"
   },
   {
    "duration": 38,
    "start_time": "2023-02-03T15:18:54.154Z"
   },
   {
    "duration": 64,
    "start_time": "2023-02-03T15:18:54.194Z"
   },
   {
    "duration": 17,
    "start_time": "2023-02-03T15:18:54.260Z"
   },
   {
    "duration": 9,
    "start_time": "2023-02-03T15:18:54.279Z"
   },
   {
    "duration": 24,
    "start_time": "2023-02-03T15:18:54.290Z"
   },
   {
    "duration": 4,
    "start_time": "2023-02-03T15:18:54.341Z"
   },
   {
    "duration": 7,
    "start_time": "2023-02-03T15:18:54.348Z"
   },
   {
    "duration": 242,
    "start_time": "2023-02-03T15:18:54.357Z"
   },
   {
    "duration": 46,
    "start_time": "2023-02-03T15:18:54.601Z"
   },
   {
    "duration": 22,
    "start_time": "2023-02-03T15:18:54.648Z"
   },
   {
    "duration": 34,
    "start_time": "2023-02-03T15:18:54.672Z"
   },
   {
    "duration": 33,
    "start_time": "2023-02-03T15:18:54.708Z"
   },
   {
    "duration": 10,
    "start_time": "2023-02-03T15:18:54.742Z"
   },
   {
    "duration": 5,
    "start_time": "2023-02-03T15:18:54.754Z"
   },
   {
    "duration": 24,
    "start_time": "2023-02-03T15:18:54.761Z"
   },
   {
    "duration": 99,
    "start_time": "2023-02-03T15:18:54.787Z"
   },
   {
    "duration": 200,
    "start_time": "2023-02-03T15:18:54.888Z"
   },
   {
    "duration": 96,
    "start_time": "2023-02-03T15:18:55.090Z"
   },
   {
    "duration": 13,
    "start_time": "2023-02-03T15:18:55.189Z"
   },
   {
    "duration": 6,
    "start_time": "2023-02-03T15:18:55.203Z"
   },
   {
    "duration": 59,
    "start_time": "2023-02-03T15:18:55.210Z"
   },
   {
    "duration": 4,
    "start_time": "2023-02-03T15:18:55.271Z"
   },
   {
    "duration": 45,
    "start_time": "2023-02-03T15:18:55.277Z"
   },
   {
    "duration": 190,
    "start_time": "2023-02-03T15:18:55.323Z"
   },
   {
    "duration": 102,
    "start_time": "2023-02-03T15:18:55.515Z"
   },
   {
    "duration": 6,
    "start_time": "2023-02-03T15:18:55.619Z"
   },
   {
    "duration": 23,
    "start_time": "2023-02-03T15:18:55.627Z"
   },
   {
    "duration": 20,
    "start_time": "2023-02-03T15:18:55.654Z"
   },
   {
    "duration": 29,
    "start_time": "2023-02-03T15:18:55.676Z"
   },
   {
    "duration": 53,
    "start_time": "2023-02-03T15:18:55.708Z"
   },
   {
    "duration": 13,
    "start_time": "2023-02-03T15:18:55.763Z"
   },
   {
    "duration": 6,
    "start_time": "2023-02-03T15:18:55.778Z"
   },
   {
    "duration": 10,
    "start_time": "2023-02-03T15:18:55.785Z"
   },
   {
    "duration": 14,
    "start_time": "2023-02-03T15:18:55.798Z"
   },
   {
    "duration": 3,
    "start_time": "2023-02-03T15:20:26.884Z"
   },
   {
    "duration": 178,
    "start_time": "2023-02-03T15:20:26.889Z"
   },
   {
    "duration": 24,
    "start_time": "2023-02-03T15:20:27.069Z"
   },
   {
    "duration": 6,
    "start_time": "2023-02-03T15:20:27.095Z"
   },
   {
    "duration": 37,
    "start_time": "2023-02-03T15:20:27.104Z"
   },
   {
    "duration": 55,
    "start_time": "2023-02-03T15:20:27.143Z"
   },
   {
    "duration": 128,
    "start_time": "2023-02-03T15:20:27.199Z"
   },
   {
    "duration": 26,
    "start_time": "2023-02-03T15:20:27.329Z"
   },
   {
    "duration": 38,
    "start_time": "2023-02-03T15:20:27.357Z"
   },
   {
    "duration": 13,
    "start_time": "2023-02-03T15:20:27.397Z"
   },
   {
    "duration": 6,
    "start_time": "2023-02-03T15:20:27.439Z"
   },
   {
    "duration": 27,
    "start_time": "2023-02-03T15:20:27.447Z"
   },
   {
    "duration": 7,
    "start_time": "2023-02-03T15:20:27.476Z"
   },
   {
    "duration": 6,
    "start_time": "2023-02-03T15:20:27.486Z"
   },
   {
    "duration": 228,
    "start_time": "2023-02-03T15:20:27.494Z"
   },
   {
    "duration": 43,
    "start_time": "2023-02-03T15:20:27.724Z"
   },
   {
    "duration": 23,
    "start_time": "2023-02-03T15:20:27.769Z"
   },
   {
    "duration": 53,
    "start_time": "2023-02-03T15:20:27.794Z"
   },
   {
    "duration": 8,
    "start_time": "2023-02-03T15:20:27.849Z"
   },
   {
    "duration": 12,
    "start_time": "2023-02-03T15:20:27.859Z"
   },
   {
    "duration": 7,
    "start_time": "2023-02-03T15:20:27.873Z"
   },
   {
    "duration": 27,
    "start_time": "2023-02-03T15:20:27.881Z"
   },
   {
    "duration": 68,
    "start_time": "2023-02-03T15:20:27.941Z"
   },
   {
    "duration": 235,
    "start_time": "2023-02-03T15:20:28.011Z"
   },
   {
    "duration": 92,
    "start_time": "2023-02-03T15:20:28.249Z"
   },
   {
    "duration": 12,
    "start_time": "2023-02-03T15:20:28.343Z"
   },
   {
    "duration": 30,
    "start_time": "2023-02-03T15:20:28.357Z"
   },
   {
    "duration": 50,
    "start_time": "2023-02-03T15:20:28.388Z"
   },
   {
    "duration": 5,
    "start_time": "2023-02-03T15:20:28.441Z"
   },
   {
    "duration": 45,
    "start_time": "2023-02-03T15:20:28.448Z"
   },
   {
    "duration": 95,
    "start_time": "2023-02-03T15:20:28.495Z"
   },
   {
    "duration": 110,
    "start_time": "2023-02-03T15:20:28.592Z"
   },
   {
    "duration": 7,
    "start_time": "2023-02-03T15:20:28.705Z"
   },
   {
    "duration": 31,
    "start_time": "2023-02-03T15:20:28.714Z"
   },
   {
    "duration": 25,
    "start_time": "2023-02-03T15:20:28.746Z"
   },
   {
    "duration": 13,
    "start_time": "2023-02-03T15:20:28.773Z"
   },
   {
    "duration": 15,
    "start_time": "2023-02-03T15:20:28.788Z"
   },
   {
    "duration": 21,
    "start_time": "2023-02-03T15:20:28.805Z"
   },
   {
    "duration": 18,
    "start_time": "2023-02-03T15:20:28.844Z"
   },
   {
    "duration": 26,
    "start_time": "2023-02-03T15:20:28.864Z"
   },
   {
    "duration": 12,
    "start_time": "2023-02-03T15:23:18.760Z"
   },
   {
    "duration": 12,
    "start_time": "2023-02-03T15:43:59.291Z"
   },
   {
    "duration": 12,
    "start_time": "2023-02-03T15:45:03.021Z"
   },
   {
    "duration": 14,
    "start_time": "2023-02-03T15:45:19.739Z"
   },
   {
    "duration": 14,
    "start_time": "2023-02-03T15:45:34.222Z"
   },
   {
    "duration": 11,
    "start_time": "2023-02-03T15:45:51.273Z"
   },
   {
    "duration": 12,
    "start_time": "2023-02-03T15:46:34.784Z"
   },
   {
    "duration": 12,
    "start_time": "2023-02-03T15:46:41.867Z"
   },
   {
    "duration": 12,
    "start_time": "2023-02-03T15:46:49.436Z"
   },
   {
    "duration": 14,
    "start_time": "2023-02-03T15:47:13.535Z"
   },
   {
    "duration": 3,
    "start_time": "2023-02-03T16:46:28.776Z"
   },
   {
    "duration": 221,
    "start_time": "2023-02-03T16:46:28.780Z"
   },
   {
    "duration": 20,
    "start_time": "2023-02-03T16:46:29.003Z"
   },
   {
    "duration": 15,
    "start_time": "2023-02-03T16:46:29.026Z"
   },
   {
    "duration": 19,
    "start_time": "2023-02-03T16:46:29.042Z"
   },
   {
    "duration": 56,
    "start_time": "2023-02-03T16:46:29.063Z"
   },
   {
    "duration": 135,
    "start_time": "2023-02-03T16:46:29.120Z"
   },
   {
    "duration": 26,
    "start_time": "2023-02-03T16:46:29.256Z"
   },
   {
    "duration": 34,
    "start_time": "2023-02-03T16:46:29.284Z"
   },
   {
    "duration": 29,
    "start_time": "2023-02-03T16:46:29.320Z"
   },
   {
    "duration": 25,
    "start_time": "2023-02-03T16:46:29.352Z"
   },
   {
    "duration": 25,
    "start_time": "2023-02-03T16:46:29.379Z"
   },
   {
    "duration": 7,
    "start_time": "2023-02-03T16:46:29.405Z"
   },
   {
    "duration": 10,
    "start_time": "2023-02-03T16:46:29.413Z"
   },
   {
    "duration": 227,
    "start_time": "2023-02-03T16:46:29.425Z"
   },
   {
    "duration": 33,
    "start_time": "2023-02-03T16:46:29.654Z"
   },
   {
    "duration": 22,
    "start_time": "2023-02-03T16:46:29.688Z"
   },
   {
    "duration": 50,
    "start_time": "2023-02-03T16:46:29.712Z"
   },
   {
    "duration": 7,
    "start_time": "2023-02-03T16:46:29.764Z"
   },
   {
    "duration": 19,
    "start_time": "2023-02-03T16:46:29.773Z"
   },
   {
    "duration": 9,
    "start_time": "2023-02-03T16:46:29.794Z"
   },
   {
    "duration": 41,
    "start_time": "2023-02-03T16:46:29.804Z"
   },
   {
    "duration": 70,
    "start_time": "2023-02-03T16:46:29.846Z"
   },
   {
    "duration": 197,
    "start_time": "2023-02-03T16:46:29.919Z"
   },
   {
    "duration": 87,
    "start_time": "2023-02-03T16:46:30.118Z"
   },
   {
    "duration": 13,
    "start_time": "2023-02-03T16:46:30.206Z"
   },
   {
    "duration": 39,
    "start_time": "2023-02-03T16:46:30.221Z"
   },
   {
    "duration": 59,
    "start_time": "2023-02-03T16:46:30.262Z"
   },
   {
    "duration": 19,
    "start_time": "2023-02-03T16:46:30.323Z"
   },
   {
    "duration": 72,
    "start_time": "2023-02-03T16:46:30.343Z"
   },
   {
    "duration": 74,
    "start_time": "2023-02-03T16:46:30.417Z"
   },
   {
    "duration": 91,
    "start_time": "2023-02-03T16:46:30.493Z"
   },
   {
    "duration": 5,
    "start_time": "2023-02-03T16:46:30.587Z"
   },
   {
    "duration": 39,
    "start_time": "2023-02-03T16:46:30.594Z"
   },
   {
    "duration": 29,
    "start_time": "2023-02-03T16:46:30.634Z"
   },
   {
    "duration": 29,
    "start_time": "2023-02-03T16:46:30.665Z"
   },
   {
    "duration": 29,
    "start_time": "2023-02-03T16:46:30.695Z"
   },
   {
    "duration": 29,
    "start_time": "2023-02-03T16:46:30.726Z"
   },
   {
    "duration": 32,
    "start_time": "2023-02-03T16:46:30.757Z"
   },
   {
    "duration": 46,
    "start_time": "2023-02-03T16:46:30.792Z"
   },
   {
    "duration": 42,
    "start_time": "2023-02-03T16:46:30.840Z"
   },
   {
    "duration": 45,
    "start_time": "2023-02-03T16:46:30.884Z"
   },
   {
    "duration": 58,
    "start_time": "2023-02-03T16:46:30.932Z"
   },
   {
    "duration": 35,
    "start_time": "2023-02-03T16:46:30.991Z"
   },
   {
    "duration": 3,
    "start_time": "2023-02-03T16:55:58.406Z"
   },
   {
    "duration": 179,
    "start_time": "2023-02-03T16:55:58.411Z"
   },
   {
    "duration": 21,
    "start_time": "2023-02-03T16:55:58.592Z"
   },
   {
    "duration": 6,
    "start_time": "2023-02-03T16:55:58.615Z"
   },
   {
    "duration": 8,
    "start_time": "2023-02-03T16:55:58.641Z"
   },
   {
    "duration": 58,
    "start_time": "2023-02-03T16:55:58.650Z"
   },
   {
    "duration": 161,
    "start_time": "2023-02-03T16:55:58.710Z"
   },
   {
    "duration": 34,
    "start_time": "2023-02-03T16:55:58.874Z"
   },
   {
    "duration": 52,
    "start_time": "2023-02-03T16:55:58.912Z"
   },
   {
    "duration": 13,
    "start_time": "2023-02-03T16:55:58.966Z"
   },
   {
    "duration": 12,
    "start_time": "2023-02-03T16:55:58.980Z"
   },
   {
    "duration": 18,
    "start_time": "2023-02-03T16:55:58.994Z"
   },
   {
    "duration": 5,
    "start_time": "2023-02-03T16:55:59.014Z"
   },
   {
    "duration": 5,
    "start_time": "2023-02-03T16:55:59.041Z"
   },
   {
    "duration": 229,
    "start_time": "2023-02-03T16:55:59.047Z"
   },
   {
    "duration": 33,
    "start_time": "2023-02-03T16:55:59.277Z"
   },
   {
    "duration": 34,
    "start_time": "2023-02-03T16:55:59.311Z"
   },
   {
    "duration": 31,
    "start_time": "2023-02-03T16:55:59.347Z"
   },
   {
    "duration": 8,
    "start_time": "2023-02-03T16:55:59.380Z"
   },
   {
    "duration": 9,
    "start_time": "2023-02-03T16:55:59.390Z"
   },
   {
    "duration": 19,
    "start_time": "2023-02-03T16:55:59.401Z"
   },
   {
    "duration": 22,
    "start_time": "2023-02-03T16:55:59.441Z"
   },
   {
    "duration": 62,
    "start_time": "2023-02-03T16:55:59.465Z"
   },
   {
    "duration": 190,
    "start_time": "2023-02-03T16:55:59.539Z"
   },
   {
    "duration": 75,
    "start_time": "2023-02-03T16:55:59.731Z"
   },
   {
    "duration": 12,
    "start_time": "2023-02-03T16:55:59.807Z"
   },
   {
    "duration": 20,
    "start_time": "2023-02-03T16:55:59.820Z"
   },
   {
    "duration": 39,
    "start_time": "2023-02-03T16:55:59.842Z"
   },
   {
    "duration": 5,
    "start_time": "2023-02-03T16:55:59.883Z"
   },
   {
    "duration": 55,
    "start_time": "2023-02-03T16:55:59.889Z"
   },
   {
    "duration": 69,
    "start_time": "2023-02-03T16:55:59.946Z"
   },
   {
    "duration": 103,
    "start_time": "2023-02-03T16:56:00.016Z"
   },
   {
    "duration": 5,
    "start_time": "2023-02-03T16:56:00.122Z"
   },
   {
    "duration": 33,
    "start_time": "2023-02-03T16:56:00.129Z"
   },
   {
    "duration": 15,
    "start_time": "2023-02-03T16:56:00.164Z"
   },
   {
    "duration": 35,
    "start_time": "2023-02-03T16:56:00.181Z"
   },
   {
    "duration": 13,
    "start_time": "2023-02-03T16:56:00.218Z"
   },
   {
    "duration": 42,
    "start_time": "2023-02-03T16:56:00.232Z"
   },
   {
    "duration": 42,
    "start_time": "2023-02-03T16:56:00.275Z"
   },
   {
    "duration": 39,
    "start_time": "2023-02-03T16:56:00.319Z"
   },
   {
    "duration": 28,
    "start_time": "2023-02-03T16:56:00.359Z"
   },
   {
    "duration": 44,
    "start_time": "2023-02-03T16:56:00.389Z"
   },
   {
    "duration": 22,
    "start_time": "2023-02-03T16:56:00.435Z"
   },
   {
    "duration": 21,
    "start_time": "2023-02-03T16:56:00.458Z"
   },
   {
    "duration": 31,
    "start_time": "2023-02-03T17:04:49.244Z"
   },
   {
    "duration": 195,
    "start_time": "2023-02-03T17:07:27.948Z"
   },
   {
    "duration": 177,
    "start_time": "2023-02-03T17:07:41.906Z"
   },
   {
    "duration": 175,
    "start_time": "2023-02-03T17:08:00.053Z"
   },
   {
    "duration": 195,
    "start_time": "2023-02-03T17:08:18.087Z"
   },
   {
    "duration": 282,
    "start_time": "2023-02-03T17:09:01.445Z"
   },
   {
    "duration": 179,
    "start_time": "2023-02-03T17:10:26.996Z"
   },
   {
    "duration": 13,
    "start_time": "2023-02-03T17:16:29.406Z"
   },
   {
    "duration": 65,
    "start_time": "2023-02-03T17:17:08.209Z"
   },
   {
    "duration": 148,
    "start_time": "2023-02-03T17:17:16.062Z"
   },
   {
    "duration": 4,
    "start_time": "2023-02-03T17:17:56.598Z"
   },
   {
    "duration": 218,
    "start_time": "2023-02-03T17:17:56.604Z"
   },
   {
    "duration": 26,
    "start_time": "2023-02-03T17:17:56.824Z"
   },
   {
    "duration": 21,
    "start_time": "2023-02-03T17:17:56.852Z"
   },
   {
    "duration": 36,
    "start_time": "2023-02-03T17:17:56.875Z"
   },
   {
    "duration": 78,
    "start_time": "2023-02-03T17:17:56.913Z"
   },
   {
    "duration": 118,
    "start_time": "2023-02-03T17:17:56.992Z"
   },
   {
    "duration": 38,
    "start_time": "2023-02-03T17:17:57.112Z"
   },
   {
    "duration": 35,
    "start_time": "2023-02-03T17:17:57.151Z"
   },
   {
    "duration": 19,
    "start_time": "2023-02-03T17:17:57.188Z"
   },
   {
    "duration": 45,
    "start_time": "2023-02-03T17:17:57.210Z"
   },
   {
    "duration": 49,
    "start_time": "2023-02-03T17:17:57.257Z"
   },
   {
    "duration": 67,
    "start_time": "2023-02-03T17:17:57.308Z"
   },
   {
    "duration": 29,
    "start_time": "2023-02-03T17:17:57.376Z"
   },
   {
    "duration": 247,
    "start_time": "2023-02-03T17:17:57.407Z"
   },
   {
    "duration": 34,
    "start_time": "2023-02-03T17:17:57.655Z"
   },
   {
    "duration": 22,
    "start_time": "2023-02-03T17:17:57.690Z"
   },
   {
    "duration": 51,
    "start_time": "2023-02-03T17:17:57.714Z"
   },
   {
    "duration": 8,
    "start_time": "2023-02-03T17:17:57.767Z"
   },
   {
    "duration": 10,
    "start_time": "2023-02-03T17:17:57.776Z"
   },
   {
    "duration": 6,
    "start_time": "2023-02-03T17:17:57.787Z"
   },
   {
    "duration": 59,
    "start_time": "2023-02-03T17:17:57.794Z"
   },
   {
    "duration": 67,
    "start_time": "2023-02-03T17:17:57.855Z"
   },
   {
    "duration": 201,
    "start_time": "2023-02-03T17:17:57.939Z"
   },
   {
    "duration": 183,
    "start_time": "2023-02-03T17:17:58.142Z"
   },
   {
    "duration": 87,
    "start_time": "2023-02-03T17:17:58.327Z"
   },
   {
    "duration": 14,
    "start_time": "2023-02-03T17:17:58.416Z"
   },
   {
    "duration": 4,
    "start_time": "2023-02-03T17:17:58.440Z"
   },
   {
    "duration": 41,
    "start_time": "2023-02-03T17:17:58.447Z"
   },
   {
    "duration": 4,
    "start_time": "2023-02-03T17:17:58.490Z"
   },
   {
    "duration": 67,
    "start_time": "2023-02-03T17:17:58.495Z"
   },
   {
    "duration": 91,
    "start_time": "2023-02-03T17:17:58.565Z"
   },
   {
    "duration": 91,
    "start_time": "2023-02-03T17:17:58.658Z"
   },
   {
    "duration": 6,
    "start_time": "2023-02-03T17:17:58.750Z"
   },
   {
    "duration": 25,
    "start_time": "2023-02-03T17:17:58.758Z"
   },
   {
    "duration": 13,
    "start_time": "2023-02-03T17:17:58.785Z"
   },
   {
    "duration": 14,
    "start_time": "2023-02-03T17:17:58.801Z"
   },
   {
    "duration": 39,
    "start_time": "2023-02-03T17:17:58.817Z"
   },
   {
    "duration": 20,
    "start_time": "2023-02-03T17:17:58.858Z"
   },
   {
    "duration": 17,
    "start_time": "2023-02-03T17:17:58.880Z"
   },
   {
    "duration": 13,
    "start_time": "2023-02-03T17:17:58.900Z"
   },
   {
    "duration": 29,
    "start_time": "2023-02-03T17:17:58.914Z"
   },
   {
    "duration": 12,
    "start_time": "2023-02-03T17:17:58.945Z"
   },
   {
    "duration": 15,
    "start_time": "2023-02-03T17:17:58.959Z"
   },
   {
    "duration": 37,
    "start_time": "2023-02-03T17:17:58.976Z"
   },
   {
    "duration": 4,
    "start_time": "2023-02-03T17:27:53.106Z"
   },
   {
    "duration": 192,
    "start_time": "2023-02-03T17:27:53.112Z"
   },
   {
    "duration": 20,
    "start_time": "2023-02-03T17:27:53.306Z"
   },
   {
    "duration": 5,
    "start_time": "2023-02-03T17:27:53.340Z"
   },
   {
    "duration": 7,
    "start_time": "2023-02-03T17:27:53.347Z"
   },
   {
    "duration": 59,
    "start_time": "2023-02-03T17:27:53.356Z"
   },
   {
    "duration": 134,
    "start_time": "2023-02-03T17:27:53.416Z"
   },
   {
    "duration": 25,
    "start_time": "2023-02-03T17:27:53.551Z"
   },
   {
    "duration": 34,
    "start_time": "2023-02-03T17:27:53.578Z"
   },
   {
    "duration": 33,
    "start_time": "2023-02-03T17:27:53.614Z"
   },
   {
    "duration": 19,
    "start_time": "2023-02-03T17:27:53.648Z"
   },
   {
    "duration": 16,
    "start_time": "2023-02-03T17:27:53.669Z"
   },
   {
    "duration": 5,
    "start_time": "2023-02-03T17:27:53.688Z"
   },
   {
    "duration": 4,
    "start_time": "2023-02-03T17:27:53.698Z"
   },
   {
    "duration": 239,
    "start_time": "2023-02-03T17:27:53.704Z"
   },
   {
    "duration": 33,
    "start_time": "2023-02-03T17:27:53.945Z"
   },
   {
    "duration": 22,
    "start_time": "2023-02-03T17:27:53.979Z"
   },
   {
    "duration": 52,
    "start_time": "2023-02-03T17:27:54.003Z"
   },
   {
    "duration": 8,
    "start_time": "2023-02-03T17:27:54.056Z"
   },
   {
    "duration": 36,
    "start_time": "2023-02-03T17:27:54.065Z"
   },
   {
    "duration": 12,
    "start_time": "2023-02-03T17:27:54.103Z"
   },
   {
    "duration": 28,
    "start_time": "2023-02-03T17:27:54.117Z"
   },
   {
    "duration": 75,
    "start_time": "2023-02-03T17:27:54.147Z"
   },
   {
    "duration": 161,
    "start_time": "2023-02-03T17:27:54.224Z"
   },
   {
    "duration": 85,
    "start_time": "2023-02-03T17:27:54.387Z"
   },
   {
    "duration": 12,
    "start_time": "2023-02-03T17:27:54.474Z"
   },
   {
    "duration": 7,
    "start_time": "2023-02-03T17:27:54.488Z"
   },
   {
    "duration": 53,
    "start_time": "2023-02-03T17:27:54.497Z"
   },
   {
    "duration": 4,
    "start_time": "2023-02-03T17:27:54.552Z"
   },
   {
    "duration": 42,
    "start_time": "2023-02-03T17:27:54.558Z"
   },
   {
    "duration": 97,
    "start_time": "2023-02-03T17:27:54.602Z"
   },
   {
    "duration": 91,
    "start_time": "2023-02-03T17:27:54.701Z"
   },
   {
    "duration": 7,
    "start_time": "2023-02-03T17:27:54.794Z"
   },
   {
    "duration": 34,
    "start_time": "2023-02-03T17:27:54.803Z"
   },
   {
    "duration": 14,
    "start_time": "2023-02-03T17:27:54.840Z"
   },
   {
    "duration": 13,
    "start_time": "2023-02-03T17:27:54.856Z"
   },
   {
    "duration": 12,
    "start_time": "2023-02-03T17:27:54.871Z"
   },
   {
    "duration": 12,
    "start_time": "2023-02-03T17:27:54.885Z"
   },
   {
    "duration": 45,
    "start_time": "2023-02-03T17:27:54.899Z"
   },
   {
    "duration": 14,
    "start_time": "2023-02-03T17:27:54.946Z"
   },
   {
    "duration": 11,
    "start_time": "2023-02-03T17:27:54.964Z"
   },
   {
    "duration": 24,
    "start_time": "2023-02-03T17:27:54.976Z"
   },
   {
    "duration": 38,
    "start_time": "2023-02-03T17:27:55.002Z"
   },
   {
    "duration": 13,
    "start_time": "2023-02-03T17:27:55.042Z"
   },
   {
    "duration": 3,
    "start_time": "2023-02-03T17:30:52.274Z"
   },
   {
    "duration": 175,
    "start_time": "2023-02-03T17:30:52.280Z"
   },
   {
    "duration": 20,
    "start_time": "2023-02-03T17:30:52.456Z"
   },
   {
    "duration": 9,
    "start_time": "2023-02-03T17:30:52.479Z"
   },
   {
    "duration": 11,
    "start_time": "2023-02-03T17:30:52.490Z"
   },
   {
    "duration": 99,
    "start_time": "2023-02-03T17:30:52.503Z"
   },
   {
    "duration": 152,
    "start_time": "2023-02-03T17:30:52.603Z"
   },
   {
    "duration": 27,
    "start_time": "2023-02-03T17:30:52.757Z"
   },
   {
    "duration": 59,
    "start_time": "2023-02-03T17:30:52.787Z"
   },
   {
    "duration": 14,
    "start_time": "2023-02-03T17:30:52.848Z"
   },
   {
    "duration": 16,
    "start_time": "2023-02-03T17:30:52.864Z"
   },
   {
    "duration": 16,
    "start_time": "2023-02-03T17:30:52.883Z"
   },
   {
    "duration": 5,
    "start_time": "2023-02-03T17:30:52.901Z"
   },
   {
    "duration": 5,
    "start_time": "2023-02-03T17:30:52.907Z"
   },
   {
    "duration": 236,
    "start_time": "2023-02-03T17:30:52.914Z"
   },
   {
    "duration": 34,
    "start_time": "2023-02-03T17:30:53.151Z"
   },
   {
    "duration": 23,
    "start_time": "2023-02-03T17:30:53.188Z"
   },
   {
    "duration": 57,
    "start_time": "2023-02-03T17:30:53.212Z"
   },
   {
    "duration": 8,
    "start_time": "2023-02-03T17:30:53.271Z"
   },
   {
    "duration": 10,
    "start_time": "2023-02-03T17:30:53.281Z"
   },
   {
    "duration": 6,
    "start_time": "2023-02-03T17:30:53.292Z"
   },
   {
    "duration": 53,
    "start_time": "2023-02-03T17:30:53.299Z"
   },
   {
    "duration": 64,
    "start_time": "2023-02-03T17:30:53.354Z"
   },
   {
    "duration": 267,
    "start_time": "2023-02-03T17:30:53.439Z"
   },
   {
    "duration": 90,
    "start_time": "2023-02-03T17:30:53.708Z"
   },
   {
    "duration": 12,
    "start_time": "2023-02-03T17:30:53.800Z"
   },
   {
    "duration": 5,
    "start_time": "2023-02-03T17:30:53.814Z"
   },
   {
    "duration": 47,
    "start_time": "2023-02-03T17:30:53.821Z"
   },
   {
    "duration": 4,
    "start_time": "2023-02-03T17:30:53.870Z"
   },
   {
    "duration": 43,
    "start_time": "2023-02-03T17:30:53.875Z"
   },
   {
    "duration": 88,
    "start_time": "2023-02-03T17:30:53.920Z"
   },
   {
    "duration": 99,
    "start_time": "2023-02-03T17:30:54.010Z"
   },
   {
    "duration": 6,
    "start_time": "2023-02-03T17:30:54.111Z"
   },
   {
    "duration": 30,
    "start_time": "2023-02-03T17:30:54.119Z"
   },
   {
    "duration": 13,
    "start_time": "2023-02-03T17:30:54.151Z"
   },
   {
    "duration": 12,
    "start_time": "2023-02-03T17:30:54.166Z"
   },
   {
    "duration": 13,
    "start_time": "2023-02-03T17:30:54.180Z"
   },
   {
    "duration": 9,
    "start_time": "2023-02-03T17:30:54.194Z"
   },
   {
    "duration": 10,
    "start_time": "2023-02-03T17:30:54.239Z"
   },
   {
    "duration": 14,
    "start_time": "2023-02-03T17:30:54.251Z"
   },
   {
    "duration": 13,
    "start_time": "2023-02-03T17:30:54.267Z"
   },
   {
    "duration": 9,
    "start_time": "2023-02-03T17:30:54.282Z"
   },
   {
    "duration": 56,
    "start_time": "2023-02-03T17:30:54.294Z"
   },
   {
    "duration": 13,
    "start_time": "2023-02-03T17:30:54.352Z"
   },
   {
    "duration": 10,
    "start_time": "2023-02-04T12:24:46.981Z"
   },
   {
    "duration": 49,
    "start_time": "2023-02-04T12:24:54.630Z"
   },
   {
    "duration": 1290,
    "start_time": "2023-02-04T12:25:03.018Z"
   },
   {
    "duration": 518,
    "start_time": "2023-02-04T12:25:04.310Z"
   },
   {
    "duration": 19,
    "start_time": "2023-02-04T12:25:04.830Z"
   },
   {
    "duration": 5,
    "start_time": "2023-02-04T12:25:04.851Z"
   },
   {
    "duration": 11,
    "start_time": "2023-02-04T12:25:04.857Z"
   },
   {
    "duration": 72,
    "start_time": "2023-02-04T12:25:04.870Z"
   },
   {
    "duration": 138,
    "start_time": "2023-02-04T12:25:04.944Z"
   },
   {
    "duration": 29,
    "start_time": "2023-02-04T12:25:05.084Z"
   },
   {
    "duration": 30,
    "start_time": "2023-02-04T12:25:05.115Z"
   },
   {
    "duration": 12,
    "start_time": "2023-02-04T12:25:05.148Z"
   },
   {
    "duration": 6,
    "start_time": "2023-02-04T12:25:05.162Z"
   },
   {
    "duration": 41,
    "start_time": "2023-02-04T12:25:05.170Z"
   },
   {
    "duration": 5,
    "start_time": "2023-02-04T12:25:05.212Z"
   },
   {
    "duration": 5,
    "start_time": "2023-02-04T12:25:05.219Z"
   },
   {
    "duration": 394,
    "start_time": "2023-02-04T12:25:05.226Z"
   },
   {
    "duration": 0,
    "start_time": "2023-02-04T12:25:05.622Z"
   },
   {
    "duration": 0,
    "start_time": "2023-02-04T12:25:05.623Z"
   },
   {
    "duration": 0,
    "start_time": "2023-02-04T12:25:05.624Z"
   },
   {
    "duration": 0,
    "start_time": "2023-02-04T12:25:05.625Z"
   },
   {
    "duration": 0,
    "start_time": "2023-02-04T12:25:05.627Z"
   },
   {
    "duration": 0,
    "start_time": "2023-02-04T12:25:05.628Z"
   },
   {
    "duration": 0,
    "start_time": "2023-02-04T12:25:05.628Z"
   },
   {
    "duration": 1,
    "start_time": "2023-02-04T12:25:05.629Z"
   },
   {
    "duration": 0,
    "start_time": "2023-02-04T12:25:05.631Z"
   },
   {
    "duration": 0,
    "start_time": "2023-02-04T12:25:05.632Z"
   },
   {
    "duration": 0,
    "start_time": "2023-02-04T12:25:05.633Z"
   },
   {
    "duration": 0,
    "start_time": "2023-02-04T12:25:05.634Z"
   },
   {
    "duration": 0,
    "start_time": "2023-02-04T12:25:05.635Z"
   },
   {
    "duration": 0,
    "start_time": "2023-02-04T12:25:05.636Z"
   },
   {
    "duration": 0,
    "start_time": "2023-02-04T12:25:05.637Z"
   },
   {
    "duration": 0,
    "start_time": "2023-02-04T12:25:05.638Z"
   },
   {
    "duration": 0,
    "start_time": "2023-02-04T12:25:05.639Z"
   },
   {
    "duration": 0,
    "start_time": "2023-02-04T12:25:05.640Z"
   },
   {
    "duration": 0,
    "start_time": "2023-02-04T12:25:05.642Z"
   },
   {
    "duration": 0,
    "start_time": "2023-02-04T12:25:05.643Z"
   },
   {
    "duration": 0,
    "start_time": "2023-02-04T12:25:05.644Z"
   },
   {
    "duration": 0,
    "start_time": "2023-02-04T12:25:05.645Z"
   },
   {
    "duration": 0,
    "start_time": "2023-02-04T12:25:05.646Z"
   },
   {
    "duration": 0,
    "start_time": "2023-02-04T12:25:05.648Z"
   },
   {
    "duration": 0,
    "start_time": "2023-02-04T12:25:05.648Z"
   },
   {
    "duration": 0,
    "start_time": "2023-02-04T12:25:05.649Z"
   },
   {
    "duration": 0,
    "start_time": "2023-02-04T12:25:05.703Z"
   },
   {
    "duration": 0,
    "start_time": "2023-02-04T12:25:05.705Z"
   },
   {
    "duration": 0,
    "start_time": "2023-02-04T12:25:05.706Z"
   },
   {
    "duration": 221,
    "start_time": "2023-02-04T12:33:42.679Z"
   },
   {
    "duration": 4,
    "start_time": "2023-02-04T12:35:47.720Z"
   },
   {
    "duration": 160,
    "start_time": "2023-02-04T12:35:47.727Z"
   },
   {
    "duration": 23,
    "start_time": "2023-02-04T12:35:47.889Z"
   },
   {
    "duration": 5,
    "start_time": "2023-02-04T12:35:47.913Z"
   },
   {
    "duration": 12,
    "start_time": "2023-02-04T12:35:47.920Z"
   },
   {
    "duration": 79,
    "start_time": "2023-02-04T12:35:47.934Z"
   },
   {
    "duration": 114,
    "start_time": "2023-02-04T12:35:48.015Z"
   },
   {
    "duration": 23,
    "start_time": "2023-02-04T12:35:48.131Z"
   },
   {
    "duration": 31,
    "start_time": "2023-02-04T12:35:48.156Z"
   },
   {
    "duration": 12,
    "start_time": "2023-02-04T12:35:48.204Z"
   },
   {
    "duration": 7,
    "start_time": "2023-02-04T12:35:48.218Z"
   },
   {
    "duration": 16,
    "start_time": "2023-02-04T12:35:48.226Z"
   },
   {
    "duration": 5,
    "start_time": "2023-02-04T12:35:48.243Z"
   },
   {
    "duration": 5,
    "start_time": "2023-02-04T12:35:48.249Z"
   },
   {
    "duration": 260,
    "start_time": "2023-02-04T12:35:48.255Z"
   },
   {
    "duration": 35,
    "start_time": "2023-02-04T12:36:05.040Z"
   },
   {
    "duration": 3,
    "start_time": "2023-02-04T12:36:14.231Z"
   },
   {
    "duration": 165,
    "start_time": "2023-02-04T12:36:14.236Z"
   },
   {
    "duration": 19,
    "start_time": "2023-02-04T12:36:14.404Z"
   },
   {
    "duration": 4,
    "start_time": "2023-02-04T12:36:14.425Z"
   },
   {
    "duration": 8,
    "start_time": "2023-02-04T12:36:14.431Z"
   },
   {
    "duration": 85,
    "start_time": "2023-02-04T12:36:14.440Z"
   },
   {
    "duration": 109,
    "start_time": "2023-02-04T12:36:14.527Z"
   },
   {
    "duration": 22,
    "start_time": "2023-02-04T12:36:14.638Z"
   },
   {
    "duration": 48,
    "start_time": "2023-02-04T12:36:14.662Z"
   },
   {
    "duration": 13,
    "start_time": "2023-02-04T12:36:14.712Z"
   },
   {
    "duration": 16,
    "start_time": "2023-02-04T12:36:14.726Z"
   },
   {
    "duration": 18,
    "start_time": "2023-02-04T12:36:14.743Z"
   },
   {
    "duration": 4,
    "start_time": "2023-02-04T12:36:14.763Z"
   },
   {
    "duration": 7,
    "start_time": "2023-02-04T12:36:14.769Z"
   },
   {
    "duration": 237,
    "start_time": "2023-02-04T12:36:14.778Z"
   },
   {
    "duration": 33,
    "start_time": "2023-02-04T12:36:15.016Z"
   },
   {
    "duration": 31,
    "start_time": "2023-02-04T12:36:15.051Z"
   },
   {
    "duration": 39,
    "start_time": "2023-02-04T12:36:15.105Z"
   },
   {
    "duration": 8,
    "start_time": "2023-02-04T12:36:15.146Z"
   },
   {
    "duration": 10,
    "start_time": "2023-02-04T12:36:15.155Z"
   },
   {
    "duration": 5,
    "start_time": "2023-02-04T12:36:15.166Z"
   },
   {
    "duration": 52,
    "start_time": "2023-02-04T12:36:15.172Z"
   },
   {
    "duration": 64,
    "start_time": "2023-02-04T12:36:15.226Z"
   },
   {
    "duration": 167,
    "start_time": "2023-02-04T12:36:15.303Z"
   },
   {
    "duration": 90,
    "start_time": "2023-02-04T12:36:15.472Z"
   },
   {
    "duration": 11,
    "start_time": "2023-02-04T12:36:15.563Z"
   },
   {
    "duration": 10,
    "start_time": "2023-02-04T12:36:15.576Z"
   },
   {
    "duration": 45,
    "start_time": "2023-02-04T12:36:15.588Z"
   },
   {
    "duration": 4,
    "start_time": "2023-02-04T12:36:15.634Z"
   },
   {
    "duration": 39,
    "start_time": "2023-02-04T12:36:15.640Z"
   },
   {
    "duration": 89,
    "start_time": "2023-02-04T12:36:15.680Z"
   },
   {
    "duration": 99,
    "start_time": "2023-02-04T12:36:15.771Z"
   },
   {
    "duration": 5,
    "start_time": "2023-02-04T12:36:15.873Z"
   },
   {
    "duration": 24,
    "start_time": "2023-02-04T12:36:15.880Z"
   },
   {
    "duration": 13,
    "start_time": "2023-02-04T12:36:15.906Z"
   },
   {
    "duration": 11,
    "start_time": "2023-02-04T12:36:15.921Z"
   },
   {
    "duration": 14,
    "start_time": "2023-02-04T12:36:15.933Z"
   },
   {
    "duration": 10,
    "start_time": "2023-02-04T12:36:15.949Z"
   },
   {
    "duration": 9,
    "start_time": "2023-02-04T12:36:15.961Z"
   },
   {
    "duration": 14,
    "start_time": "2023-02-04T12:36:16.004Z"
   },
   {
    "duration": 11,
    "start_time": "2023-02-04T12:36:16.020Z"
   },
   {
    "duration": 14,
    "start_time": "2023-02-04T12:36:16.033Z"
   },
   {
    "duration": 10,
    "start_time": "2023-02-04T12:36:16.048Z"
   },
   {
    "duration": 53,
    "start_time": "2023-02-04T12:36:16.059Z"
   },
   {
    "duration": 9,
    "start_time": "2023-02-04T12:39:50.282Z"
   },
   {
    "duration": 83,
    "start_time": "2023-02-04T12:39:57.793Z"
   },
   {
    "duration": 164,
    "start_time": "2023-02-04T12:39:57.878Z"
   },
   {
    "duration": 31,
    "start_time": "2023-02-04T12:39:58.044Z"
   },
   {
    "duration": 5,
    "start_time": "2023-02-04T12:39:58.078Z"
   },
   {
    "duration": 25,
    "start_time": "2023-02-04T12:39:58.085Z"
   },
   {
    "duration": 44,
    "start_time": "2023-02-04T12:39:58.112Z"
   },
   {
    "duration": 110,
    "start_time": "2023-02-04T12:39:58.158Z"
   },
   {
    "duration": 22,
    "start_time": "2023-02-04T12:39:58.270Z"
   },
   {
    "duration": 30,
    "start_time": "2023-02-04T12:39:58.304Z"
   },
   {
    "duration": 11,
    "start_time": "2023-02-04T12:39:58.337Z"
   },
   {
    "duration": 11,
    "start_time": "2023-02-04T12:39:58.350Z"
   },
   {
    "duration": 15,
    "start_time": "2023-02-04T12:39:58.362Z"
   },
   {
    "duration": 4,
    "start_time": "2023-02-04T12:39:58.403Z"
   },
   {
    "duration": 6,
    "start_time": "2023-02-04T12:39:58.409Z"
   },
   {
    "duration": 216,
    "start_time": "2023-02-04T12:39:58.417Z"
   },
   {
    "duration": 30,
    "start_time": "2023-02-04T12:39:58.634Z"
   },
   {
    "duration": 21,
    "start_time": "2023-02-04T12:39:58.666Z"
   },
   {
    "duration": 33,
    "start_time": "2023-02-04T12:39:58.704Z"
   },
   {
    "duration": 7,
    "start_time": "2023-02-04T12:39:58.738Z"
   },
   {
    "duration": 13,
    "start_time": "2023-02-04T12:39:58.747Z"
   },
   {
    "duration": 9,
    "start_time": "2023-02-04T12:39:58.761Z"
   },
   {
    "duration": 39,
    "start_time": "2023-02-04T12:39:58.771Z"
   },
   {
    "duration": 64,
    "start_time": "2023-02-04T12:39:58.812Z"
   },
   {
    "duration": 226,
    "start_time": "2023-02-04T12:39:58.878Z"
   },
   {
    "duration": 72,
    "start_time": "2023-02-04T12:39:59.106Z"
   },
   {
    "duration": 25,
    "start_time": "2023-02-04T12:39:59.180Z"
   },
   {
    "duration": 352,
    "start_time": "2023-02-04T12:39:59.207Z"
   },
   {
    "duration": 4,
    "start_time": "2023-02-04T12:39:59.563Z"
   },
   {
    "duration": 51,
    "start_time": "2023-02-04T12:39:59.568Z"
   },
   {
    "duration": 4,
    "start_time": "2023-02-04T12:39:59.621Z"
   },
   {
    "duration": 95,
    "start_time": "2023-02-04T12:39:59.626Z"
   },
   {
    "duration": 87,
    "start_time": "2023-02-04T12:39:59.723Z"
   },
   {
    "duration": 80,
    "start_time": "2023-02-04T12:39:59.812Z"
   },
   {
    "duration": 5,
    "start_time": "2023-02-04T12:39:59.903Z"
   },
   {
    "duration": 15,
    "start_time": "2023-02-04T12:39:59.910Z"
   },
   {
    "duration": 8,
    "start_time": "2023-02-04T12:39:59.926Z"
   },
   {
    "duration": 11,
    "start_time": "2023-02-04T12:39:59.938Z"
   },
   {
    "duration": 10,
    "start_time": "2023-02-04T12:39:59.951Z"
   },
   {
    "duration": 42,
    "start_time": "2023-02-04T12:39:59.962Z"
   },
   {
    "duration": 22,
    "start_time": "2023-02-04T12:40:00.006Z"
   },
   {
    "duration": 30,
    "start_time": "2023-02-04T12:40:00.029Z"
   },
   {
    "duration": 15,
    "start_time": "2023-02-04T12:40:00.060Z"
   },
   {
    "duration": 26,
    "start_time": "2023-02-04T12:40:00.076Z"
   },
   {
    "duration": 27,
    "start_time": "2023-02-04T12:40:00.104Z"
   },
   {
    "duration": 31,
    "start_time": "2023-02-04T12:40:00.132Z"
   },
   {
    "duration": 53,
    "start_time": "2023-02-04T12:40:26.951Z"
   },
   {
    "duration": 42,
    "start_time": "2023-02-04T12:41:17.231Z"
   },
   {
    "duration": 4,
    "start_time": "2023-02-04T12:45:33.606Z"
   },
   {
    "duration": 13,
    "start_time": "2023-02-04T12:45:46.519Z"
   },
   {
    "duration": 12,
    "start_time": "2023-02-04T12:47:57.198Z"
   },
   {
    "duration": 17,
    "start_time": "2023-02-04T12:48:18.515Z"
   },
   {
    "duration": 17,
    "start_time": "2023-02-04T12:48:35.710Z"
   },
   {
    "duration": 17,
    "start_time": "2023-02-04T12:55:10.728Z"
   },
   {
    "duration": 10,
    "start_time": "2023-02-04T12:55:49.944Z"
   },
   {
    "duration": 3,
    "start_time": "2023-02-04T12:56:02.144Z"
   },
   {
    "duration": 207,
    "start_time": "2023-02-04T12:56:02.149Z"
   },
   {
    "duration": 19,
    "start_time": "2023-02-04T12:56:02.357Z"
   },
   {
    "duration": 25,
    "start_time": "2023-02-04T12:56:02.377Z"
   },
   {
    "duration": 33,
    "start_time": "2023-02-04T12:56:02.406Z"
   },
   {
    "duration": 55,
    "start_time": "2023-02-04T12:56:02.441Z"
   },
   {
    "duration": 124,
    "start_time": "2023-02-04T12:56:02.498Z"
   },
   {
    "duration": 26,
    "start_time": "2023-02-04T12:56:02.626Z"
   },
   {
    "duration": 31,
    "start_time": "2023-02-04T12:56:02.654Z"
   },
   {
    "duration": 34,
    "start_time": "2023-02-04T12:56:02.687Z"
   },
   {
    "duration": 16,
    "start_time": "2023-02-04T12:56:02.726Z"
   },
   {
    "duration": 17,
    "start_time": "2023-02-04T12:56:02.744Z"
   },
   {
    "duration": 4,
    "start_time": "2023-02-04T12:56:02.763Z"
   },
   {
    "duration": 7,
    "start_time": "2023-02-04T12:56:02.770Z"
   },
   {
    "duration": 254,
    "start_time": "2023-02-04T12:56:02.779Z"
   },
   {
    "duration": 31,
    "start_time": "2023-02-04T12:56:03.036Z"
   },
   {
    "duration": 48,
    "start_time": "2023-02-04T12:56:03.068Z"
   },
   {
    "duration": 46,
    "start_time": "2023-02-04T12:56:03.120Z"
   },
   {
    "duration": 6,
    "start_time": "2023-02-04T12:56:03.168Z"
   },
   {
    "duration": 9,
    "start_time": "2023-02-04T12:56:03.176Z"
   },
   {
    "duration": 5,
    "start_time": "2023-02-04T12:56:03.186Z"
   },
   {
    "duration": 50,
    "start_time": "2023-02-04T12:56:03.192Z"
   },
   {
    "duration": 83,
    "start_time": "2023-02-04T12:56:03.243Z"
   },
   {
    "duration": 161,
    "start_time": "2023-02-04T12:56:03.331Z"
   },
   {
    "duration": 89,
    "start_time": "2023-02-04T12:56:03.494Z"
   },
   {
    "duration": 20,
    "start_time": "2023-02-04T12:56:03.585Z"
   },
   {
    "duration": 132,
    "start_time": "2023-02-04T12:56:03.606Z"
   },
   {
    "duration": 4,
    "start_time": "2023-02-04T12:56:03.739Z"
   },
   {
    "duration": 34,
    "start_time": "2023-02-04T12:56:03.744Z"
   },
   {
    "duration": 4,
    "start_time": "2023-02-04T12:56:03.779Z"
   },
   {
    "duration": 63,
    "start_time": "2023-02-04T12:56:03.784Z"
   },
   {
    "duration": 85,
    "start_time": "2023-02-04T12:56:03.848Z"
   },
   {
    "duration": 106,
    "start_time": "2023-02-04T12:56:03.935Z"
   },
   {
    "duration": 5,
    "start_time": "2023-02-04T12:56:04.042Z"
   },
   {
    "duration": 18,
    "start_time": "2023-02-04T12:56:04.048Z"
   },
   {
    "duration": 12,
    "start_time": "2023-02-04T12:56:04.068Z"
   },
   {
    "duration": 39,
    "start_time": "2023-02-04T12:56:04.081Z"
   },
   {
    "duration": 16,
    "start_time": "2023-02-04T12:56:04.125Z"
   },
   {
    "duration": 8,
    "start_time": "2023-02-04T12:56:04.143Z"
   },
   {
    "duration": 9,
    "start_time": "2023-02-04T12:56:04.153Z"
   },
   {
    "duration": 14,
    "start_time": "2023-02-04T12:56:04.165Z"
   },
   {
    "duration": 9,
    "start_time": "2023-02-04T12:56:04.180Z"
   },
   {
    "duration": 21,
    "start_time": "2023-02-04T12:56:04.204Z"
   },
   {
    "duration": 19,
    "start_time": "2023-02-04T12:56:04.227Z"
   },
   {
    "duration": 11,
    "start_time": "2023-02-04T12:56:04.247Z"
   },
   {
    "duration": 11,
    "start_time": "2023-02-04T12:57:54.203Z"
   },
   {
    "duration": 98,
    "start_time": "2023-02-04T12:57:56.778Z"
   },
   {
    "duration": 17,
    "start_time": "2023-02-04T12:58:06.130Z"
   },
   {
    "duration": 6,
    "start_time": "2023-02-04T12:58:24.982Z"
   },
   {
    "duration": 19,
    "start_time": "2023-02-04T12:58:26.696Z"
   },
   {
    "duration": 3,
    "start_time": "2023-02-04T12:58:35.083Z"
   },
   {
    "duration": 185,
    "start_time": "2023-02-04T12:58:35.088Z"
   },
   {
    "duration": 19,
    "start_time": "2023-02-04T12:58:35.275Z"
   },
   {
    "duration": 22,
    "start_time": "2023-02-04T12:58:35.296Z"
   },
   {
    "duration": 23,
    "start_time": "2023-02-04T12:58:35.320Z"
   },
   {
    "duration": 69,
    "start_time": "2023-02-04T12:58:35.345Z"
   },
   {
    "duration": 116,
    "start_time": "2023-02-04T12:58:35.423Z"
   },
   {
    "duration": 22,
    "start_time": "2023-02-04T12:58:35.541Z"
   },
   {
    "duration": 57,
    "start_time": "2023-02-04T12:58:35.564Z"
   },
   {
    "duration": 16,
    "start_time": "2023-02-04T12:58:35.626Z"
   },
   {
    "duration": 6,
    "start_time": "2023-02-04T12:58:35.645Z"
   },
   {
    "duration": 19,
    "start_time": "2023-02-04T12:58:35.652Z"
   },
   {
    "duration": 7,
    "start_time": "2023-02-04T12:58:35.673Z"
   },
   {
    "duration": 7,
    "start_time": "2023-02-04T12:58:35.681Z"
   },
   {
    "duration": 250,
    "start_time": "2023-02-04T12:58:35.689Z"
   },
   {
    "duration": 30,
    "start_time": "2023-02-04T12:58:35.941Z"
   },
   {
    "duration": 34,
    "start_time": "2023-02-04T12:58:35.973Z"
   },
   {
    "duration": 44,
    "start_time": "2023-02-04T12:58:36.008Z"
   },
   {
    "duration": 8,
    "start_time": "2023-02-04T12:58:36.054Z"
   },
   {
    "duration": 11,
    "start_time": "2023-02-04T12:58:36.063Z"
   },
   {
    "duration": 7,
    "start_time": "2023-02-04T12:58:36.075Z"
   },
   {
    "duration": 38,
    "start_time": "2023-02-04T12:58:36.107Z"
   },
   {
    "duration": 78,
    "start_time": "2023-02-04T12:58:36.147Z"
   },
   {
    "duration": 197,
    "start_time": "2023-02-04T12:58:36.227Z"
   },
   {
    "duration": 74,
    "start_time": "2023-02-04T12:58:36.428Z"
   },
   {
    "duration": 18,
    "start_time": "2023-02-04T12:58:36.509Z"
   },
   {
    "duration": 27,
    "start_time": "2023-02-04T12:58:36.529Z"
   },
   {
    "duration": 4,
    "start_time": "2023-02-04T12:58:36.559Z"
   },
   {
    "duration": 53,
    "start_time": "2023-02-04T12:58:36.565Z"
   },
   {
    "duration": 9,
    "start_time": "2023-02-04T12:58:36.620Z"
   },
   {
    "duration": 54,
    "start_time": "2023-02-04T12:58:36.630Z"
   },
   {
    "duration": 92,
    "start_time": "2023-02-04T12:58:36.686Z"
   },
   {
    "duration": 113,
    "start_time": "2023-02-04T12:58:36.779Z"
   },
   {
    "duration": 12,
    "start_time": "2023-02-04T12:58:36.894Z"
   },
   {
    "duration": 44,
    "start_time": "2023-02-04T12:58:36.910Z"
   },
   {
    "duration": 18,
    "start_time": "2023-02-04T12:58:36.956Z"
   },
   {
    "duration": 12,
    "start_time": "2023-02-04T12:58:36.976Z"
   },
   {
    "duration": 22,
    "start_time": "2023-02-04T12:58:36.991Z"
   },
   {
    "duration": 19,
    "start_time": "2023-02-04T12:58:37.016Z"
   },
   {
    "duration": 15,
    "start_time": "2023-02-04T12:58:37.037Z"
   },
   {
    "duration": 14,
    "start_time": "2023-02-04T12:58:37.054Z"
   },
   {
    "duration": 10,
    "start_time": "2023-02-04T12:58:37.070Z"
   },
   {
    "duration": 31,
    "start_time": "2023-02-04T12:58:37.082Z"
   },
   {
    "duration": 21,
    "start_time": "2023-02-04T12:58:37.118Z"
   },
   {
    "duration": 16,
    "start_time": "2023-02-04T12:58:37.141Z"
   },
   {
    "duration": 4,
    "start_time": "2023-02-04T13:03:51.841Z"
   },
   {
    "duration": 208,
    "start_time": "2023-02-04T13:03:51.846Z"
   },
   {
    "duration": 21,
    "start_time": "2023-02-04T13:03:52.055Z"
   },
   {
    "duration": 4,
    "start_time": "2023-02-04T13:03:52.078Z"
   },
   {
    "duration": 53,
    "start_time": "2023-02-04T13:03:52.084Z"
   },
   {
    "duration": 49,
    "start_time": "2023-02-04T13:03:52.139Z"
   },
   {
    "duration": 111,
    "start_time": "2023-02-04T13:03:52.190Z"
   },
   {
    "duration": 38,
    "start_time": "2023-02-04T13:03:52.303Z"
   },
   {
    "duration": 32,
    "start_time": "2023-02-04T13:03:52.343Z"
   },
   {
    "duration": 41,
    "start_time": "2023-02-04T13:03:52.377Z"
   },
   {
    "duration": 9,
    "start_time": "2023-02-04T13:03:52.427Z"
   },
   {
    "duration": 14,
    "start_time": "2023-02-04T13:03:52.438Z"
   },
   {
    "duration": 8,
    "start_time": "2023-02-04T13:03:52.453Z"
   },
   {
    "duration": 5,
    "start_time": "2023-02-04T13:03:52.463Z"
   },
   {
    "duration": 243,
    "start_time": "2023-02-04T13:03:52.469Z"
   },
   {
    "duration": 33,
    "start_time": "2023-02-04T13:03:52.717Z"
   },
   {
    "duration": 22,
    "start_time": "2023-02-04T13:03:52.752Z"
   },
   {
    "duration": 57,
    "start_time": "2023-02-04T13:03:52.775Z"
   },
   {
    "duration": 7,
    "start_time": "2023-02-04T13:03:52.835Z"
   },
   {
    "duration": 10,
    "start_time": "2023-02-04T13:03:52.843Z"
   },
   {
    "duration": 6,
    "start_time": "2023-02-04T13:03:52.854Z"
   },
   {
    "duration": 60,
    "start_time": "2023-02-04T13:03:52.862Z"
   },
   {
    "duration": 61,
    "start_time": "2023-02-04T13:03:52.927Z"
   },
   {
    "duration": 185,
    "start_time": "2023-02-04T13:03:52.992Z"
   },
   {
    "duration": 89,
    "start_time": "2023-02-04T13:03:53.179Z"
   },
   {
    "duration": 11,
    "start_time": "2023-02-04T13:03:53.269Z"
   },
   {
    "duration": 40,
    "start_time": "2023-02-04T13:03:53.282Z"
   },
   {
    "duration": 20,
    "start_time": "2023-02-04T13:03:53.324Z"
   },
   {
    "duration": 37,
    "start_time": "2023-02-04T13:03:53.345Z"
   },
   {
    "duration": 4,
    "start_time": "2023-02-04T13:03:53.384Z"
   },
   {
    "duration": 50,
    "start_time": "2023-02-04T13:03:53.389Z"
   },
   {
    "duration": 96,
    "start_time": "2023-02-04T13:03:53.441Z"
   },
   {
    "duration": 102,
    "start_time": "2023-02-04T13:03:53.541Z"
   },
   {
    "duration": 5,
    "start_time": "2023-02-04T13:03:53.645Z"
   },
   {
    "duration": 16,
    "start_time": "2023-02-04T13:03:53.651Z"
   },
   {
    "duration": 11,
    "start_time": "2023-02-04T13:03:53.669Z"
   },
   {
    "duration": 40,
    "start_time": "2023-02-04T13:03:53.682Z"
   },
   {
    "duration": 27,
    "start_time": "2023-02-04T13:03:53.725Z"
   },
   {
    "duration": 9,
    "start_time": "2023-02-04T13:03:53.753Z"
   },
   {
    "duration": 10,
    "start_time": "2023-02-04T13:03:53.764Z"
   },
   {
    "duration": 14,
    "start_time": "2023-02-04T13:03:53.775Z"
   },
   {
    "duration": 24,
    "start_time": "2023-02-04T13:03:53.793Z"
   },
   {
    "duration": 31,
    "start_time": "2023-02-04T13:03:53.822Z"
   },
   {
    "duration": 19,
    "start_time": "2023-02-04T13:03:53.854Z"
   },
   {
    "duration": 12,
    "start_time": "2023-02-04T13:03:53.875Z"
   },
   {
    "duration": 83,
    "start_time": "2023-02-05T07:54:15.158Z"
   },
   {
    "duration": 1275,
    "start_time": "2023-02-05T10:05:10.837Z"
   },
   {
    "duration": 1405,
    "start_time": "2023-02-05T10:05:12.113Z"
   },
   {
    "duration": 16,
    "start_time": "2023-02-05T10:05:13.520Z"
   },
   {
    "duration": 14,
    "start_time": "2023-02-05T10:05:13.539Z"
   },
   {
    "duration": 21,
    "start_time": "2023-02-05T10:05:13.554Z"
   },
   {
    "duration": 55,
    "start_time": "2023-02-05T10:05:13.576Z"
   },
   {
    "duration": 108,
    "start_time": "2023-02-05T10:05:13.633Z"
   },
   {
    "duration": 19,
    "start_time": "2023-02-05T10:05:13.743Z"
   },
   {
    "duration": 25,
    "start_time": "2023-02-05T10:05:13.764Z"
   },
   {
    "duration": 9,
    "start_time": "2023-02-05T10:05:13.791Z"
   },
   {
    "duration": 7,
    "start_time": "2023-02-05T10:05:13.802Z"
   },
   {
    "duration": 34,
    "start_time": "2023-02-05T10:05:13.811Z"
   },
   {
    "duration": 14,
    "start_time": "2023-02-05T10:05:13.847Z"
   },
   {
    "duration": 5,
    "start_time": "2023-02-05T10:05:13.863Z"
   },
   {
    "duration": 279,
    "start_time": "2023-02-05T10:05:13.870Z"
   },
   {
    "duration": 29,
    "start_time": "2023-02-05T10:05:14.151Z"
   },
   {
    "duration": 15,
    "start_time": "2023-02-05T10:05:14.182Z"
   },
   {
    "duration": 40,
    "start_time": "2023-02-05T10:05:14.198Z"
   },
   {
    "duration": 7,
    "start_time": "2023-02-05T10:05:14.240Z"
   },
   {
    "duration": 8,
    "start_time": "2023-02-05T10:05:14.249Z"
   },
   {
    "duration": 5,
    "start_time": "2023-02-05T10:05:14.259Z"
   },
   {
    "duration": 25,
    "start_time": "2023-02-05T10:05:14.265Z"
   },
   {
    "duration": 94,
    "start_time": "2023-02-05T10:05:14.292Z"
   },
   {
    "duration": 152,
    "start_time": "2023-02-05T10:05:14.387Z"
   },
   {
    "duration": 73,
    "start_time": "2023-02-05T10:05:14.540Z"
   },
   {
    "duration": 23,
    "start_time": "2023-02-05T10:05:14.615Z"
   },
   {
    "duration": 146,
    "start_time": "2023-02-05T10:05:14.639Z"
   },
   {
    "duration": 4,
    "start_time": "2023-02-05T10:05:14.789Z"
   },
   {
    "duration": 63,
    "start_time": "2023-02-05T10:05:14.794Z"
   },
   {
    "duration": 3,
    "start_time": "2023-02-05T10:05:14.859Z"
   },
   {
    "duration": 88,
    "start_time": "2023-02-05T10:05:14.864Z"
   },
   {
    "duration": 94,
    "start_time": "2023-02-05T10:05:14.954Z"
   },
   {
    "duration": 96,
    "start_time": "2023-02-05T10:05:15.049Z"
   },
   {
    "duration": 5,
    "start_time": "2023-02-05T10:05:15.147Z"
   },
   {
    "duration": 20,
    "start_time": "2023-02-05T10:05:15.154Z"
   },
   {
    "duration": 11,
    "start_time": "2023-02-05T10:05:15.176Z"
   },
   {
    "duration": 10,
    "start_time": "2023-02-05T10:05:15.189Z"
   },
   {
    "duration": 11,
    "start_time": "2023-02-05T10:05:15.200Z"
   },
   {
    "duration": 7,
    "start_time": "2023-02-05T10:05:15.237Z"
   },
   {
    "duration": 7,
    "start_time": "2023-02-05T10:05:15.246Z"
   },
   {
    "duration": 15,
    "start_time": "2023-02-05T10:05:15.255Z"
   },
   {
    "duration": 10,
    "start_time": "2023-02-05T10:05:15.272Z"
   },
   {
    "duration": 17,
    "start_time": "2023-02-05T10:05:15.283Z"
   },
   {
    "duration": 36,
    "start_time": "2023-02-05T10:05:15.301Z"
   },
   {
    "duration": 10,
    "start_time": "2023-02-05T10:05:15.339Z"
   },
   {
    "duration": 1560,
    "start_time": "2023-03-15T06:28:33.718Z"
   },
   {
    "duration": 750,
    "start_time": "2023-03-15T06:28:35.281Z"
   },
   {
    "duration": 24,
    "start_time": "2023-03-15T06:28:36.033Z"
   },
   {
    "duration": 5,
    "start_time": "2023-03-15T06:28:36.059Z"
   },
   {
    "duration": 28,
    "start_time": "2023-03-15T06:28:36.066Z"
   },
   {
    "duration": 91,
    "start_time": "2023-03-15T06:28:36.095Z"
   },
   {
    "duration": 157,
    "start_time": "2023-03-15T06:28:36.188Z"
   },
   {
    "duration": 26,
    "start_time": "2023-03-15T06:28:36.346Z"
   },
   {
    "duration": 35,
    "start_time": "2023-03-15T06:28:36.374Z"
   },
   {
    "duration": 34,
    "start_time": "2023-03-15T06:28:36.411Z"
   },
   {
    "duration": 33,
    "start_time": "2023-03-15T06:28:36.447Z"
   },
   {
    "duration": 31,
    "start_time": "2023-03-15T06:28:36.482Z"
   },
   {
    "duration": 27,
    "start_time": "2023-03-15T06:28:36.515Z"
   },
   {
    "duration": 9,
    "start_time": "2023-03-15T06:28:36.545Z"
   },
   {
    "duration": 377,
    "start_time": "2023-03-15T06:28:36.556Z"
   },
   {
    "duration": 48,
    "start_time": "2023-03-15T06:28:36.935Z"
   },
   {
    "duration": 23,
    "start_time": "2023-03-15T06:28:36.985Z"
   },
   {
    "duration": 61,
    "start_time": "2023-03-15T06:28:37.010Z"
   },
   {
    "duration": 35,
    "start_time": "2023-03-15T06:28:37.073Z"
   },
   {
    "duration": 30,
    "start_time": "2023-03-15T06:28:37.111Z"
   },
   {
    "duration": 7,
    "start_time": "2023-03-15T06:28:37.142Z"
   },
   {
    "duration": 42,
    "start_time": "2023-03-15T06:28:37.151Z"
   },
   {
    "duration": 88,
    "start_time": "2023-03-15T06:28:37.195Z"
   },
   {
    "duration": 231,
    "start_time": "2023-03-15T06:28:37.286Z"
   },
   {
    "duration": 144,
    "start_time": "2023-03-15T06:28:37.521Z"
   },
   {
    "duration": 16,
    "start_time": "2023-03-15T06:28:37.668Z"
   },
   {
    "duration": 219,
    "start_time": "2023-03-15T06:28:37.686Z"
   },
   {
    "duration": 4,
    "start_time": "2023-03-15T06:28:37.907Z"
   },
   {
    "duration": 59,
    "start_time": "2023-03-15T06:28:37.913Z"
   },
   {
    "duration": 5,
    "start_time": "2023-03-15T06:28:37.974Z"
   },
   {
    "duration": 105,
    "start_time": "2023-03-15T06:28:37.980Z"
   },
   {
    "duration": 111,
    "start_time": "2023-03-15T06:28:38.087Z"
   },
   {
    "duration": 117,
    "start_time": "2023-03-15T06:28:38.199Z"
   },
   {
    "duration": 6,
    "start_time": "2023-03-15T06:28:38.318Z"
   },
   {
    "duration": 14,
    "start_time": "2023-03-15T06:28:38.341Z"
   },
   {
    "duration": 13,
    "start_time": "2023-03-15T06:28:38.357Z"
   },
   {
    "duration": 25,
    "start_time": "2023-03-15T06:28:38.371Z"
   },
   {
    "duration": 17,
    "start_time": "2023-03-15T06:28:38.398Z"
   },
   {
    "duration": 8,
    "start_time": "2023-03-15T06:28:38.442Z"
   },
   {
    "duration": 10,
    "start_time": "2023-03-15T06:28:38.451Z"
   },
   {
    "duration": 16,
    "start_time": "2023-03-15T06:28:38.465Z"
   },
   {
    "duration": 12,
    "start_time": "2023-03-15T06:28:38.483Z"
   },
   {
    "duration": 46,
    "start_time": "2023-03-15T06:28:38.499Z"
   },
   {
    "duration": 16,
    "start_time": "2023-03-15T06:28:38.547Z"
   },
   {
    "duration": 24,
    "start_time": "2023-03-15T06:28:38.566Z"
   },
   {
    "duration": 98,
    "start_time": "2023-03-15T08:55:04.657Z"
   },
   {
    "duration": 257,
    "start_time": "2023-03-15T08:55:17.339Z"
   },
   {
    "duration": 232,
    "start_time": "2023-03-15T08:55:49.850Z"
   },
   {
    "duration": 234,
    "start_time": "2023-03-15T08:56:44.135Z"
   },
   {
    "duration": 84,
    "start_time": "2023-03-15T08:59:18.814Z"
   },
   {
    "duration": 13,
    "start_time": "2023-03-15T09:00:20.318Z"
   },
   {
    "duration": 144,
    "start_time": "2023-03-15T09:02:23.313Z"
   },
   {
    "duration": 19,
    "start_time": "2023-03-15T09:02:44.458Z"
   },
   {
    "duration": 52,
    "start_time": "2023-03-15T09:03:23.602Z"
   },
   {
    "duration": 72,
    "start_time": "2023-03-15T09:03:53.957Z"
   },
   {
    "duration": 78,
    "start_time": "2023-03-15T09:06:58.424Z"
   },
   {
    "duration": 63,
    "start_time": "2023-03-15T09:07:29.422Z"
   },
   {
    "duration": 87,
    "start_time": "2023-03-15T09:10:11.217Z"
   },
   {
    "duration": 75,
    "start_time": "2023-03-15T09:10:33.227Z"
   },
   {
    "duration": 59,
    "start_time": "2023-03-15T09:10:56.425Z"
   },
   {
    "duration": 64,
    "start_time": "2023-03-15T09:11:38.754Z"
   },
   {
    "duration": 96,
    "start_time": "2023-03-15T09:11:59.165Z"
   },
   {
    "duration": 712,
    "start_time": "2023-03-15T09:12:49.946Z"
   },
   {
    "duration": 790,
    "start_time": "2023-03-15T09:14:11.670Z"
   },
   {
    "duration": 91,
    "start_time": "2023-03-15T09:27:32.125Z"
   },
   {
    "duration": 76,
    "start_time": "2023-03-15T09:28:08.558Z"
   },
   {
    "duration": 81,
    "start_time": "2023-03-15T09:28:20.320Z"
   },
   {
    "duration": 1286,
    "start_time": "2023-03-15T09:28:43.029Z"
   },
   {
    "duration": 6,
    "start_time": "2023-03-15T09:29:25.133Z"
   },
   {
    "duration": 1483,
    "start_time": "2023-03-15T09:29:37.234Z"
   },
   {
    "duration": 60,
    "start_time": "2023-03-15T09:30:06.137Z"
   },
   {
    "duration": 1415,
    "start_time": "2023-03-15T09:30:44.513Z"
   },
   {
    "duration": 1336,
    "start_time": "2023-03-15T09:31:08.182Z"
   },
   {
    "duration": 1353,
    "start_time": "2023-03-15T09:31:18.625Z"
   },
   {
    "duration": 73,
    "start_time": "2023-03-15T09:32:27.713Z"
   },
   {
    "duration": 66,
    "start_time": "2023-03-15T09:32:45.257Z"
   },
   {
    "duration": 75,
    "start_time": "2023-03-15T09:33:18.613Z"
   },
   {
    "duration": 727,
    "start_time": "2023-03-15T09:33:33.940Z"
   },
   {
    "duration": 79,
    "start_time": "2023-03-15T09:34:07.413Z"
   },
   {
    "duration": 72,
    "start_time": "2023-03-15T09:36:37.137Z"
   },
   {
    "duration": 9,
    "start_time": "2023-03-15T09:37:48.366Z"
   },
   {
    "duration": 60,
    "start_time": "2023-03-15T09:38:36.225Z"
   },
   {
    "duration": 81,
    "start_time": "2023-03-15T09:43:43.687Z"
   },
   {
    "duration": 69,
    "start_time": "2023-03-15T09:44:51.633Z"
   },
   {
    "duration": 67,
    "start_time": "2023-03-15T09:45:09.066Z"
   },
   {
    "duration": 66,
    "start_time": "2023-03-15T09:54:34.421Z"
   },
   {
    "duration": 83,
    "start_time": "2023-03-15T09:55:58.546Z"
   },
   {
    "duration": 844,
    "start_time": "2023-03-15T09:56:11.075Z"
   },
   {
    "duration": 78,
    "start_time": "2023-03-15T09:56:32.936Z"
   },
   {
    "duration": 59,
    "start_time": "2023-03-15T09:57:21.173Z"
   },
   {
    "duration": 64,
    "start_time": "2023-03-15T09:57:53.070Z"
   },
   {
    "duration": 80,
    "start_time": "2023-03-15T09:58:21.764Z"
   },
   {
    "duration": 78,
    "start_time": "2023-03-15T09:59:00.830Z"
   },
   {
    "duration": 83,
    "start_time": "2023-03-15T09:59:32.433Z"
   },
   {
    "duration": 106,
    "start_time": "2023-03-15T09:59:57.725Z"
   },
   {
    "duration": 68,
    "start_time": "2023-03-15T10:00:23.672Z"
   },
   {
    "duration": 86,
    "start_time": "2023-03-15T10:01:18.225Z"
   },
   {
    "duration": 4,
    "start_time": "2023-03-15T10:01:55.351Z"
   },
   {
    "duration": 170,
    "start_time": "2023-03-15T10:01:55.356Z"
   },
   {
    "duration": 38,
    "start_time": "2023-03-15T10:01:55.527Z"
   },
   {
    "duration": 5,
    "start_time": "2023-03-15T10:01:55.567Z"
   },
   {
    "duration": 12,
    "start_time": "2023-03-15T10:01:55.573Z"
   },
   {
    "duration": 87,
    "start_time": "2023-03-15T10:01:55.586Z"
   },
   {
    "duration": 133,
    "start_time": "2023-03-15T10:01:55.674Z"
   },
   {
    "duration": 43,
    "start_time": "2023-03-15T10:01:55.809Z"
   },
   {
    "duration": 35,
    "start_time": "2023-03-15T10:01:55.861Z"
   },
   {
    "duration": 12,
    "start_time": "2023-03-15T10:01:55.898Z"
   },
   {
    "duration": 11,
    "start_time": "2023-03-15T10:01:55.912Z"
   },
   {
    "duration": 35,
    "start_time": "2023-03-15T10:01:55.925Z"
   },
   {
    "duration": 5,
    "start_time": "2023-03-15T10:01:55.962Z"
   },
   {
    "duration": 9,
    "start_time": "2023-03-15T10:01:55.969Z"
   },
   {
    "duration": 243,
    "start_time": "2023-03-15T10:01:55.979Z"
   },
   {
    "duration": 43,
    "start_time": "2023-03-15T10:01:56.223Z"
   },
   {
    "duration": 22,
    "start_time": "2023-03-15T10:01:56.267Z"
   },
   {
    "duration": 30,
    "start_time": "2023-03-15T10:01:56.291Z"
   },
   {
    "duration": 32,
    "start_time": "2023-03-15T10:01:56.322Z"
   },
   {
    "duration": 10,
    "start_time": "2023-03-15T10:01:56.355Z"
   },
   {
    "duration": 5,
    "start_time": "2023-03-15T10:01:56.366Z"
   },
   {
    "duration": 23,
    "start_time": "2023-03-15T10:01:56.372Z"
   },
   {
    "duration": 89,
    "start_time": "2023-03-15T10:01:56.396Z"
   },
   {
    "duration": 266,
    "start_time": "2023-03-15T10:01:56.489Z"
   },
   {
    "duration": 83,
    "start_time": "2023-03-15T10:01:56.757Z"
   },
   {
    "duration": 12,
    "start_time": "2023-03-15T10:01:56.854Z"
   },
   {
    "duration": 32,
    "start_time": "2023-03-15T10:01:56.867Z"
   },
   {
    "duration": 3,
    "start_time": "2023-03-15T10:01:56.901Z"
   },
   {
    "duration": 49,
    "start_time": "2023-03-15T10:01:56.906Z"
   },
   {
    "duration": 4,
    "start_time": "2023-03-15T10:01:56.956Z"
   },
   {
    "duration": 46,
    "start_time": "2023-03-15T10:01:56.962Z"
   },
   {
    "duration": 94,
    "start_time": "2023-03-15T10:01:57.009Z"
   },
   {
    "duration": 114,
    "start_time": "2023-03-15T10:01:57.105Z"
   },
   {
    "duration": 6,
    "start_time": "2023-03-15T10:01:57.220Z"
   },
   {
    "duration": 39,
    "start_time": "2023-03-15T10:01:57.228Z"
   },
   {
    "duration": 26,
    "start_time": "2023-03-15T10:01:57.269Z"
   },
   {
    "duration": 13,
    "start_time": "2023-03-15T10:01:57.297Z"
   },
   {
    "duration": 44,
    "start_time": "2023-03-15T10:01:57.314Z"
   },
   {
    "duration": 12,
    "start_time": "2023-03-15T10:01:57.361Z"
   },
   {
    "duration": 10,
    "start_time": "2023-03-15T10:01:57.376Z"
   },
   {
    "duration": 18,
    "start_time": "2023-03-15T10:01:57.388Z"
   },
   {
    "duration": 45,
    "start_time": "2023-03-15T10:01:57.408Z"
   },
   {
    "duration": 15,
    "start_time": "2023-03-15T10:01:57.456Z"
   },
   {
    "duration": 15,
    "start_time": "2023-03-15T10:01:57.473Z"
   },
   {
    "duration": 12,
    "start_time": "2023-03-15T10:01:57.491Z"
   },
   {
    "duration": 69,
    "start_time": "2023-03-15T10:27:27.466Z"
   },
   {
    "duration": 67,
    "start_time": "2023-03-15T10:29:09.689Z"
   },
   {
    "duration": 4,
    "start_time": "2023-03-15T10:29:45.322Z"
   },
   {
    "duration": 183,
    "start_time": "2023-03-15T10:29:45.328Z"
   },
   {
    "duration": 20,
    "start_time": "2023-03-15T10:29:45.513Z"
   },
   {
    "duration": 9,
    "start_time": "2023-03-15T10:29:45.542Z"
   },
   {
    "duration": 8,
    "start_time": "2023-03-15T10:29:45.553Z"
   },
   {
    "duration": 57,
    "start_time": "2023-03-15T10:29:45.563Z"
   },
   {
    "duration": 142,
    "start_time": "2023-03-15T10:29:45.650Z"
   },
   {
    "duration": 25,
    "start_time": "2023-03-15T10:29:45.794Z"
   },
   {
    "duration": 64,
    "start_time": "2023-03-15T10:29:45.821Z"
   },
   {
    "duration": 13,
    "start_time": "2023-03-15T10:29:45.886Z"
   },
   {
    "duration": 8,
    "start_time": "2023-03-15T10:29:45.900Z"
   },
   {
    "duration": 15,
    "start_time": "2023-03-15T10:29:45.910Z"
   },
   {
    "duration": 6,
    "start_time": "2023-03-15T10:29:45.950Z"
   },
   {
    "duration": 5,
    "start_time": "2023-03-15T10:29:45.958Z"
   },
   {
    "duration": 254,
    "start_time": "2023-03-15T10:29:45.964Z"
   },
   {
    "duration": 42,
    "start_time": "2023-03-15T10:29:46.220Z"
   },
   {
    "duration": 23,
    "start_time": "2023-03-15T10:29:46.264Z"
   },
   {
    "duration": 31,
    "start_time": "2023-03-15T10:29:46.288Z"
   },
   {
    "duration": 32,
    "start_time": "2023-03-15T10:29:46.321Z"
   },
   {
    "duration": 10,
    "start_time": "2023-03-15T10:29:46.356Z"
   },
   {
    "duration": 14,
    "start_time": "2023-03-15T10:29:46.367Z"
   },
   {
    "duration": 23,
    "start_time": "2023-03-15T10:29:46.383Z"
   },
   {
    "duration": 81,
    "start_time": "2023-03-15T10:29:46.409Z"
   },
   {
    "duration": 179,
    "start_time": "2023-03-15T10:29:46.494Z"
   },
   {
    "duration": 89,
    "start_time": "2023-03-15T10:29:46.675Z"
   },
   {
    "duration": 13,
    "start_time": "2023-03-15T10:29:46.766Z"
   },
   {
    "duration": 37,
    "start_time": "2023-03-15T10:29:46.781Z"
   },
   {
    "duration": 4,
    "start_time": "2023-03-15T10:29:46.820Z"
   },
   {
    "duration": 41,
    "start_time": "2023-03-15T10:29:46.825Z"
   },
   {
    "duration": 5,
    "start_time": "2023-03-15T10:29:46.867Z"
   },
   {
    "duration": 42,
    "start_time": "2023-03-15T10:29:46.874Z"
   },
   {
    "duration": 97,
    "start_time": "2023-03-15T10:29:46.918Z"
   },
   {
    "duration": 116,
    "start_time": "2023-03-15T10:29:47.016Z"
   },
   {
    "duration": 15,
    "start_time": "2023-03-15T10:29:47.133Z"
   },
   {
    "duration": 16,
    "start_time": "2023-03-15T10:29:47.150Z"
   },
   {
    "duration": 12,
    "start_time": "2023-03-15T10:29:47.168Z"
   },
   {
    "duration": 18,
    "start_time": "2023-03-15T10:29:47.182Z"
   },
   {
    "duration": 3,
    "start_time": "2023-03-15T10:29:47.202Z"
   },
   {
    "duration": 91,
    "start_time": "2023-03-15T10:29:47.207Z"
   },
   {
    "duration": 3,
    "start_time": "2023-03-15T10:29:47.299Z"
   },
   {
    "duration": 24,
    "start_time": "2023-03-15T10:29:47.303Z"
   },
   {
    "duration": 24,
    "start_time": "2023-03-15T10:29:47.329Z"
   },
   {
    "duration": 32,
    "start_time": "2023-03-15T10:29:47.355Z"
   },
   {
    "duration": 15,
    "start_time": "2023-03-15T10:29:47.389Z"
   },
   {
    "duration": 19,
    "start_time": "2023-03-15T10:29:47.406Z"
   },
   {
    "duration": 17,
    "start_time": "2023-03-15T10:29:47.443Z"
   },
   {
    "duration": 15,
    "start_time": "2023-03-15T10:34:16.218Z"
   },
   {
    "duration": 1716,
    "start_time": "2023-03-30T05:40:47.246Z"
   },
   {
    "duration": 568,
    "start_time": "2023-03-30T05:40:48.964Z"
   },
   {
    "duration": 19,
    "start_time": "2023-03-30T05:40:49.534Z"
   },
   {
    "duration": 12,
    "start_time": "2023-03-30T05:40:49.555Z"
   },
   {
    "duration": 37,
    "start_time": "2023-03-30T05:40:49.568Z"
   },
   {
    "duration": 66,
    "start_time": "2023-03-30T05:40:49.607Z"
   },
   {
    "duration": 153,
    "start_time": "2023-03-30T05:40:49.674Z"
   },
   {
    "duration": 28,
    "start_time": "2023-03-30T05:40:49.829Z"
   },
   {
    "duration": 57,
    "start_time": "2023-03-30T05:40:49.858Z"
   },
   {
    "duration": 12,
    "start_time": "2023-03-30T05:40:49.918Z"
   },
   {
    "duration": 21,
    "start_time": "2023-03-30T05:40:49.931Z"
   },
   {
    "duration": 41,
    "start_time": "2023-03-30T05:40:49.954Z"
   },
   {
    "duration": 12,
    "start_time": "2023-03-30T05:40:49.998Z"
   },
   {
    "duration": 34,
    "start_time": "2023-03-30T05:40:50.011Z"
   },
   {
    "duration": 322,
    "start_time": "2023-03-30T05:40:50.047Z"
   },
   {
    "duration": 47,
    "start_time": "2023-03-30T05:40:50.371Z"
   },
   {
    "duration": 22,
    "start_time": "2023-03-30T05:40:50.420Z"
   },
   {
    "duration": 60,
    "start_time": "2023-03-30T05:40:50.444Z"
   },
   {
    "duration": 8,
    "start_time": "2023-03-30T05:40:50.506Z"
   },
   {
    "duration": 20,
    "start_time": "2023-03-30T05:40:50.517Z"
   },
   {
    "duration": 26,
    "start_time": "2023-03-30T05:40:50.538Z"
   },
   {
    "duration": 45,
    "start_time": "2023-03-30T05:40:50.565Z"
   },
   {
    "duration": 76,
    "start_time": "2023-03-30T05:40:50.612Z"
   },
   {
    "duration": 165,
    "start_time": "2023-03-30T05:40:50.690Z"
   },
   {
    "duration": 95,
    "start_time": "2023-03-30T05:40:50.857Z"
   },
   {
    "duration": 11,
    "start_time": "2023-03-30T05:40:50.954Z"
   },
   {
    "duration": 187,
    "start_time": "2023-03-30T05:40:50.966Z"
   },
   {
    "duration": 4,
    "start_time": "2023-03-30T05:40:51.156Z"
   },
   {
    "duration": 65,
    "start_time": "2023-03-30T05:40:51.161Z"
   },
   {
    "duration": 61,
    "start_time": "2023-03-30T05:40:51.228Z"
   },
   {
    "duration": 58,
    "start_time": "2023-03-30T05:40:51.292Z"
   },
   {
    "duration": 102,
    "start_time": "2023-03-30T05:40:51.351Z"
   },
   {
    "duration": 111,
    "start_time": "2023-03-30T05:40:51.455Z"
   },
   {
    "duration": 5,
    "start_time": "2023-03-30T05:40:51.568Z"
   },
   {
    "duration": 53,
    "start_time": "2023-03-30T05:40:51.575Z"
   },
   {
    "duration": 24,
    "start_time": "2023-03-30T05:40:51.630Z"
   },
   {
    "duration": 23,
    "start_time": "2023-03-30T05:40:51.656Z"
   },
   {
    "duration": 20,
    "start_time": "2023-03-30T05:40:51.681Z"
   },
   {
    "duration": 72,
    "start_time": "2023-03-30T05:40:51.702Z"
   },
   {
    "duration": 2,
    "start_time": "2023-03-30T05:40:51.776Z"
   },
   {
    "duration": 33,
    "start_time": "2023-03-30T05:40:51.780Z"
   },
   {
    "duration": 17,
    "start_time": "2023-03-30T05:40:51.815Z"
   },
   {
    "duration": 13,
    "start_time": "2023-03-30T05:40:51.834Z"
   },
   {
    "duration": 13,
    "start_time": "2023-03-30T05:40:51.849Z"
   },
   {
    "duration": 25,
    "start_time": "2023-03-30T05:40:51.864Z"
   },
   {
    "duration": 28,
    "start_time": "2023-03-30T05:40:51.891Z"
   },
   {
    "duration": 5,
    "start_time": "2023-03-30T12:29:55.619Z"
   },
   {
    "duration": 209,
    "start_time": "2023-03-30T12:29:55.627Z"
   },
   {
    "duration": 22,
    "start_time": "2023-03-30T12:29:55.837Z"
   },
   {
    "duration": 8,
    "start_time": "2023-03-30T12:29:55.883Z"
   },
   {
    "duration": 28,
    "start_time": "2023-03-30T12:29:55.894Z"
   },
   {
    "duration": 80,
    "start_time": "2023-03-30T12:29:55.924Z"
   },
   {
    "duration": 154,
    "start_time": "2023-03-30T12:29:56.006Z"
   },
   {
    "duration": 44,
    "start_time": "2023-03-30T12:29:56.161Z"
   },
   {
    "duration": 52,
    "start_time": "2023-03-30T12:29:56.209Z"
   },
   {
    "duration": 30,
    "start_time": "2023-03-30T12:29:56.263Z"
   },
   {
    "duration": 8,
    "start_time": "2023-03-30T12:29:56.295Z"
   },
   {
    "duration": 71,
    "start_time": "2023-03-30T12:29:56.305Z"
   },
   {
    "duration": 10,
    "start_time": "2023-03-30T12:29:56.378Z"
   },
   {
    "duration": 14,
    "start_time": "2023-03-30T12:29:56.396Z"
   },
   {
    "duration": 242,
    "start_time": "2023-03-30T12:29:56.411Z"
   },
   {
    "duration": 48,
    "start_time": "2023-03-30T12:29:56.655Z"
   },
   {
    "duration": 25,
    "start_time": "2023-03-30T12:29:56.705Z"
   },
   {
    "duration": 93,
    "start_time": "2023-03-30T12:29:56.732Z"
   },
   {
    "duration": 9,
    "start_time": "2023-03-30T12:29:56.827Z"
   },
   {
    "duration": 22,
    "start_time": "2023-03-30T12:29:56.838Z"
   },
   {
    "duration": 11,
    "start_time": "2023-03-30T12:29:56.862Z"
   },
   {
    "duration": 48,
    "start_time": "2023-03-30T12:29:56.874Z"
   },
   {
    "duration": 77,
    "start_time": "2023-03-30T12:29:56.924Z"
   },
   {
    "duration": 184,
    "start_time": "2023-03-30T12:29:57.006Z"
   },
   {
    "duration": 76,
    "start_time": "2023-03-30T12:29:57.192Z"
   },
   {
    "duration": 27,
    "start_time": "2023-03-30T12:29:57.270Z"
   },
   {
    "duration": 96,
    "start_time": "2023-03-30T12:29:57.299Z"
   },
   {
    "duration": 16,
    "start_time": "2023-03-30T12:29:57.397Z"
   },
   {
    "duration": 39,
    "start_time": "2023-03-30T12:29:57.416Z"
   },
   {
    "duration": 5,
    "start_time": "2023-03-30T12:29:57.457Z"
   },
   {
    "duration": 78,
    "start_time": "2023-03-30T12:29:57.464Z"
   },
   {
    "duration": 105,
    "start_time": "2023-03-30T12:29:57.545Z"
   },
   {
    "duration": 107,
    "start_time": "2023-03-30T12:29:57.652Z"
   },
   {
    "duration": 6,
    "start_time": "2023-03-30T12:29:57.761Z"
   },
   {
    "duration": 55,
    "start_time": "2023-03-30T12:29:57.768Z"
   },
   {
    "duration": 54,
    "start_time": "2023-03-30T12:29:57.825Z"
   },
   {
    "duration": 42,
    "start_time": "2023-03-30T12:29:57.881Z"
   },
   {
    "duration": 2,
    "start_time": "2023-03-30T12:29:57.925Z"
   },
   {
    "duration": 96,
    "start_time": "2023-03-30T12:29:57.929Z"
   },
   {
    "duration": 3,
    "start_time": "2023-03-30T12:29:58.027Z"
   },
   {
    "duration": 50,
    "start_time": "2023-03-30T12:29:58.032Z"
   },
   {
    "duration": 38,
    "start_time": "2023-03-30T12:29:58.085Z"
   },
   {
    "duration": 12,
    "start_time": "2023-03-30T12:29:58.125Z"
   },
   {
    "duration": 16,
    "start_time": "2023-03-30T12:29:58.139Z"
   },
   {
    "duration": 21,
    "start_time": "2023-03-30T12:29:58.157Z"
   },
   {
    "duration": 45,
    "start_time": "2023-03-30T12:29:58.183Z"
   }
  ],
  "kernelspec": {
   "display_name": "Python 3 (ipykernel)",
   "language": "python",
   "name": "python3"
  },
  "language_info": {
   "codemirror_mode": {
    "name": "ipython",
    "version": 3
   },
   "file_extension": ".py",
   "mimetype": "text/x-python",
   "name": "python",
   "nbconvert_exporter": "python",
   "pygments_lexer": "ipython3",
   "version": "3.9.13"
  },
  "toc": {
   "base_numbering": 1,
   "nav_menu": {},
   "number_sections": true,
   "sideBar": true,
   "skip_h1_title": true,
   "title_cell": "Table of Contents",
   "title_sidebar": "Contents",
   "toc_cell": false,
   "toc_position": {},
   "toc_section_display": true,
   "toc_window_display": false
  }
 },
 "nbformat": 4,
 "nbformat_minor": 2
}
